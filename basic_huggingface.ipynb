{
  "nbformat": 4,
  "nbformat_minor": 5,
  "metadata": {
    "kernelspec": {
      "display_name": "Python 3",
      "language": "python",
      "name": "python3"
    },
    "language_info": {
      "codemirror_mode": {
        "name": "ipython",
        "version": 3
      },
      "file_extension": ".py",
      "mimetype": "text/x-python",
      "name": "python",
      "nbconvert_exporter": "python",
      "pygments_lexer": "ipython3",
      "version": "3.8.10"
    },
    "colab": {
      "name": "basic_huggingface.ipynb",
      "provenance": []
    },
    "accelerator": "GPU",
    "widgets": {
      "application/vnd.jupyter.widget-state+json": {
        "879a1ac9384d47bbab953fa8da973598": {
          "model_module": "@jupyter-widgets/controls",
          "model_name": "HBoxModel",
          "state": {
            "_view_name": "HBoxView",
            "_dom_classes": [],
            "_model_name": "HBoxModel",
            "_view_module": "@jupyter-widgets/controls",
            "_model_module_version": "1.5.0",
            "_view_count": null,
            "_view_module_version": "1.5.0",
            "box_style": "",
            "layout": "IPY_MODEL_002f85a627a84305b52b1d769991d6fe",
            "_model_module": "@jupyter-widgets/controls",
            "children": [
              "IPY_MODEL_80af1a7f05bc4cafbd2c8481ac164f1c",
              "IPY_MODEL_d0aeeb2445b843ac952557499f9b6e2b"
            ]
          }
        },
        "002f85a627a84305b52b1d769991d6fe": {
          "model_module": "@jupyter-widgets/base",
          "model_name": "LayoutModel",
          "state": {
            "_view_name": "LayoutView",
            "grid_template_rows": null,
            "right": null,
            "justify_content": null,
            "_view_module": "@jupyter-widgets/base",
            "overflow": null,
            "_model_module_version": "1.2.0",
            "_view_count": null,
            "flex_flow": null,
            "width": null,
            "min_width": null,
            "border": null,
            "align_items": null,
            "bottom": null,
            "_model_module": "@jupyter-widgets/base",
            "top": null,
            "grid_column": null,
            "overflow_y": null,
            "overflow_x": null,
            "grid_auto_flow": null,
            "grid_area": null,
            "grid_template_columns": null,
            "flex": null,
            "_model_name": "LayoutModel",
            "justify_items": null,
            "grid_row": null,
            "max_height": null,
            "align_content": null,
            "visibility": null,
            "align_self": null,
            "height": null,
            "min_height": null,
            "padding": null,
            "grid_auto_rows": null,
            "grid_gap": null,
            "max_width": null,
            "order": null,
            "_view_module_version": "1.2.0",
            "grid_template_areas": null,
            "object_position": null,
            "object_fit": null,
            "grid_auto_columns": null,
            "margin": null,
            "display": null,
            "left": null
          }
        },
        "80af1a7f05bc4cafbd2c8481ac164f1c": {
          "model_module": "@jupyter-widgets/controls",
          "model_name": "FloatProgressModel",
          "state": {
            "_view_name": "ProgressView",
            "style": "IPY_MODEL_c6fa4863ac3844efb043c0e097a1c2a4",
            "_dom_classes": [],
            "description": "Downloading: 100%",
            "_model_name": "FloatProgressModel",
            "bar_style": "success",
            "max": 882,
            "_view_module": "@jupyter-widgets/controls",
            "_model_module_version": "1.5.0",
            "value": 882,
            "_view_count": null,
            "_view_module_version": "1.5.0",
            "orientation": "horizontal",
            "min": 0,
            "description_tooltip": null,
            "_model_module": "@jupyter-widgets/controls",
            "layout": "IPY_MODEL_6c9cd77c6a4d4bb685df5b6454510a64"
          }
        },
        "d0aeeb2445b843ac952557499f9b6e2b": {
          "model_module": "@jupyter-widgets/controls",
          "model_name": "HTMLModel",
          "state": {
            "_view_name": "HTMLView",
            "style": "IPY_MODEL_a89a7f24ce774617a4344695325da19d",
            "_dom_classes": [],
            "description": "",
            "_model_name": "HTMLModel",
            "placeholder": "​",
            "_view_module": "@jupyter-widgets/controls",
            "_model_module_version": "1.5.0",
            "value": " 882/882 [00:00&lt;00:00, 1.76kB/s]",
            "_view_count": null,
            "_view_module_version": "1.5.0",
            "description_tooltip": null,
            "_model_module": "@jupyter-widgets/controls",
            "layout": "IPY_MODEL_6e3cb7de6ca2427dac6c92d0ea6437b0"
          }
        },
        "c6fa4863ac3844efb043c0e097a1c2a4": {
          "model_module": "@jupyter-widgets/controls",
          "model_name": "ProgressStyleModel",
          "state": {
            "_view_name": "StyleView",
            "_model_name": "ProgressStyleModel",
            "description_width": "initial",
            "_view_module": "@jupyter-widgets/base",
            "_model_module_version": "1.5.0",
            "_view_count": null,
            "_view_module_version": "1.2.0",
            "bar_color": null,
            "_model_module": "@jupyter-widgets/controls"
          }
        },
        "6c9cd77c6a4d4bb685df5b6454510a64": {
          "model_module": "@jupyter-widgets/base",
          "model_name": "LayoutModel",
          "state": {
            "_view_name": "LayoutView",
            "grid_template_rows": null,
            "right": null,
            "justify_content": null,
            "_view_module": "@jupyter-widgets/base",
            "overflow": null,
            "_model_module_version": "1.2.0",
            "_view_count": null,
            "flex_flow": null,
            "width": null,
            "min_width": null,
            "border": null,
            "align_items": null,
            "bottom": null,
            "_model_module": "@jupyter-widgets/base",
            "top": null,
            "grid_column": null,
            "overflow_y": null,
            "overflow_x": null,
            "grid_auto_flow": null,
            "grid_area": null,
            "grid_template_columns": null,
            "flex": null,
            "_model_name": "LayoutModel",
            "justify_items": null,
            "grid_row": null,
            "max_height": null,
            "align_content": null,
            "visibility": null,
            "align_self": null,
            "height": null,
            "min_height": null,
            "padding": null,
            "grid_auto_rows": null,
            "grid_gap": null,
            "max_width": null,
            "order": null,
            "_view_module_version": "1.2.0",
            "grid_template_areas": null,
            "object_position": null,
            "object_fit": null,
            "grid_auto_columns": null,
            "margin": null,
            "display": null,
            "left": null
          }
        },
        "a89a7f24ce774617a4344695325da19d": {
          "model_module": "@jupyter-widgets/controls",
          "model_name": "DescriptionStyleModel",
          "state": {
            "_view_name": "StyleView",
            "_model_name": "DescriptionStyleModel",
            "description_width": "",
            "_view_module": "@jupyter-widgets/base",
            "_model_module_version": "1.5.0",
            "_view_count": null,
            "_view_module_version": "1.2.0",
            "_model_module": "@jupyter-widgets/controls"
          }
        },
        "6e3cb7de6ca2427dac6c92d0ea6437b0": {
          "model_module": "@jupyter-widgets/base",
          "model_name": "LayoutModel",
          "state": {
            "_view_name": "LayoutView",
            "grid_template_rows": null,
            "right": null,
            "justify_content": null,
            "_view_module": "@jupyter-widgets/base",
            "overflow": null,
            "_model_module_version": "1.2.0",
            "_view_count": null,
            "flex_flow": null,
            "width": null,
            "min_width": null,
            "border": null,
            "align_items": null,
            "bottom": null,
            "_model_module": "@jupyter-widgets/base",
            "top": null,
            "grid_column": null,
            "overflow_y": null,
            "overflow_x": null,
            "grid_auto_flow": null,
            "grid_area": null,
            "grid_template_columns": null,
            "flex": null,
            "_model_name": "LayoutModel",
            "justify_items": null,
            "grid_row": null,
            "max_height": null,
            "align_content": null,
            "visibility": null,
            "align_self": null,
            "height": null,
            "min_height": null,
            "padding": null,
            "grid_auto_rows": null,
            "grid_gap": null,
            "max_width": null,
            "order": null,
            "_view_module_version": "1.2.0",
            "grid_template_areas": null,
            "object_position": null,
            "object_fit": null,
            "grid_auto_columns": null,
            "margin": null,
            "display": null,
            "left": null
          }
        },
        "404e20ab10504e4b8079201a35410677": {
          "model_module": "@jupyter-widgets/controls",
          "model_name": "HBoxModel",
          "state": {
            "_view_name": "HBoxView",
            "_dom_classes": [],
            "_model_name": "HBoxModel",
            "_view_module": "@jupyter-widgets/controls",
            "_model_module_version": "1.5.0",
            "_view_count": null,
            "_view_module_version": "1.5.0",
            "box_style": "",
            "layout": "IPY_MODEL_d1f4ddee183a41ada6d577958851cc16",
            "_model_module": "@jupyter-widgets/controls",
            "children": [
              "IPY_MODEL_27750d48ff2048adac1b03139367bffd",
              "IPY_MODEL_202c6c8692bf4562a27d20bd56eff02b"
            ]
          }
        },
        "d1f4ddee183a41ada6d577958851cc16": {
          "model_module": "@jupyter-widgets/base",
          "model_name": "LayoutModel",
          "state": {
            "_view_name": "LayoutView",
            "grid_template_rows": null,
            "right": null,
            "justify_content": null,
            "_view_module": "@jupyter-widgets/base",
            "overflow": null,
            "_model_module_version": "1.2.0",
            "_view_count": null,
            "flex_flow": null,
            "width": null,
            "min_width": null,
            "border": null,
            "align_items": null,
            "bottom": null,
            "_model_module": "@jupyter-widgets/base",
            "top": null,
            "grid_column": null,
            "overflow_y": null,
            "overflow_x": null,
            "grid_auto_flow": null,
            "grid_area": null,
            "grid_template_columns": null,
            "flex": null,
            "_model_name": "LayoutModel",
            "justify_items": null,
            "grid_row": null,
            "max_height": null,
            "align_content": null,
            "visibility": null,
            "align_self": null,
            "height": null,
            "min_height": null,
            "padding": null,
            "grid_auto_rows": null,
            "grid_gap": null,
            "max_width": null,
            "order": null,
            "_view_module_version": "1.2.0",
            "grid_template_areas": null,
            "object_position": null,
            "object_fit": null,
            "grid_auto_columns": null,
            "margin": null,
            "display": null,
            "left": null
          }
        },
        "27750d48ff2048adac1b03139367bffd": {
          "model_module": "@jupyter-widgets/controls",
          "model_name": "FloatProgressModel",
          "state": {
            "_view_name": "ProgressView",
            "style": "IPY_MODEL_14f60ae3f8bb471f92e7dd935f568689",
            "_dom_classes": [],
            "description": "Downloading: 100%",
            "_model_name": "FloatProgressModel",
            "bar_style": "success",
            "max": 442587593,
            "_view_module": "@jupyter-widgets/controls",
            "_model_module_version": "1.5.0",
            "value": 442587593,
            "_view_count": null,
            "_view_module_version": "1.5.0",
            "orientation": "horizontal",
            "min": 0,
            "description_tooltip": null,
            "_model_module": "@jupyter-widgets/controls",
            "layout": "IPY_MODEL_6fa70b4e9fb042448abd1611c8fdb7a3"
          }
        },
        "202c6c8692bf4562a27d20bd56eff02b": {
          "model_module": "@jupyter-widgets/controls",
          "model_name": "HTMLModel",
          "state": {
            "_view_name": "HTMLView",
            "style": "IPY_MODEL_bd008a71fa224b4fb8021830e0a8a563",
            "_dom_classes": [],
            "description": "",
            "_model_name": "HTMLModel",
            "placeholder": "​",
            "_view_module": "@jupyter-widgets/controls",
            "_model_module_version": "1.5.0",
            "value": " 443M/443M [00:08&lt;00:00, 49.2MB/s]",
            "_view_count": null,
            "_view_module_version": "1.5.0",
            "description_tooltip": null,
            "_model_module": "@jupyter-widgets/controls",
            "layout": "IPY_MODEL_b6bb5f8a3f7a4d428ee775a80540181d"
          }
        },
        "14f60ae3f8bb471f92e7dd935f568689": {
          "model_module": "@jupyter-widgets/controls",
          "model_name": "ProgressStyleModel",
          "state": {
            "_view_name": "StyleView",
            "_model_name": "ProgressStyleModel",
            "description_width": "initial",
            "_view_module": "@jupyter-widgets/base",
            "_model_module_version": "1.5.0",
            "_view_count": null,
            "_view_module_version": "1.2.0",
            "bar_color": null,
            "_model_module": "@jupyter-widgets/controls"
          }
        },
        "6fa70b4e9fb042448abd1611c8fdb7a3": {
          "model_module": "@jupyter-widgets/base",
          "model_name": "LayoutModel",
          "state": {
            "_view_name": "LayoutView",
            "grid_template_rows": null,
            "right": null,
            "justify_content": null,
            "_view_module": "@jupyter-widgets/base",
            "overflow": null,
            "_model_module_version": "1.2.0",
            "_view_count": null,
            "flex_flow": null,
            "width": null,
            "min_width": null,
            "border": null,
            "align_items": null,
            "bottom": null,
            "_model_module": "@jupyter-widgets/base",
            "top": null,
            "grid_column": null,
            "overflow_y": null,
            "overflow_x": null,
            "grid_auto_flow": null,
            "grid_area": null,
            "grid_template_columns": null,
            "flex": null,
            "_model_name": "LayoutModel",
            "justify_items": null,
            "grid_row": null,
            "max_height": null,
            "align_content": null,
            "visibility": null,
            "align_self": null,
            "height": null,
            "min_height": null,
            "padding": null,
            "grid_auto_rows": null,
            "grid_gap": null,
            "max_width": null,
            "order": null,
            "_view_module_version": "1.2.0",
            "grid_template_areas": null,
            "object_position": null,
            "object_fit": null,
            "grid_auto_columns": null,
            "margin": null,
            "display": null,
            "left": null
          }
        },
        "bd008a71fa224b4fb8021830e0a8a563": {
          "model_module": "@jupyter-widgets/controls",
          "model_name": "DescriptionStyleModel",
          "state": {
            "_view_name": "StyleView",
            "_model_name": "DescriptionStyleModel",
            "description_width": "",
            "_view_module": "@jupyter-widgets/base",
            "_model_module_version": "1.5.0",
            "_view_count": null,
            "_view_module_version": "1.2.0",
            "_model_module": "@jupyter-widgets/controls"
          }
        },
        "b6bb5f8a3f7a4d428ee775a80540181d": {
          "model_module": "@jupyter-widgets/base",
          "model_name": "LayoutModel",
          "state": {
            "_view_name": "LayoutView",
            "grid_template_rows": null,
            "right": null,
            "justify_content": null,
            "_view_module": "@jupyter-widgets/base",
            "overflow": null,
            "_model_module_version": "1.2.0",
            "_view_count": null,
            "flex_flow": null,
            "width": null,
            "min_width": null,
            "border": null,
            "align_items": null,
            "bottom": null,
            "_model_module": "@jupyter-widgets/base",
            "top": null,
            "grid_column": null,
            "overflow_y": null,
            "overflow_x": null,
            "grid_auto_flow": null,
            "grid_area": null,
            "grid_template_columns": null,
            "flex": null,
            "_model_name": "LayoutModel",
            "justify_items": null,
            "grid_row": null,
            "max_height": null,
            "align_content": null,
            "visibility": null,
            "align_self": null,
            "height": null,
            "min_height": null,
            "padding": null,
            "grid_auto_rows": null,
            "grid_gap": null,
            "max_width": null,
            "order": null,
            "_view_module_version": "1.2.0",
            "grid_template_areas": null,
            "object_position": null,
            "object_fit": null,
            "grid_auto_columns": null,
            "margin": null,
            "display": null,
            "left": null
          }
        },
        "84b38c4cdede497ba0543962be83fd9d": {
          "model_module": "@jupyter-widgets/controls",
          "model_name": "HBoxModel",
          "state": {
            "_view_name": "HBoxView",
            "_dom_classes": [],
            "_model_name": "HBoxModel",
            "_view_module": "@jupyter-widgets/controls",
            "_model_module_version": "1.5.0",
            "_view_count": null,
            "_view_module_version": "1.5.0",
            "box_style": "",
            "layout": "IPY_MODEL_680fb222cd104dd49e974549d5fa4e46",
            "_model_module": "@jupyter-widgets/controls",
            "children": [
              "IPY_MODEL_791faaa16aa345d2a483d163141b33b6",
              "IPY_MODEL_8cd4a9c0311c4a659826a4b679eb1af6"
            ]
          }
        },
        "680fb222cd104dd49e974549d5fa4e46": {
          "model_module": "@jupyter-widgets/base",
          "model_name": "LayoutModel",
          "state": {
            "_view_name": "LayoutView",
            "grid_template_rows": null,
            "right": null,
            "justify_content": null,
            "_view_module": "@jupyter-widgets/base",
            "overflow": null,
            "_model_module_version": "1.2.0",
            "_view_count": null,
            "flex_flow": null,
            "width": null,
            "min_width": null,
            "border": null,
            "align_items": null,
            "bottom": null,
            "_model_module": "@jupyter-widgets/base",
            "top": null,
            "grid_column": null,
            "overflow_y": null,
            "overflow_x": null,
            "grid_auto_flow": null,
            "grid_area": null,
            "grid_template_columns": null,
            "flex": null,
            "_model_name": "LayoutModel",
            "justify_items": null,
            "grid_row": null,
            "max_height": null,
            "align_content": null,
            "visibility": null,
            "align_self": null,
            "height": null,
            "min_height": null,
            "padding": null,
            "grid_auto_rows": null,
            "grid_gap": null,
            "max_width": null,
            "order": null,
            "_view_module_version": "1.2.0",
            "grid_template_areas": null,
            "object_position": null,
            "object_fit": null,
            "grid_auto_columns": null,
            "margin": null,
            "display": null,
            "left": null
          }
        },
        "791faaa16aa345d2a483d163141b33b6": {
          "model_module": "@jupyter-widgets/controls",
          "model_name": "FloatProgressModel",
          "state": {
            "_view_name": "ProgressView",
            "style": "IPY_MODEL_ff4498bb356e4610a1c7bb945c656d0c",
            "_dom_classes": [],
            "description": "Downloading: 100%",
            "_model_name": "FloatProgressModel",
            "bar_style": "success",
            "max": 433,
            "_view_module": "@jupyter-widgets/controls",
            "_model_module_version": "1.5.0",
            "value": 433,
            "_view_count": null,
            "_view_module_version": "1.5.0",
            "orientation": "horizontal",
            "min": 0,
            "description_tooltip": null,
            "_model_module": "@jupyter-widgets/controls",
            "layout": "IPY_MODEL_c707c498ef514154910c6adf8b4005ab"
          }
        },
        "8cd4a9c0311c4a659826a4b679eb1af6": {
          "model_module": "@jupyter-widgets/controls",
          "model_name": "HTMLModel",
          "state": {
            "_view_name": "HTMLView",
            "style": "IPY_MODEL_9e62cc3e44bc4ab2835d9edfcb9c8f61",
            "_dom_classes": [],
            "description": "",
            "_model_name": "HTMLModel",
            "placeholder": "​",
            "_view_module": "@jupyter-widgets/controls",
            "_model_module_version": "1.5.0",
            "value": " 433/433 [00:00&lt;00:00, 913B/s]",
            "_view_count": null,
            "_view_module_version": "1.5.0",
            "description_tooltip": null,
            "_model_module": "@jupyter-widgets/controls",
            "layout": "IPY_MODEL_ff72c4b9eab04538b797681d8d22f943"
          }
        },
        "ff4498bb356e4610a1c7bb945c656d0c": {
          "model_module": "@jupyter-widgets/controls",
          "model_name": "ProgressStyleModel",
          "state": {
            "_view_name": "StyleView",
            "_model_name": "ProgressStyleModel",
            "description_width": "initial",
            "_view_module": "@jupyter-widgets/base",
            "_model_module_version": "1.5.0",
            "_view_count": null,
            "_view_module_version": "1.2.0",
            "bar_color": null,
            "_model_module": "@jupyter-widgets/controls"
          }
        },
        "c707c498ef514154910c6adf8b4005ab": {
          "model_module": "@jupyter-widgets/base",
          "model_name": "LayoutModel",
          "state": {
            "_view_name": "LayoutView",
            "grid_template_rows": null,
            "right": null,
            "justify_content": null,
            "_view_module": "@jupyter-widgets/base",
            "overflow": null,
            "_model_module_version": "1.2.0",
            "_view_count": null,
            "flex_flow": null,
            "width": null,
            "min_width": null,
            "border": null,
            "align_items": null,
            "bottom": null,
            "_model_module": "@jupyter-widgets/base",
            "top": null,
            "grid_column": null,
            "overflow_y": null,
            "overflow_x": null,
            "grid_auto_flow": null,
            "grid_area": null,
            "grid_template_columns": null,
            "flex": null,
            "_model_name": "LayoutModel",
            "justify_items": null,
            "grid_row": null,
            "max_height": null,
            "align_content": null,
            "visibility": null,
            "align_self": null,
            "height": null,
            "min_height": null,
            "padding": null,
            "grid_auto_rows": null,
            "grid_gap": null,
            "max_width": null,
            "order": null,
            "_view_module_version": "1.2.0",
            "grid_template_areas": null,
            "object_position": null,
            "object_fit": null,
            "grid_auto_columns": null,
            "margin": null,
            "display": null,
            "left": null
          }
        },
        "9e62cc3e44bc4ab2835d9edfcb9c8f61": {
          "model_module": "@jupyter-widgets/controls",
          "model_name": "DescriptionStyleModel",
          "state": {
            "_view_name": "StyleView",
            "_model_name": "DescriptionStyleModel",
            "description_width": "",
            "_view_module": "@jupyter-widgets/base",
            "_model_module_version": "1.5.0",
            "_view_count": null,
            "_view_module_version": "1.2.0",
            "_model_module": "@jupyter-widgets/controls"
          }
        },
        "ff72c4b9eab04538b797681d8d22f943": {
          "model_module": "@jupyter-widgets/base",
          "model_name": "LayoutModel",
          "state": {
            "_view_name": "LayoutView",
            "grid_template_rows": null,
            "right": null,
            "justify_content": null,
            "_view_module": "@jupyter-widgets/base",
            "overflow": null,
            "_model_module_version": "1.2.0",
            "_view_count": null,
            "flex_flow": null,
            "width": null,
            "min_width": null,
            "border": null,
            "align_items": null,
            "bottom": null,
            "_model_module": "@jupyter-widgets/base",
            "top": null,
            "grid_column": null,
            "overflow_y": null,
            "overflow_x": null,
            "grid_auto_flow": null,
            "grid_area": null,
            "grid_template_columns": null,
            "flex": null,
            "_model_name": "LayoutModel",
            "justify_items": null,
            "grid_row": null,
            "max_height": null,
            "align_content": null,
            "visibility": null,
            "align_self": null,
            "height": null,
            "min_height": null,
            "padding": null,
            "grid_auto_rows": null,
            "grid_gap": null,
            "max_width": null,
            "order": null,
            "_view_module_version": "1.2.0",
            "grid_template_areas": null,
            "object_position": null,
            "object_fit": null,
            "grid_auto_columns": null,
            "margin": null,
            "display": null,
            "left": null
          }
        },
        "120d13b2d89a4b7eb93f31f1afa48b69": {
          "model_module": "@jupyter-widgets/controls",
          "model_name": "HBoxModel",
          "state": {
            "_view_name": "HBoxView",
            "_dom_classes": [],
            "_model_name": "HBoxModel",
            "_view_module": "@jupyter-widgets/controls",
            "_model_module_version": "1.5.0",
            "_view_count": null,
            "_view_module_version": "1.5.0",
            "box_style": "",
            "layout": "IPY_MODEL_f7e397300b2f4da3add2cedbb92333cc",
            "_model_module": "@jupyter-widgets/controls",
            "children": [
              "IPY_MODEL_7caf1f28dc2d4bdcbec6860cf7b98484",
              "IPY_MODEL_1924893a35824ee89f9d17ec9623b490"
            ]
          }
        },
        "f7e397300b2f4da3add2cedbb92333cc": {
          "model_module": "@jupyter-widgets/base",
          "model_name": "LayoutModel",
          "state": {
            "_view_name": "LayoutView",
            "grid_template_rows": null,
            "right": null,
            "justify_content": null,
            "_view_module": "@jupyter-widgets/base",
            "overflow": null,
            "_model_module_version": "1.2.0",
            "_view_count": null,
            "flex_flow": null,
            "width": null,
            "min_width": null,
            "border": null,
            "align_items": null,
            "bottom": null,
            "_model_module": "@jupyter-widgets/base",
            "top": null,
            "grid_column": null,
            "overflow_y": null,
            "overflow_x": null,
            "grid_auto_flow": null,
            "grid_area": null,
            "grid_template_columns": null,
            "flex": null,
            "_model_name": "LayoutModel",
            "justify_items": null,
            "grid_row": null,
            "max_height": null,
            "align_content": null,
            "visibility": null,
            "align_self": null,
            "height": null,
            "min_height": null,
            "padding": null,
            "grid_auto_rows": null,
            "grid_gap": null,
            "max_width": null,
            "order": null,
            "_view_module_version": "1.2.0",
            "grid_template_areas": null,
            "object_position": null,
            "object_fit": null,
            "grid_auto_columns": null,
            "margin": null,
            "display": null,
            "left": null
          }
        },
        "7caf1f28dc2d4bdcbec6860cf7b98484": {
          "model_module": "@jupyter-widgets/controls",
          "model_name": "FloatProgressModel",
          "state": {
            "_view_name": "ProgressView",
            "style": "IPY_MODEL_30dbe37be2934a1b9e089a103e9492fb",
            "_dom_classes": [],
            "description": "Downloading: 100%",
            "_model_name": "FloatProgressModel",
            "bar_style": "success",
            "max": 810912,
            "_view_module": "@jupyter-widgets/controls",
            "_model_module_version": "1.5.0",
            "value": 810912,
            "_view_count": null,
            "_view_module_version": "1.5.0",
            "orientation": "horizontal",
            "min": 0,
            "description_tooltip": null,
            "_model_module": "@jupyter-widgets/controls",
            "layout": "IPY_MODEL_969952a598ed4bd4883e6abb50a8ce52"
          }
        },
        "1924893a35824ee89f9d17ec9623b490": {
          "model_module": "@jupyter-widgets/controls",
          "model_name": "HTMLModel",
          "state": {
            "_view_name": "HTMLView",
            "style": "IPY_MODEL_24b990c95d6f4dbe9e34ac881c8e34a9",
            "_dom_classes": [],
            "description": "",
            "_model_name": "HTMLModel",
            "placeholder": "​",
            "_view_module": "@jupyter-widgets/controls",
            "_model_module_version": "1.5.0",
            "value": " 811k/811k [00:00&lt;00:00, 2.46MB/s]",
            "_view_count": null,
            "_view_module_version": "1.5.0",
            "description_tooltip": null,
            "_model_module": "@jupyter-widgets/controls",
            "layout": "IPY_MODEL_8faddd3927fa4f768591efdac11e45f1"
          }
        },
        "30dbe37be2934a1b9e089a103e9492fb": {
          "model_module": "@jupyter-widgets/controls",
          "model_name": "ProgressStyleModel",
          "state": {
            "_view_name": "StyleView",
            "_model_name": "ProgressStyleModel",
            "description_width": "initial",
            "_view_module": "@jupyter-widgets/base",
            "_model_module_version": "1.5.0",
            "_view_count": null,
            "_view_module_version": "1.2.0",
            "bar_color": null,
            "_model_module": "@jupyter-widgets/controls"
          }
        },
        "969952a598ed4bd4883e6abb50a8ce52": {
          "model_module": "@jupyter-widgets/base",
          "model_name": "LayoutModel",
          "state": {
            "_view_name": "LayoutView",
            "grid_template_rows": null,
            "right": null,
            "justify_content": null,
            "_view_module": "@jupyter-widgets/base",
            "overflow": null,
            "_model_module_version": "1.2.0",
            "_view_count": null,
            "flex_flow": null,
            "width": null,
            "min_width": null,
            "border": null,
            "align_items": null,
            "bottom": null,
            "_model_module": "@jupyter-widgets/base",
            "top": null,
            "grid_column": null,
            "overflow_y": null,
            "overflow_x": null,
            "grid_auto_flow": null,
            "grid_area": null,
            "grid_template_columns": null,
            "flex": null,
            "_model_name": "LayoutModel",
            "justify_items": null,
            "grid_row": null,
            "max_height": null,
            "align_content": null,
            "visibility": null,
            "align_self": null,
            "height": null,
            "min_height": null,
            "padding": null,
            "grid_auto_rows": null,
            "grid_gap": null,
            "max_width": null,
            "order": null,
            "_view_module_version": "1.2.0",
            "grid_template_areas": null,
            "object_position": null,
            "object_fit": null,
            "grid_auto_columns": null,
            "margin": null,
            "display": null,
            "left": null
          }
        },
        "24b990c95d6f4dbe9e34ac881c8e34a9": {
          "model_module": "@jupyter-widgets/controls",
          "model_name": "DescriptionStyleModel",
          "state": {
            "_view_name": "StyleView",
            "_model_name": "DescriptionStyleModel",
            "description_width": "",
            "_view_module": "@jupyter-widgets/base",
            "_model_module_version": "1.5.0",
            "_view_count": null,
            "_view_module_version": "1.2.0",
            "_model_module": "@jupyter-widgets/controls"
          }
        },
        "8faddd3927fa4f768591efdac11e45f1": {
          "model_module": "@jupyter-widgets/base",
          "model_name": "LayoutModel",
          "state": {
            "_view_name": "LayoutView",
            "grid_template_rows": null,
            "right": null,
            "justify_content": null,
            "_view_module": "@jupyter-widgets/base",
            "overflow": null,
            "_model_module_version": "1.2.0",
            "_view_count": null,
            "flex_flow": null,
            "width": null,
            "min_width": null,
            "border": null,
            "align_items": null,
            "bottom": null,
            "_model_module": "@jupyter-widgets/base",
            "top": null,
            "grid_column": null,
            "overflow_y": null,
            "overflow_x": null,
            "grid_auto_flow": null,
            "grid_area": null,
            "grid_template_columns": null,
            "flex": null,
            "_model_name": "LayoutModel",
            "justify_items": null,
            "grid_row": null,
            "max_height": null,
            "align_content": null,
            "visibility": null,
            "align_self": null,
            "height": null,
            "min_height": null,
            "padding": null,
            "grid_auto_rows": null,
            "grid_gap": null,
            "max_width": null,
            "order": null,
            "_view_module_version": "1.2.0",
            "grid_template_areas": null,
            "object_position": null,
            "object_fit": null,
            "grid_auto_columns": null,
            "margin": null,
            "display": null,
            "left": null
          }
        },
        "a3e70adcd64d45c9b06722d0fd7c9b61": {
          "model_module": "@jupyter-widgets/controls",
          "model_name": "HBoxModel",
          "state": {
            "_view_name": "HBoxView",
            "_dom_classes": [],
            "_model_name": "HBoxModel",
            "_view_module": "@jupyter-widgets/controls",
            "_model_module_version": "1.5.0",
            "_view_count": null,
            "_view_module_version": "1.5.0",
            "box_style": "",
            "layout": "IPY_MODEL_1d1081c00ac446eaa6c7bdf00a9ced00",
            "_model_module": "@jupyter-widgets/controls",
            "children": [
              "IPY_MODEL_cce89b52511b454482a4bda39a47df4d",
              "IPY_MODEL_4090a0d902054b0e94d1e315a95eb515"
            ]
          }
        },
        "1d1081c00ac446eaa6c7bdf00a9ced00": {
          "model_module": "@jupyter-widgets/base",
          "model_name": "LayoutModel",
          "state": {
            "_view_name": "LayoutView",
            "grid_template_rows": null,
            "right": null,
            "justify_content": null,
            "_view_module": "@jupyter-widgets/base",
            "overflow": null,
            "_model_module_version": "1.2.0",
            "_view_count": null,
            "flex_flow": null,
            "width": null,
            "min_width": null,
            "border": null,
            "align_items": null,
            "bottom": null,
            "_model_module": "@jupyter-widgets/base",
            "top": null,
            "grid_column": null,
            "overflow_y": null,
            "overflow_x": null,
            "grid_auto_flow": null,
            "grid_area": null,
            "grid_template_columns": null,
            "flex": null,
            "_model_name": "LayoutModel",
            "justify_items": null,
            "grid_row": null,
            "max_height": null,
            "align_content": null,
            "visibility": null,
            "align_self": null,
            "height": null,
            "min_height": null,
            "padding": null,
            "grid_auto_rows": null,
            "grid_gap": null,
            "max_width": null,
            "order": null,
            "_view_module_version": "1.2.0",
            "grid_template_areas": null,
            "object_position": null,
            "object_fit": null,
            "grid_auto_columns": null,
            "margin": null,
            "display": null,
            "left": null
          }
        },
        "cce89b52511b454482a4bda39a47df4d": {
          "model_module": "@jupyter-widgets/controls",
          "model_name": "FloatProgressModel",
          "state": {
            "_view_name": "ProgressView",
            "style": "IPY_MODEL_bfb48a23f7bc42a3ab60d19a1e00a959",
            "_dom_classes": [],
            "description": "Downloading: 100%",
            "_model_name": "FloatProgressModel",
            "bar_style": "success",
            "max": 299,
            "_view_module": "@jupyter-widgets/controls",
            "_model_module_version": "1.5.0",
            "value": 299,
            "_view_count": null,
            "_view_module_version": "1.5.0",
            "orientation": "horizontal",
            "min": 0,
            "description_tooltip": null,
            "_model_module": "@jupyter-widgets/controls",
            "layout": "IPY_MODEL_a8dca550db3e4f4a89102578fda7063f"
          }
        },
        "4090a0d902054b0e94d1e315a95eb515": {
          "model_module": "@jupyter-widgets/controls",
          "model_name": "HTMLModel",
          "state": {
            "_view_name": "HTMLView",
            "style": "IPY_MODEL_9ecd733e0ac34a3f95e1a5f94b4344fc",
            "_dom_classes": [],
            "description": "",
            "_model_name": "HTMLModel",
            "placeholder": "​",
            "_view_module": "@jupyter-widgets/controls",
            "_model_module_version": "1.5.0",
            "value": " 299/299 [00:00&lt;00:00, 2.04kB/s]",
            "_view_count": null,
            "_view_module_version": "1.5.0",
            "description_tooltip": null,
            "_model_module": "@jupyter-widgets/controls",
            "layout": "IPY_MODEL_293dbb0a26a949898c94f80c7e26afd9"
          }
        },
        "bfb48a23f7bc42a3ab60d19a1e00a959": {
          "model_module": "@jupyter-widgets/controls",
          "model_name": "ProgressStyleModel",
          "state": {
            "_view_name": "StyleView",
            "_model_name": "ProgressStyleModel",
            "description_width": "initial",
            "_view_module": "@jupyter-widgets/base",
            "_model_module_version": "1.5.0",
            "_view_count": null,
            "_view_module_version": "1.2.0",
            "bar_color": null,
            "_model_module": "@jupyter-widgets/controls"
          }
        },
        "a8dca550db3e4f4a89102578fda7063f": {
          "model_module": "@jupyter-widgets/base",
          "model_name": "LayoutModel",
          "state": {
            "_view_name": "LayoutView",
            "grid_template_rows": null,
            "right": null,
            "justify_content": null,
            "_view_module": "@jupyter-widgets/base",
            "overflow": null,
            "_model_module_version": "1.2.0",
            "_view_count": null,
            "flex_flow": null,
            "width": null,
            "min_width": null,
            "border": null,
            "align_items": null,
            "bottom": null,
            "_model_module": "@jupyter-widgets/base",
            "top": null,
            "grid_column": null,
            "overflow_y": null,
            "overflow_x": null,
            "grid_auto_flow": null,
            "grid_area": null,
            "grid_template_columns": null,
            "flex": null,
            "_model_name": "LayoutModel",
            "justify_items": null,
            "grid_row": null,
            "max_height": null,
            "align_content": null,
            "visibility": null,
            "align_self": null,
            "height": null,
            "min_height": null,
            "padding": null,
            "grid_auto_rows": null,
            "grid_gap": null,
            "max_width": null,
            "order": null,
            "_view_module_version": "1.2.0",
            "grid_template_areas": null,
            "object_position": null,
            "object_fit": null,
            "grid_auto_columns": null,
            "margin": null,
            "display": null,
            "left": null
          }
        },
        "9ecd733e0ac34a3f95e1a5f94b4344fc": {
          "model_module": "@jupyter-widgets/controls",
          "model_name": "DescriptionStyleModel",
          "state": {
            "_view_name": "StyleView",
            "_model_name": "DescriptionStyleModel",
            "description_width": "",
            "_view_module": "@jupyter-widgets/base",
            "_model_module_version": "1.5.0",
            "_view_count": null,
            "_view_module_version": "1.2.0",
            "_model_module": "@jupyter-widgets/controls"
          }
        },
        "293dbb0a26a949898c94f80c7e26afd9": {
          "model_module": "@jupyter-widgets/base",
          "model_name": "LayoutModel",
          "state": {
            "_view_name": "LayoutView",
            "grid_template_rows": null,
            "right": null,
            "justify_content": null,
            "_view_module": "@jupyter-widgets/base",
            "overflow": null,
            "_model_module_version": "1.2.0",
            "_view_count": null,
            "flex_flow": null,
            "width": null,
            "min_width": null,
            "border": null,
            "align_items": null,
            "bottom": null,
            "_model_module": "@jupyter-widgets/base",
            "top": null,
            "grid_column": null,
            "overflow_y": null,
            "overflow_x": null,
            "grid_auto_flow": null,
            "grid_area": null,
            "grid_template_columns": null,
            "flex": null,
            "_model_name": "LayoutModel",
            "justify_items": null,
            "grid_row": null,
            "max_height": null,
            "align_content": null,
            "visibility": null,
            "align_self": null,
            "height": null,
            "min_height": null,
            "padding": null,
            "grid_auto_rows": null,
            "grid_gap": null,
            "max_width": null,
            "order": null,
            "_view_module_version": "1.2.0",
            "grid_template_areas": null,
            "object_position": null,
            "object_fit": null,
            "grid_auto_columns": null,
            "margin": null,
            "display": null,
            "left": null
          }
        },
        "d4b16337e927462e83745af7de9e4782": {
          "model_module": "@jupyter-widgets/controls",
          "model_name": "HBoxModel",
          "state": {
            "_view_name": "HBoxView",
            "_dom_classes": [],
            "_model_name": "HBoxModel",
            "_view_module": "@jupyter-widgets/controls",
            "_model_module_version": "1.5.0",
            "_view_count": null,
            "_view_module_version": "1.5.0",
            "box_style": "",
            "layout": "IPY_MODEL_1f59727e973b481bac6cb75a7f2dd4f2",
            "_model_module": "@jupyter-widgets/controls",
            "children": [
              "IPY_MODEL_4fffb7053e064029a5d4402fe92dc3df",
              "IPY_MODEL_3868715ebdd34f2bbc32f190631dfbb6"
            ]
          }
        },
        "1f59727e973b481bac6cb75a7f2dd4f2": {
          "model_module": "@jupyter-widgets/base",
          "model_name": "LayoutModel",
          "state": {
            "_view_name": "LayoutView",
            "grid_template_rows": null,
            "right": null,
            "justify_content": null,
            "_view_module": "@jupyter-widgets/base",
            "overflow": null,
            "_model_module_version": "1.2.0",
            "_view_count": null,
            "flex_flow": null,
            "width": null,
            "min_width": null,
            "border": null,
            "align_items": null,
            "bottom": null,
            "_model_module": "@jupyter-widgets/base",
            "top": null,
            "grid_column": null,
            "overflow_y": null,
            "overflow_x": null,
            "grid_auto_flow": null,
            "grid_area": null,
            "grid_template_columns": null,
            "flex": null,
            "_model_name": "LayoutModel",
            "justify_items": null,
            "grid_row": null,
            "max_height": null,
            "align_content": null,
            "visibility": null,
            "align_self": null,
            "height": null,
            "min_height": null,
            "padding": null,
            "grid_auto_rows": null,
            "grid_gap": null,
            "max_width": null,
            "order": null,
            "_view_module_version": "1.2.0",
            "grid_template_areas": null,
            "object_position": null,
            "object_fit": null,
            "grid_auto_columns": null,
            "margin": null,
            "display": null,
            "left": null
          }
        },
        "4fffb7053e064029a5d4402fe92dc3df": {
          "model_module": "@jupyter-widgets/controls",
          "model_name": "FloatProgressModel",
          "state": {
            "_view_name": "ProgressView",
            "style": "IPY_MODEL_4a284f6274f14190b57699c87d68bff3",
            "_dom_classes": [],
            "description": "Downloading: 100%",
            "_model_name": "FloatProgressModel",
            "bar_style": "success",
            "max": 1465,
            "_view_module": "@jupyter-widgets/controls",
            "_model_module_version": "1.5.0",
            "value": 1465,
            "_view_count": null,
            "_view_module_version": "1.5.0",
            "orientation": "horizontal",
            "min": 0,
            "description_tooltip": null,
            "_model_module": "@jupyter-widgets/controls",
            "layout": "IPY_MODEL_6583018022654f66927bc1445cded675"
          }
        },
        "3868715ebdd34f2bbc32f190631dfbb6": {
          "model_module": "@jupyter-widgets/controls",
          "model_name": "HTMLModel",
          "state": {
            "_view_name": "HTMLView",
            "style": "IPY_MODEL_9fd47735c2b149578ee99eaf40dde659",
            "_dom_classes": [],
            "description": "",
            "_model_name": "HTMLModel",
            "placeholder": "​",
            "_view_module": "@jupyter-widgets/controls",
            "_model_module_version": "1.5.0",
            "value": " 1.47k/1.47k [00:00&lt;00:00, 15.8kB/s]",
            "_view_count": null,
            "_view_module_version": "1.5.0",
            "description_tooltip": null,
            "_model_module": "@jupyter-widgets/controls",
            "layout": "IPY_MODEL_af2ff367e7a84614a6fed341b9f173a3"
          }
        },
        "4a284f6274f14190b57699c87d68bff3": {
          "model_module": "@jupyter-widgets/controls",
          "model_name": "ProgressStyleModel",
          "state": {
            "_view_name": "StyleView",
            "_model_name": "ProgressStyleModel",
            "description_width": "initial",
            "_view_module": "@jupyter-widgets/base",
            "_model_module_version": "1.5.0",
            "_view_count": null,
            "_view_module_version": "1.2.0",
            "bar_color": null,
            "_model_module": "@jupyter-widgets/controls"
          }
        },
        "6583018022654f66927bc1445cded675": {
          "model_module": "@jupyter-widgets/base",
          "model_name": "LayoutModel",
          "state": {
            "_view_name": "LayoutView",
            "grid_template_rows": null,
            "right": null,
            "justify_content": null,
            "_view_module": "@jupyter-widgets/base",
            "overflow": null,
            "_model_module_version": "1.2.0",
            "_view_count": null,
            "flex_flow": null,
            "width": null,
            "min_width": null,
            "border": null,
            "align_items": null,
            "bottom": null,
            "_model_module": "@jupyter-widgets/base",
            "top": null,
            "grid_column": null,
            "overflow_y": null,
            "overflow_x": null,
            "grid_auto_flow": null,
            "grid_area": null,
            "grid_template_columns": null,
            "flex": null,
            "_model_name": "LayoutModel",
            "justify_items": null,
            "grid_row": null,
            "max_height": null,
            "align_content": null,
            "visibility": null,
            "align_self": null,
            "height": null,
            "min_height": null,
            "padding": null,
            "grid_auto_rows": null,
            "grid_gap": null,
            "max_width": null,
            "order": null,
            "_view_module_version": "1.2.0",
            "grid_template_areas": null,
            "object_position": null,
            "object_fit": null,
            "grid_auto_columns": null,
            "margin": null,
            "display": null,
            "left": null
          }
        },
        "9fd47735c2b149578ee99eaf40dde659": {
          "model_module": "@jupyter-widgets/controls",
          "model_name": "DescriptionStyleModel",
          "state": {
            "_view_name": "StyleView",
            "_model_name": "DescriptionStyleModel",
            "description_width": "",
            "_view_module": "@jupyter-widgets/base",
            "_model_module_version": "1.5.0",
            "_view_count": null,
            "_view_module_version": "1.2.0",
            "_model_module": "@jupyter-widgets/controls"
          }
        },
        "af2ff367e7a84614a6fed341b9f173a3": {
          "model_module": "@jupyter-widgets/base",
          "model_name": "LayoutModel",
          "state": {
            "_view_name": "LayoutView",
            "grid_template_rows": null,
            "right": null,
            "justify_content": null,
            "_view_module": "@jupyter-widgets/base",
            "overflow": null,
            "_model_module_version": "1.2.0",
            "_view_count": null,
            "flex_flow": null,
            "width": null,
            "min_width": null,
            "border": null,
            "align_items": null,
            "bottom": null,
            "_model_module": "@jupyter-widgets/base",
            "top": null,
            "grid_column": null,
            "overflow_y": null,
            "overflow_x": null,
            "grid_auto_flow": null,
            "grid_area": null,
            "grid_template_columns": null,
            "flex": null,
            "_model_name": "LayoutModel",
            "justify_items": null,
            "grid_row": null,
            "max_height": null,
            "align_content": null,
            "visibility": null,
            "align_self": null,
            "height": null,
            "min_height": null,
            "padding": null,
            "grid_auto_rows": null,
            "grid_gap": null,
            "max_width": null,
            "order": null,
            "_view_module_version": "1.2.0",
            "grid_template_areas": null,
            "object_position": null,
            "object_fit": null,
            "grid_auto_columns": null,
            "margin": null,
            "display": null,
            "left": null
          }
        },
        "089fa4f3a0714df4ad6dbe6ec3d0b66c": {
          "model_module": "@jupyter-widgets/controls",
          "model_name": "HBoxModel",
          "state": {
            "_view_name": "HBoxView",
            "_dom_classes": [],
            "_model_name": "HBoxModel",
            "_view_module": "@jupyter-widgets/controls",
            "_model_module_version": "1.5.0",
            "_view_count": null,
            "_view_module_version": "1.5.0",
            "box_style": "",
            "layout": "IPY_MODEL_0db24cf2a1714aeba79d6253afed5819",
            "_model_module": "@jupyter-widgets/controls",
            "children": [
              "IPY_MODEL_5965b90f995c4b2297e626fbeb6f504c",
              "IPY_MODEL_d16af874bd4544ecbedb4d116a646f74"
            ]
          }
        },
        "0db24cf2a1714aeba79d6253afed5819": {
          "model_module": "@jupyter-widgets/base",
          "model_name": "LayoutModel",
          "state": {
            "_view_name": "LayoutView",
            "grid_template_rows": null,
            "right": null,
            "justify_content": null,
            "_view_module": "@jupyter-widgets/base",
            "overflow": null,
            "_model_module_version": "1.2.0",
            "_view_count": null,
            "flex_flow": null,
            "width": null,
            "min_width": null,
            "border": null,
            "align_items": null,
            "bottom": null,
            "_model_module": "@jupyter-widgets/base",
            "top": null,
            "grid_column": null,
            "overflow_y": null,
            "overflow_x": null,
            "grid_auto_flow": null,
            "grid_area": null,
            "grid_template_columns": null,
            "flex": null,
            "_model_name": "LayoutModel",
            "justify_items": null,
            "grid_row": null,
            "max_height": null,
            "align_content": null,
            "visibility": null,
            "align_self": null,
            "height": null,
            "min_height": null,
            "padding": null,
            "grid_auto_rows": null,
            "grid_gap": null,
            "max_width": null,
            "order": null,
            "_view_module_version": "1.2.0",
            "grid_template_areas": null,
            "object_position": null,
            "object_fit": null,
            "grid_auto_columns": null,
            "margin": null,
            "display": null,
            "left": null
          }
        },
        "5965b90f995c4b2297e626fbeb6f504c": {
          "model_module": "@jupyter-widgets/controls",
          "model_name": "FloatProgressModel",
          "state": {
            "_view_name": "ProgressView",
            "style": "IPY_MODEL_202a99d3db2f480cbfc8f726d600bc48",
            "_dom_classes": [],
            "description": "Downloading: 100%",
            "_model_name": "FloatProgressModel",
            "bar_style": "success",
            "max": 864357306,
            "_view_module": "@jupyter-widgets/controls",
            "_model_module_version": "1.5.0",
            "value": 864357306,
            "_view_count": null,
            "_view_module_version": "1.5.0",
            "orientation": "horizontal",
            "min": 0,
            "description_tooltip": null,
            "_model_module": "@jupyter-widgets/controls",
            "layout": "IPY_MODEL_e55407f2fa4441e082ba387260598409"
          }
        },
        "d16af874bd4544ecbedb4d116a646f74": {
          "model_module": "@jupyter-widgets/controls",
          "model_name": "HTMLModel",
          "state": {
            "_view_name": "HTMLView",
            "style": "IPY_MODEL_69b163cd535242aa92f651993324a22e",
            "_dom_classes": [],
            "description": "",
            "_model_name": "HTMLModel",
            "placeholder": "​",
            "_view_module": "@jupyter-widgets/controls",
            "_model_module_version": "1.5.0",
            "value": " 864M/864M [00:22&lt;00:00, 38.2MB/s]",
            "_view_count": null,
            "_view_module_version": "1.5.0",
            "description_tooltip": null,
            "_model_module": "@jupyter-widgets/controls",
            "layout": "IPY_MODEL_da0b84cc8ae545d1b9f1354fa3ef8ddf"
          }
        },
        "202a99d3db2f480cbfc8f726d600bc48": {
          "model_module": "@jupyter-widgets/controls",
          "model_name": "ProgressStyleModel",
          "state": {
            "_view_name": "StyleView",
            "_model_name": "ProgressStyleModel",
            "description_width": "initial",
            "_view_module": "@jupyter-widgets/base",
            "_model_module_version": "1.5.0",
            "_view_count": null,
            "_view_module_version": "1.2.0",
            "bar_color": null,
            "_model_module": "@jupyter-widgets/controls"
          }
        },
        "e55407f2fa4441e082ba387260598409": {
          "model_module": "@jupyter-widgets/base",
          "model_name": "LayoutModel",
          "state": {
            "_view_name": "LayoutView",
            "grid_template_rows": null,
            "right": null,
            "justify_content": null,
            "_view_module": "@jupyter-widgets/base",
            "overflow": null,
            "_model_module_version": "1.2.0",
            "_view_count": null,
            "flex_flow": null,
            "width": null,
            "min_width": null,
            "border": null,
            "align_items": null,
            "bottom": null,
            "_model_module": "@jupyter-widgets/base",
            "top": null,
            "grid_column": null,
            "overflow_y": null,
            "overflow_x": null,
            "grid_auto_flow": null,
            "grid_area": null,
            "grid_template_columns": null,
            "flex": null,
            "_model_name": "LayoutModel",
            "justify_items": null,
            "grid_row": null,
            "max_height": null,
            "align_content": null,
            "visibility": null,
            "align_self": null,
            "height": null,
            "min_height": null,
            "padding": null,
            "grid_auto_rows": null,
            "grid_gap": null,
            "max_width": null,
            "order": null,
            "_view_module_version": "1.2.0",
            "grid_template_areas": null,
            "object_position": null,
            "object_fit": null,
            "grid_auto_columns": null,
            "margin": null,
            "display": null,
            "left": null
          }
        },
        "69b163cd535242aa92f651993324a22e": {
          "model_module": "@jupyter-widgets/controls",
          "model_name": "DescriptionStyleModel",
          "state": {
            "_view_name": "StyleView",
            "_model_name": "DescriptionStyleModel",
            "description_width": "",
            "_view_module": "@jupyter-widgets/base",
            "_model_module_version": "1.5.0",
            "_view_count": null,
            "_view_module_version": "1.2.0",
            "_model_module": "@jupyter-widgets/controls"
          }
        },
        "da0b84cc8ae545d1b9f1354fa3ef8ddf": {
          "model_module": "@jupyter-widgets/base",
          "model_name": "LayoutModel",
          "state": {
            "_view_name": "LayoutView",
            "grid_template_rows": null,
            "right": null,
            "justify_content": null,
            "_view_module": "@jupyter-widgets/base",
            "overflow": null,
            "_model_module_version": "1.2.0",
            "_view_count": null,
            "flex_flow": null,
            "width": null,
            "min_width": null,
            "border": null,
            "align_items": null,
            "bottom": null,
            "_model_module": "@jupyter-widgets/base",
            "top": null,
            "grid_column": null,
            "overflow_y": null,
            "overflow_x": null,
            "grid_auto_flow": null,
            "grid_area": null,
            "grid_template_columns": null,
            "flex": null,
            "_model_name": "LayoutModel",
            "justify_items": null,
            "grid_row": null,
            "max_height": null,
            "align_content": null,
            "visibility": null,
            "align_self": null,
            "height": null,
            "min_height": null,
            "padding": null,
            "grid_auto_rows": null,
            "grid_gap": null,
            "max_width": null,
            "order": null,
            "_view_module_version": "1.2.0",
            "grid_template_areas": null,
            "object_position": null,
            "object_fit": null,
            "grid_auto_columns": null,
            "margin": null,
            "display": null,
            "left": null
          }
        },
        "049914e13b024294a5b3030ecd14db6e": {
          "model_module": "@jupyter-widgets/controls",
          "model_name": "HBoxModel",
          "state": {
            "_view_name": "HBoxView",
            "_dom_classes": [],
            "_model_name": "HBoxModel",
            "_view_module": "@jupyter-widgets/controls",
            "_model_module_version": "1.5.0",
            "_view_count": null,
            "_view_module_version": "1.5.0",
            "box_style": "",
            "layout": "IPY_MODEL_43ad968787c847b6b1ed4f23c1b2dcaa",
            "_model_module": "@jupyter-widgets/controls",
            "children": [
              "IPY_MODEL_ae27ab059a264d2c87be07cee2936d8c",
              "IPY_MODEL_21adb7d8778b4630b63150e2be4854bb"
            ]
          }
        },
        "43ad968787c847b6b1ed4f23c1b2dcaa": {
          "model_module": "@jupyter-widgets/base",
          "model_name": "LayoutModel",
          "state": {
            "_view_name": "LayoutView",
            "grid_template_rows": null,
            "right": null,
            "justify_content": null,
            "_view_module": "@jupyter-widgets/base",
            "overflow": null,
            "_model_module_version": "1.2.0",
            "_view_count": null,
            "flex_flow": null,
            "width": null,
            "min_width": null,
            "border": null,
            "align_items": null,
            "bottom": null,
            "_model_module": "@jupyter-widgets/base",
            "top": null,
            "grid_column": null,
            "overflow_y": null,
            "overflow_x": null,
            "grid_auto_flow": null,
            "grid_area": null,
            "grid_template_columns": null,
            "flex": null,
            "_model_name": "LayoutModel",
            "justify_items": null,
            "grid_row": null,
            "max_height": null,
            "align_content": null,
            "visibility": null,
            "align_self": null,
            "height": null,
            "min_height": null,
            "padding": null,
            "grid_auto_rows": null,
            "grid_gap": null,
            "max_width": null,
            "order": null,
            "_view_module_version": "1.2.0",
            "grid_template_areas": null,
            "object_position": null,
            "object_fit": null,
            "grid_auto_columns": null,
            "margin": null,
            "display": null,
            "left": null
          }
        },
        "ae27ab059a264d2c87be07cee2936d8c": {
          "model_module": "@jupyter-widgets/controls",
          "model_name": "FloatProgressModel",
          "state": {
            "_view_name": "ProgressView",
            "style": "IPY_MODEL_40dbea4b39024f78a927225a249e764f",
            "_dom_classes": [],
            "description": "Downloading: 100%",
            "_model_name": "FloatProgressModel",
            "bar_style": "success",
            "max": 1115393,
            "_view_module": "@jupyter-widgets/controls",
            "_model_module_version": "1.5.0",
            "value": 1115393,
            "_view_count": null,
            "_view_module_version": "1.5.0",
            "orientation": "horizontal",
            "min": 0,
            "description_tooltip": null,
            "_model_module": "@jupyter-widgets/controls",
            "layout": "IPY_MODEL_f48d6c4321584a92887e20be885dc882"
          }
        },
        "21adb7d8778b4630b63150e2be4854bb": {
          "model_module": "@jupyter-widgets/controls",
          "model_name": "HTMLModel",
          "state": {
            "_view_name": "HTMLView",
            "style": "IPY_MODEL_ecb1bf5538e146648b78fbfc7c5ba786",
            "_dom_classes": [],
            "description": "",
            "_model_name": "HTMLModel",
            "placeholder": "​",
            "_view_module": "@jupyter-widgets/controls",
            "_model_module_version": "1.5.0",
            "value": " 1.12M/1.12M [00:00&lt;00:00, 6.31MB/s]",
            "_view_count": null,
            "_view_module_version": "1.5.0",
            "description_tooltip": null,
            "_model_module": "@jupyter-widgets/controls",
            "layout": "IPY_MODEL_a0235a0ffa38405890bdd33953b05827"
          }
        },
        "40dbea4b39024f78a927225a249e764f": {
          "model_module": "@jupyter-widgets/controls",
          "model_name": "ProgressStyleModel",
          "state": {
            "_view_name": "StyleView",
            "_model_name": "ProgressStyleModel",
            "description_width": "initial",
            "_view_module": "@jupyter-widgets/base",
            "_model_module_version": "1.5.0",
            "_view_count": null,
            "_view_module_version": "1.2.0",
            "bar_color": null,
            "_model_module": "@jupyter-widgets/controls"
          }
        },
        "f48d6c4321584a92887e20be885dc882": {
          "model_module": "@jupyter-widgets/base",
          "model_name": "LayoutModel",
          "state": {
            "_view_name": "LayoutView",
            "grid_template_rows": null,
            "right": null,
            "justify_content": null,
            "_view_module": "@jupyter-widgets/base",
            "overflow": null,
            "_model_module_version": "1.2.0",
            "_view_count": null,
            "flex_flow": null,
            "width": null,
            "min_width": null,
            "border": null,
            "align_items": null,
            "bottom": null,
            "_model_module": "@jupyter-widgets/base",
            "top": null,
            "grid_column": null,
            "overflow_y": null,
            "overflow_x": null,
            "grid_auto_flow": null,
            "grid_area": null,
            "grid_template_columns": null,
            "flex": null,
            "_model_name": "LayoutModel",
            "justify_items": null,
            "grid_row": null,
            "max_height": null,
            "align_content": null,
            "visibility": null,
            "align_self": null,
            "height": null,
            "min_height": null,
            "padding": null,
            "grid_auto_rows": null,
            "grid_gap": null,
            "max_width": null,
            "order": null,
            "_view_module_version": "1.2.0",
            "grid_template_areas": null,
            "object_position": null,
            "object_fit": null,
            "grid_auto_columns": null,
            "margin": null,
            "display": null,
            "left": null
          }
        },
        "ecb1bf5538e146648b78fbfc7c5ba786": {
          "model_module": "@jupyter-widgets/controls",
          "model_name": "DescriptionStyleModel",
          "state": {
            "_view_name": "StyleView",
            "_model_name": "DescriptionStyleModel",
            "description_width": "",
            "_view_module": "@jupyter-widgets/base",
            "_model_module_version": "1.5.0",
            "_view_count": null,
            "_view_module_version": "1.2.0",
            "_model_module": "@jupyter-widgets/controls"
          }
        },
        "a0235a0ffa38405890bdd33953b05827": {
          "model_module": "@jupyter-widgets/base",
          "model_name": "LayoutModel",
          "state": {
            "_view_name": "LayoutView",
            "grid_template_rows": null,
            "right": null,
            "justify_content": null,
            "_view_module": "@jupyter-widgets/base",
            "overflow": null,
            "_model_module_version": "1.2.0",
            "_view_count": null,
            "flex_flow": null,
            "width": null,
            "min_width": null,
            "border": null,
            "align_items": null,
            "bottom": null,
            "_model_module": "@jupyter-widgets/base",
            "top": null,
            "grid_column": null,
            "overflow_y": null,
            "overflow_x": null,
            "grid_auto_flow": null,
            "grid_area": null,
            "grid_template_columns": null,
            "flex": null,
            "_model_name": "LayoutModel",
            "justify_items": null,
            "grid_row": null,
            "max_height": null,
            "align_content": null,
            "visibility": null,
            "align_self": null,
            "height": null,
            "min_height": null,
            "padding": null,
            "grid_auto_rows": null,
            "grid_gap": null,
            "max_width": null,
            "order": null,
            "_view_module_version": "1.2.0",
            "grid_template_areas": null,
            "object_position": null,
            "object_fit": null,
            "grid_auto_columns": null,
            "margin": null,
            "display": null,
            "left": null
          }
        },
        "426c9331fc814c62a238e0c4ae53b618": {
          "model_module": "@jupyter-widgets/controls",
          "model_name": "HBoxModel",
          "state": {
            "_view_name": "HBoxView",
            "_dom_classes": [],
            "_model_name": "HBoxModel",
            "_view_module": "@jupyter-widgets/controls",
            "_model_module_version": "1.5.0",
            "_view_count": null,
            "_view_module_version": "1.5.0",
            "box_style": "",
            "layout": "IPY_MODEL_c6a444d9c2d54dfa9303eeba604cc82a",
            "_model_module": "@jupyter-widgets/controls",
            "children": [
              "IPY_MODEL_2be0cd5491e446e1bd6d17c364470cea",
              "IPY_MODEL_3f2428df555043b7942999ddb38a34b8"
            ]
          }
        },
        "c6a444d9c2d54dfa9303eeba604cc82a": {
          "model_module": "@jupyter-widgets/base",
          "model_name": "LayoutModel",
          "state": {
            "_view_name": "LayoutView",
            "grid_template_rows": null,
            "right": null,
            "justify_content": null,
            "_view_module": "@jupyter-widgets/base",
            "overflow": null,
            "_model_module_version": "1.2.0",
            "_view_count": null,
            "flex_flow": null,
            "width": null,
            "min_width": null,
            "border": null,
            "align_items": null,
            "bottom": null,
            "_model_module": "@jupyter-widgets/base",
            "top": null,
            "grid_column": null,
            "overflow_y": null,
            "overflow_x": null,
            "grid_auto_flow": null,
            "grid_area": null,
            "grid_template_columns": null,
            "flex": null,
            "_model_name": "LayoutModel",
            "justify_items": null,
            "grid_row": null,
            "max_height": null,
            "align_content": null,
            "visibility": null,
            "align_self": null,
            "height": null,
            "min_height": null,
            "padding": null,
            "grid_auto_rows": null,
            "grid_gap": null,
            "max_width": null,
            "order": null,
            "_view_module_version": "1.2.0",
            "grid_template_areas": null,
            "object_position": null,
            "object_fit": null,
            "grid_auto_columns": null,
            "margin": null,
            "display": null,
            "left": null
          }
        },
        "2be0cd5491e446e1bd6d17c364470cea": {
          "model_module": "@jupyter-widgets/controls",
          "model_name": "FloatProgressModel",
          "state": {
            "_view_name": "ProgressView",
            "style": "IPY_MODEL_6cafe898814042fdb73d669f038d70f6",
            "_dom_classes": [],
            "description": "Downloading: 100%",
            "_model_name": "FloatProgressModel",
            "bar_style": "success",
            "max": 2630980,
            "_view_module": "@jupyter-widgets/controls",
            "_model_module_version": "1.5.0",
            "value": 2630980,
            "_view_count": null,
            "_view_module_version": "1.5.0",
            "orientation": "horizontal",
            "min": 0,
            "description_tooltip": null,
            "_model_module": "@jupyter-widgets/controls",
            "layout": "IPY_MODEL_07597ff7d64a41798cecc963913724f6"
          }
        },
        "3f2428df555043b7942999ddb38a34b8": {
          "model_module": "@jupyter-widgets/controls",
          "model_name": "HTMLModel",
          "state": {
            "_view_name": "HTMLView",
            "style": "IPY_MODEL_9583df3cdd11423f9c54eb41b798ff71",
            "_dom_classes": [],
            "description": "",
            "_model_name": "HTMLModel",
            "placeholder": "​",
            "_view_module": "@jupyter-widgets/controls",
            "_model_module_version": "1.5.0",
            "value": " 2.63M/2.63M [00:00&lt;00:00, 5.69MB/s]",
            "_view_count": null,
            "_view_module_version": "1.5.0",
            "description_tooltip": null,
            "_model_module": "@jupyter-widgets/controls",
            "layout": "IPY_MODEL_037665145a7f4697a9a7ddac541764ef"
          }
        },
        "6cafe898814042fdb73d669f038d70f6": {
          "model_module": "@jupyter-widgets/controls",
          "model_name": "ProgressStyleModel",
          "state": {
            "_view_name": "StyleView",
            "_model_name": "ProgressStyleModel",
            "description_width": "initial",
            "_view_module": "@jupyter-widgets/base",
            "_model_module_version": "1.5.0",
            "_view_count": null,
            "_view_module_version": "1.2.0",
            "bar_color": null,
            "_model_module": "@jupyter-widgets/controls"
          }
        },
        "07597ff7d64a41798cecc963913724f6": {
          "model_module": "@jupyter-widgets/base",
          "model_name": "LayoutModel",
          "state": {
            "_view_name": "LayoutView",
            "grid_template_rows": null,
            "right": null,
            "justify_content": null,
            "_view_module": "@jupyter-widgets/base",
            "overflow": null,
            "_model_module_version": "1.2.0",
            "_view_count": null,
            "flex_flow": null,
            "width": null,
            "min_width": null,
            "border": null,
            "align_items": null,
            "bottom": null,
            "_model_module": "@jupyter-widgets/base",
            "top": null,
            "grid_column": null,
            "overflow_y": null,
            "overflow_x": null,
            "grid_auto_flow": null,
            "grid_area": null,
            "grid_template_columns": null,
            "flex": null,
            "_model_name": "LayoutModel",
            "justify_items": null,
            "grid_row": null,
            "max_height": null,
            "align_content": null,
            "visibility": null,
            "align_self": null,
            "height": null,
            "min_height": null,
            "padding": null,
            "grid_auto_rows": null,
            "grid_gap": null,
            "max_width": null,
            "order": null,
            "_view_module_version": "1.2.0",
            "grid_template_areas": null,
            "object_position": null,
            "object_fit": null,
            "grid_auto_columns": null,
            "margin": null,
            "display": null,
            "left": null
          }
        },
        "9583df3cdd11423f9c54eb41b798ff71": {
          "model_module": "@jupyter-widgets/controls",
          "model_name": "DescriptionStyleModel",
          "state": {
            "_view_name": "StyleView",
            "_model_name": "DescriptionStyleModel",
            "description_width": "",
            "_view_module": "@jupyter-widgets/base",
            "_model_module_version": "1.5.0",
            "_view_count": null,
            "_view_module_version": "1.2.0",
            "_model_module": "@jupyter-widgets/controls"
          }
        },
        "037665145a7f4697a9a7ddac541764ef": {
          "model_module": "@jupyter-widgets/base",
          "model_name": "LayoutModel",
          "state": {
            "_view_name": "LayoutView",
            "grid_template_rows": null,
            "right": null,
            "justify_content": null,
            "_view_module": "@jupyter-widgets/base",
            "overflow": null,
            "_model_module_version": "1.2.0",
            "_view_count": null,
            "flex_flow": null,
            "width": null,
            "min_width": null,
            "border": null,
            "align_items": null,
            "bottom": null,
            "_model_module": "@jupyter-widgets/base",
            "top": null,
            "grid_column": null,
            "overflow_y": null,
            "overflow_x": null,
            "grid_auto_flow": null,
            "grid_area": null,
            "grid_template_columns": null,
            "flex": null,
            "_model_name": "LayoutModel",
            "justify_items": null,
            "grid_row": null,
            "max_height": null,
            "align_content": null,
            "visibility": null,
            "align_self": null,
            "height": null,
            "min_height": null,
            "padding": null,
            "grid_auto_rows": null,
            "grid_gap": null,
            "max_width": null,
            "order": null,
            "_view_module_version": "1.2.0",
            "grid_template_areas": null,
            "object_position": null,
            "object_fit": null,
            "grid_auto_columns": null,
            "margin": null,
            "display": null,
            "left": null
          }
        },
        "189c9fa476194bc2a9a605eb9cc5c744": {
          "model_module": "@jupyter-widgets/controls",
          "model_name": "HBoxModel",
          "state": {
            "_view_name": "HBoxView",
            "_dom_classes": [],
            "_model_name": "HBoxModel",
            "_view_module": "@jupyter-widgets/controls",
            "_model_module_version": "1.5.0",
            "_view_count": null,
            "_view_module_version": "1.5.0",
            "box_style": "",
            "layout": "IPY_MODEL_dfdb634acaa74e2abe3cb18a5cb5d94c",
            "_model_module": "@jupyter-widgets/controls",
            "children": [
              "IPY_MODEL_393ba60f7d634aa287140c0cec81dc27",
              "IPY_MODEL_bc10a460a42e4843bafa4851540ad112"
            ]
          }
        },
        "dfdb634acaa74e2abe3cb18a5cb5d94c": {
          "model_module": "@jupyter-widgets/base",
          "model_name": "LayoutModel",
          "state": {
            "_view_name": "LayoutView",
            "grid_template_rows": null,
            "right": null,
            "justify_content": null,
            "_view_module": "@jupyter-widgets/base",
            "overflow": null,
            "_model_module_version": "1.2.0",
            "_view_count": null,
            "flex_flow": null,
            "width": null,
            "min_width": null,
            "border": null,
            "align_items": null,
            "bottom": null,
            "_model_module": "@jupyter-widgets/base",
            "top": null,
            "grid_column": null,
            "overflow_y": null,
            "overflow_x": null,
            "grid_auto_flow": null,
            "grid_area": null,
            "grid_template_columns": null,
            "flex": null,
            "_model_name": "LayoutModel",
            "justify_items": null,
            "grid_row": null,
            "max_height": null,
            "align_content": null,
            "visibility": null,
            "align_self": null,
            "height": null,
            "min_height": null,
            "padding": null,
            "grid_auto_rows": null,
            "grid_gap": null,
            "max_width": null,
            "order": null,
            "_view_module_version": "1.2.0",
            "grid_template_areas": null,
            "object_position": null,
            "object_fit": null,
            "grid_auto_columns": null,
            "margin": null,
            "display": null,
            "left": null
          }
        },
        "393ba60f7d634aa287140c0cec81dc27": {
          "model_module": "@jupyter-widgets/controls",
          "model_name": "FloatProgressModel",
          "state": {
            "_view_name": "ProgressView",
            "style": "IPY_MODEL_42b3c45beb8e434e902fe71c59fd8b19",
            "_dom_classes": [],
            "description": "Downloading: 100%",
            "_model_name": "FloatProgressModel",
            "bar_style": "success",
            "max": 876,
            "_view_module": "@jupyter-widgets/controls",
            "_model_module_version": "1.5.0",
            "value": 876,
            "_view_count": null,
            "_view_module_version": "1.5.0",
            "orientation": "horizontal",
            "min": 0,
            "description_tooltip": null,
            "_model_module": "@jupyter-widgets/controls",
            "layout": "IPY_MODEL_f3b225a5f0dc40708debee6c17594bd9"
          }
        },
        "bc10a460a42e4843bafa4851540ad112": {
          "model_module": "@jupyter-widgets/controls",
          "model_name": "HTMLModel",
          "state": {
            "_view_name": "HTMLView",
            "style": "IPY_MODEL_c45641bc4907486ca4905492b42176d8",
            "_dom_classes": [],
            "description": "",
            "_model_name": "HTMLModel",
            "placeholder": "​",
            "_view_module": "@jupyter-widgets/controls",
            "_model_module_version": "1.5.0",
            "value": " 876/876 [00:00&lt;00:00, 2.70kB/s]",
            "_view_count": null,
            "_view_module_version": "1.5.0",
            "description_tooltip": null,
            "_model_module": "@jupyter-widgets/controls",
            "layout": "IPY_MODEL_fcf8c4fec531421f94344bf1836df374"
          }
        },
        "42b3c45beb8e434e902fe71c59fd8b19": {
          "model_module": "@jupyter-widgets/controls",
          "model_name": "ProgressStyleModel",
          "state": {
            "_view_name": "StyleView",
            "_model_name": "ProgressStyleModel",
            "description_width": "initial",
            "_view_module": "@jupyter-widgets/base",
            "_model_module_version": "1.5.0",
            "_view_count": null,
            "_view_module_version": "1.2.0",
            "bar_color": null,
            "_model_module": "@jupyter-widgets/controls"
          }
        },
        "f3b225a5f0dc40708debee6c17594bd9": {
          "model_module": "@jupyter-widgets/base",
          "model_name": "LayoutModel",
          "state": {
            "_view_name": "LayoutView",
            "grid_template_rows": null,
            "right": null,
            "justify_content": null,
            "_view_module": "@jupyter-widgets/base",
            "overflow": null,
            "_model_module_version": "1.2.0",
            "_view_count": null,
            "flex_flow": null,
            "width": null,
            "min_width": null,
            "border": null,
            "align_items": null,
            "bottom": null,
            "_model_module": "@jupyter-widgets/base",
            "top": null,
            "grid_column": null,
            "overflow_y": null,
            "overflow_x": null,
            "grid_auto_flow": null,
            "grid_area": null,
            "grid_template_columns": null,
            "flex": null,
            "_model_name": "LayoutModel",
            "justify_items": null,
            "grid_row": null,
            "max_height": null,
            "align_content": null,
            "visibility": null,
            "align_self": null,
            "height": null,
            "min_height": null,
            "padding": null,
            "grid_auto_rows": null,
            "grid_gap": null,
            "max_width": null,
            "order": null,
            "_view_module_version": "1.2.0",
            "grid_template_areas": null,
            "object_position": null,
            "object_fit": null,
            "grid_auto_columns": null,
            "margin": null,
            "display": null,
            "left": null
          }
        },
        "c45641bc4907486ca4905492b42176d8": {
          "model_module": "@jupyter-widgets/controls",
          "model_name": "DescriptionStyleModel",
          "state": {
            "_view_name": "StyleView",
            "_model_name": "DescriptionStyleModel",
            "description_width": "",
            "_view_module": "@jupyter-widgets/base",
            "_model_module_version": "1.5.0",
            "_view_count": null,
            "_view_module_version": "1.2.0",
            "_model_module": "@jupyter-widgets/controls"
          }
        },
        "fcf8c4fec531421f94344bf1836df374": {
          "model_module": "@jupyter-widgets/base",
          "model_name": "LayoutModel",
          "state": {
            "_view_name": "LayoutView",
            "grid_template_rows": null,
            "right": null,
            "justify_content": null,
            "_view_module": "@jupyter-widgets/base",
            "overflow": null,
            "_model_module_version": "1.2.0",
            "_view_count": null,
            "flex_flow": null,
            "width": null,
            "min_width": null,
            "border": null,
            "align_items": null,
            "bottom": null,
            "_model_module": "@jupyter-widgets/base",
            "top": null,
            "grid_column": null,
            "overflow_y": null,
            "overflow_x": null,
            "grid_auto_flow": null,
            "grid_area": null,
            "grid_template_columns": null,
            "flex": null,
            "_model_name": "LayoutModel",
            "justify_items": null,
            "grid_row": null,
            "max_height": null,
            "align_content": null,
            "visibility": null,
            "align_self": null,
            "height": null,
            "min_height": null,
            "padding": null,
            "grid_auto_rows": null,
            "grid_gap": null,
            "max_width": null,
            "order": null,
            "_view_module_version": "1.2.0",
            "grid_template_areas": null,
            "object_position": null,
            "object_fit": null,
            "grid_auto_columns": null,
            "margin": null,
            "display": null,
            "left": null
          }
        },
        "991af72bb08949ea85be2c01f16c6bd4": {
          "model_module": "@jupyter-widgets/controls",
          "model_name": "HBoxModel",
          "state": {
            "_view_name": "HBoxView",
            "_dom_classes": [],
            "_model_name": "HBoxModel",
            "_view_module": "@jupyter-widgets/controls",
            "_model_module_version": "1.5.0",
            "_view_count": null,
            "_view_module_version": "1.5.0",
            "box_style": "",
            "layout": "IPY_MODEL_0a636670fb4e4ddf91797a32904da073",
            "_model_module": "@jupyter-widgets/controls",
            "children": [
              "IPY_MODEL_e3363325eb1341b68dff5e76d2610a9a",
              "IPY_MODEL_f8e1968510184bb399e6f1f241002149"
            ]
          }
        },
        "0a636670fb4e4ddf91797a32904da073": {
          "model_module": "@jupyter-widgets/base",
          "model_name": "LayoutModel",
          "state": {
            "_view_name": "LayoutView",
            "grid_template_rows": null,
            "right": null,
            "justify_content": null,
            "_view_module": "@jupyter-widgets/base",
            "overflow": null,
            "_model_module_version": "1.2.0",
            "_view_count": null,
            "flex_flow": null,
            "width": null,
            "min_width": null,
            "border": null,
            "align_items": null,
            "bottom": null,
            "_model_module": "@jupyter-widgets/base",
            "top": null,
            "grid_column": null,
            "overflow_y": null,
            "overflow_x": null,
            "grid_auto_flow": null,
            "grid_area": null,
            "grid_template_columns": null,
            "flex": null,
            "_model_name": "LayoutModel",
            "justify_items": null,
            "grid_row": null,
            "max_height": null,
            "align_content": null,
            "visibility": null,
            "align_self": null,
            "height": null,
            "min_height": null,
            "padding": null,
            "grid_auto_rows": null,
            "grid_gap": null,
            "max_width": null,
            "order": null,
            "_view_module_version": "1.2.0",
            "grid_template_areas": null,
            "object_position": null,
            "object_fit": null,
            "grid_auto_columns": null,
            "margin": null,
            "display": null,
            "left": null
          }
        },
        "e3363325eb1341b68dff5e76d2610a9a": {
          "model_module": "@jupyter-widgets/controls",
          "model_name": "FloatProgressModel",
          "state": {
            "_view_name": "ProgressView",
            "style": "IPY_MODEL_eb0ebc9acd9f443ca31ed1ca83194688",
            "_dom_classes": [],
            "description": "Downloading: 100%",
            "_model_name": "FloatProgressModel",
            "bar_style": "success",
            "max": 440227047,
            "_view_module": "@jupyter-widgets/controls",
            "_model_module_version": "1.5.0",
            "value": 440227047,
            "_view_count": null,
            "_view_module_version": "1.5.0",
            "orientation": "horizontal",
            "min": 0,
            "description_tooltip": null,
            "_model_module": "@jupyter-widgets/controls",
            "layout": "IPY_MODEL_40969f693ce24971be58506846162a9c"
          }
        },
        "f8e1968510184bb399e6f1f241002149": {
          "model_module": "@jupyter-widgets/controls",
          "model_name": "HTMLModel",
          "state": {
            "_view_name": "HTMLView",
            "style": "IPY_MODEL_a3704119ab9d41878c645d83d0fb661b",
            "_dom_classes": [],
            "description": "",
            "_model_name": "HTMLModel",
            "placeholder": "​",
            "_view_module": "@jupyter-widgets/controls",
            "_model_module_version": "1.5.0",
            "value": " 440M/440M [00:11&lt;00:00, 37.0MB/s]",
            "_view_count": null,
            "_view_module_version": "1.5.0",
            "description_tooltip": null,
            "_model_module": "@jupyter-widgets/controls",
            "layout": "IPY_MODEL_c6207f97d7444fb2bd049e4d41c26ed4"
          }
        },
        "eb0ebc9acd9f443ca31ed1ca83194688": {
          "model_module": "@jupyter-widgets/controls",
          "model_name": "ProgressStyleModel",
          "state": {
            "_view_name": "StyleView",
            "_model_name": "ProgressStyleModel",
            "description_width": "initial",
            "_view_module": "@jupyter-widgets/base",
            "_model_module_version": "1.5.0",
            "_view_count": null,
            "_view_module_version": "1.2.0",
            "bar_color": null,
            "_model_module": "@jupyter-widgets/controls"
          }
        },
        "40969f693ce24971be58506846162a9c": {
          "model_module": "@jupyter-widgets/base",
          "model_name": "LayoutModel",
          "state": {
            "_view_name": "LayoutView",
            "grid_template_rows": null,
            "right": null,
            "justify_content": null,
            "_view_module": "@jupyter-widgets/base",
            "overflow": null,
            "_model_module_version": "1.2.0",
            "_view_count": null,
            "flex_flow": null,
            "width": null,
            "min_width": null,
            "border": null,
            "align_items": null,
            "bottom": null,
            "_model_module": "@jupyter-widgets/base",
            "top": null,
            "grid_column": null,
            "overflow_y": null,
            "overflow_x": null,
            "grid_auto_flow": null,
            "grid_area": null,
            "grid_template_columns": null,
            "flex": null,
            "_model_name": "LayoutModel",
            "justify_items": null,
            "grid_row": null,
            "max_height": null,
            "align_content": null,
            "visibility": null,
            "align_self": null,
            "height": null,
            "min_height": null,
            "padding": null,
            "grid_auto_rows": null,
            "grid_gap": null,
            "max_width": null,
            "order": null,
            "_view_module_version": "1.2.0",
            "grid_template_areas": null,
            "object_position": null,
            "object_fit": null,
            "grid_auto_columns": null,
            "margin": null,
            "display": null,
            "left": null
          }
        },
        "a3704119ab9d41878c645d83d0fb661b": {
          "model_module": "@jupyter-widgets/controls",
          "model_name": "DescriptionStyleModel",
          "state": {
            "_view_name": "StyleView",
            "_model_name": "DescriptionStyleModel",
            "description_width": "",
            "_view_module": "@jupyter-widgets/base",
            "_model_module_version": "1.5.0",
            "_view_count": null,
            "_view_module_version": "1.2.0",
            "_model_module": "@jupyter-widgets/controls"
          }
        },
        "c6207f97d7444fb2bd049e4d41c26ed4": {
          "model_module": "@jupyter-widgets/base",
          "model_name": "LayoutModel",
          "state": {
            "_view_name": "LayoutView",
            "grid_template_rows": null,
            "right": null,
            "justify_content": null,
            "_view_module": "@jupyter-widgets/base",
            "overflow": null,
            "_model_module_version": "1.2.0",
            "_view_count": null,
            "flex_flow": null,
            "width": null,
            "min_width": null,
            "border": null,
            "align_items": null,
            "bottom": null,
            "_model_module": "@jupyter-widgets/base",
            "top": null,
            "grid_column": null,
            "overflow_y": null,
            "overflow_x": null,
            "grid_auto_flow": null,
            "grid_area": null,
            "grid_template_columns": null,
            "flex": null,
            "_model_name": "LayoutModel",
            "justify_items": null,
            "grid_row": null,
            "max_height": null,
            "align_content": null,
            "visibility": null,
            "align_self": null,
            "height": null,
            "min_height": null,
            "padding": null,
            "grid_auto_rows": null,
            "grid_gap": null,
            "max_width": null,
            "order": null,
            "_view_module_version": "1.2.0",
            "grid_template_areas": null,
            "object_position": null,
            "object_fit": null,
            "grid_auto_columns": null,
            "margin": null,
            "display": null,
            "left": null
          }
        },
        "43913c4ad3224f808c3886f8bdff3709": {
          "model_module": "@jupyter-widgets/controls",
          "model_name": "HBoxModel",
          "state": {
            "_view_name": "HBoxView",
            "_dom_classes": [],
            "_model_name": "HBoxModel",
            "_view_module": "@jupyter-widgets/controls",
            "_model_module_version": "1.5.0",
            "_view_count": null,
            "_view_module_version": "1.5.0",
            "box_style": "",
            "layout": "IPY_MODEL_f26fa9ee08f14305bc3d5d64a96bef36",
            "_model_module": "@jupyter-widgets/controls",
            "children": [
              "IPY_MODEL_9509418cfe2346b48cf607eee166501d",
              "IPY_MODEL_3f54e989619048ed87cfe3373492cb92"
            ]
          }
        },
        "f26fa9ee08f14305bc3d5d64a96bef36": {
          "model_module": "@jupyter-widgets/base",
          "model_name": "LayoutModel",
          "state": {
            "_view_name": "LayoutView",
            "grid_template_rows": null,
            "right": null,
            "justify_content": null,
            "_view_module": "@jupyter-widgets/base",
            "overflow": null,
            "_model_module_version": "1.2.0",
            "_view_count": null,
            "flex_flow": null,
            "width": null,
            "min_width": null,
            "border": null,
            "align_items": null,
            "bottom": null,
            "_model_module": "@jupyter-widgets/base",
            "top": null,
            "grid_column": null,
            "overflow_y": null,
            "overflow_x": null,
            "grid_auto_flow": null,
            "grid_area": null,
            "grid_template_columns": null,
            "flex": null,
            "_model_name": "LayoutModel",
            "justify_items": null,
            "grid_row": null,
            "max_height": null,
            "align_content": null,
            "visibility": null,
            "align_self": null,
            "height": null,
            "min_height": null,
            "padding": null,
            "grid_auto_rows": null,
            "grid_gap": null,
            "max_width": null,
            "order": null,
            "_view_module_version": "1.2.0",
            "grid_template_areas": null,
            "object_position": null,
            "object_fit": null,
            "grid_auto_columns": null,
            "margin": null,
            "display": null,
            "left": null
          }
        },
        "9509418cfe2346b48cf607eee166501d": {
          "model_module": "@jupyter-widgets/controls",
          "model_name": "FloatProgressModel",
          "state": {
            "_view_name": "ProgressView",
            "style": "IPY_MODEL_7dcb3c6605d74f67bedf7185fc8819b9",
            "_dom_classes": [],
            "description": "Downloading: 100%",
            "_model_name": "FloatProgressModel",
            "bar_style": "success",
            "max": 269,
            "_view_module": "@jupyter-widgets/controls",
            "_model_module_version": "1.5.0",
            "value": 269,
            "_view_count": null,
            "_view_module_version": "1.5.0",
            "orientation": "horizontal",
            "min": 0,
            "description_tooltip": null,
            "_model_module": "@jupyter-widgets/controls",
            "layout": "IPY_MODEL_24bb4ae46ddf4f90ba57d6d70c668242"
          }
        },
        "3f54e989619048ed87cfe3373492cb92": {
          "model_module": "@jupyter-widgets/controls",
          "model_name": "HTMLModel",
          "state": {
            "_view_name": "HTMLView",
            "style": "IPY_MODEL_c5253e457b864b3387418bdd9bdf5188",
            "_dom_classes": [],
            "description": "",
            "_model_name": "HTMLModel",
            "placeholder": "​",
            "_view_module": "@jupyter-widgets/controls",
            "_model_module_version": "1.5.0",
            "value": " 269/269 [00:00&lt;00:00, 630B/s]",
            "_view_count": null,
            "_view_module_version": "1.5.0",
            "description_tooltip": null,
            "_model_module": "@jupyter-widgets/controls",
            "layout": "IPY_MODEL_6ee2fa77627249cfb2febf8d2310521b"
          }
        },
        "7dcb3c6605d74f67bedf7185fc8819b9": {
          "model_module": "@jupyter-widgets/controls",
          "model_name": "ProgressStyleModel",
          "state": {
            "_view_name": "StyleView",
            "_model_name": "ProgressStyleModel",
            "description_width": "initial",
            "_view_module": "@jupyter-widgets/base",
            "_model_module_version": "1.5.0",
            "_view_count": null,
            "_view_module_version": "1.2.0",
            "bar_color": null,
            "_model_module": "@jupyter-widgets/controls"
          }
        },
        "24bb4ae46ddf4f90ba57d6d70c668242": {
          "model_module": "@jupyter-widgets/base",
          "model_name": "LayoutModel",
          "state": {
            "_view_name": "LayoutView",
            "grid_template_rows": null,
            "right": null,
            "justify_content": null,
            "_view_module": "@jupyter-widgets/base",
            "overflow": null,
            "_model_module_version": "1.2.0",
            "_view_count": null,
            "flex_flow": null,
            "width": null,
            "min_width": null,
            "border": null,
            "align_items": null,
            "bottom": null,
            "_model_module": "@jupyter-widgets/base",
            "top": null,
            "grid_column": null,
            "overflow_y": null,
            "overflow_x": null,
            "grid_auto_flow": null,
            "grid_area": null,
            "grid_template_columns": null,
            "flex": null,
            "_model_name": "LayoutModel",
            "justify_items": null,
            "grid_row": null,
            "max_height": null,
            "align_content": null,
            "visibility": null,
            "align_self": null,
            "height": null,
            "min_height": null,
            "padding": null,
            "grid_auto_rows": null,
            "grid_gap": null,
            "max_width": null,
            "order": null,
            "_view_module_version": "1.2.0",
            "grid_template_areas": null,
            "object_position": null,
            "object_fit": null,
            "grid_auto_columns": null,
            "margin": null,
            "display": null,
            "left": null
          }
        },
        "c5253e457b864b3387418bdd9bdf5188": {
          "model_module": "@jupyter-widgets/controls",
          "model_name": "DescriptionStyleModel",
          "state": {
            "_view_name": "StyleView",
            "_model_name": "DescriptionStyleModel",
            "description_width": "",
            "_view_module": "@jupyter-widgets/base",
            "_model_module_version": "1.5.0",
            "_view_count": null,
            "_view_module_version": "1.2.0",
            "_model_module": "@jupyter-widgets/controls"
          }
        },
        "6ee2fa77627249cfb2febf8d2310521b": {
          "model_module": "@jupyter-widgets/base",
          "model_name": "LayoutModel",
          "state": {
            "_view_name": "LayoutView",
            "grid_template_rows": null,
            "right": null,
            "justify_content": null,
            "_view_module": "@jupyter-widgets/base",
            "overflow": null,
            "_model_module_version": "1.2.0",
            "_view_count": null,
            "flex_flow": null,
            "width": null,
            "min_width": null,
            "border": null,
            "align_items": null,
            "bottom": null,
            "_model_module": "@jupyter-widgets/base",
            "top": null,
            "grid_column": null,
            "overflow_y": null,
            "overflow_x": null,
            "grid_auto_flow": null,
            "grid_area": null,
            "grid_template_columns": null,
            "flex": null,
            "_model_name": "LayoutModel",
            "justify_items": null,
            "grid_row": null,
            "max_height": null,
            "align_content": null,
            "visibility": null,
            "align_self": null,
            "height": null,
            "min_height": null,
            "padding": null,
            "grid_auto_rows": null,
            "grid_gap": null,
            "max_width": null,
            "order": null,
            "_view_module_version": "1.2.0",
            "grid_template_areas": null,
            "object_position": null,
            "object_fit": null,
            "grid_auto_columns": null,
            "margin": null,
            "display": null,
            "left": null
          }
        },
        "886b082e884046d8b890192e2d1b1025": {
          "model_module": "@jupyter-widgets/controls",
          "model_name": "HBoxModel",
          "state": {
            "_view_name": "HBoxView",
            "_dom_classes": [],
            "_model_name": "HBoxModel",
            "_view_module": "@jupyter-widgets/controls",
            "_model_module_version": "1.5.0",
            "_view_count": null,
            "_view_module_version": "1.5.0",
            "box_style": "",
            "layout": "IPY_MODEL_155ba653e79c4236af5edf20f8da905a",
            "_model_module": "@jupyter-widgets/controls",
            "children": [
              "IPY_MODEL_62ecb76713824815bcfc0b0a47aac472",
              "IPY_MODEL_577bde3bfb6f446494e1ca1e3670be52"
            ]
          }
        },
        "155ba653e79c4236af5edf20f8da905a": {
          "model_module": "@jupyter-widgets/base",
          "model_name": "LayoutModel",
          "state": {
            "_view_name": "LayoutView",
            "grid_template_rows": null,
            "right": null,
            "justify_content": null,
            "_view_module": "@jupyter-widgets/base",
            "overflow": null,
            "_model_module_version": "1.2.0",
            "_view_count": null,
            "flex_flow": null,
            "width": null,
            "min_width": null,
            "border": null,
            "align_items": null,
            "bottom": null,
            "_model_module": "@jupyter-widgets/base",
            "top": null,
            "grid_column": null,
            "overflow_y": null,
            "overflow_x": null,
            "grid_auto_flow": null,
            "grid_area": null,
            "grid_template_columns": null,
            "flex": null,
            "_model_name": "LayoutModel",
            "justify_items": null,
            "grid_row": null,
            "max_height": null,
            "align_content": null,
            "visibility": null,
            "align_self": null,
            "height": null,
            "min_height": null,
            "padding": null,
            "grid_auto_rows": null,
            "grid_gap": null,
            "max_width": null,
            "order": null,
            "_view_module_version": "1.2.0",
            "grid_template_areas": null,
            "object_position": null,
            "object_fit": null,
            "grid_auto_columns": null,
            "margin": null,
            "display": null,
            "left": null
          }
        },
        "62ecb76713824815bcfc0b0a47aac472": {
          "model_module": "@jupyter-widgets/controls",
          "model_name": "FloatProgressModel",
          "state": {
            "_view_name": "ProgressView",
            "style": "IPY_MODEL_947d3e4e8cd94e9096f0d02ad1cfcb20",
            "_dom_classes": [],
            "description": "Downloading: 100%",
            "_model_name": "FloatProgressModel",
            "bar_style": "success",
            "max": 810912,
            "_view_module": "@jupyter-widgets/controls",
            "_model_module_version": "1.5.0",
            "value": 810912,
            "_view_count": null,
            "_view_module_version": "1.5.0",
            "orientation": "horizontal",
            "min": 0,
            "description_tooltip": null,
            "_model_module": "@jupyter-widgets/controls",
            "layout": "IPY_MODEL_31f2aeb4f04d486198bf8423d013f9bd"
          }
        },
        "577bde3bfb6f446494e1ca1e3670be52": {
          "model_module": "@jupyter-widgets/controls",
          "model_name": "HTMLModel",
          "state": {
            "_view_name": "HTMLView",
            "style": "IPY_MODEL_b8e1da40a19045a1a83df9ed0898c85b",
            "_dom_classes": [],
            "description": "",
            "_model_name": "HTMLModel",
            "placeholder": "​",
            "_view_module": "@jupyter-widgets/controls",
            "_model_module_version": "1.5.0",
            "value": " 811k/811k [00:00&lt;00:00, 2.18MB/s]",
            "_view_count": null,
            "_view_module_version": "1.5.0",
            "description_tooltip": null,
            "_model_module": "@jupyter-widgets/controls",
            "layout": "IPY_MODEL_7cc952cbc3704910b7cf3d604e1bc632"
          }
        },
        "947d3e4e8cd94e9096f0d02ad1cfcb20": {
          "model_module": "@jupyter-widgets/controls",
          "model_name": "ProgressStyleModel",
          "state": {
            "_view_name": "StyleView",
            "_model_name": "ProgressStyleModel",
            "description_width": "initial",
            "_view_module": "@jupyter-widgets/base",
            "_model_module_version": "1.5.0",
            "_view_count": null,
            "_view_module_version": "1.2.0",
            "bar_color": null,
            "_model_module": "@jupyter-widgets/controls"
          }
        },
        "31f2aeb4f04d486198bf8423d013f9bd": {
          "model_module": "@jupyter-widgets/base",
          "model_name": "LayoutModel",
          "state": {
            "_view_name": "LayoutView",
            "grid_template_rows": null,
            "right": null,
            "justify_content": null,
            "_view_module": "@jupyter-widgets/base",
            "overflow": null,
            "_model_module_version": "1.2.0",
            "_view_count": null,
            "flex_flow": null,
            "width": null,
            "min_width": null,
            "border": null,
            "align_items": null,
            "bottom": null,
            "_model_module": "@jupyter-widgets/base",
            "top": null,
            "grid_column": null,
            "overflow_y": null,
            "overflow_x": null,
            "grid_auto_flow": null,
            "grid_area": null,
            "grid_template_columns": null,
            "flex": null,
            "_model_name": "LayoutModel",
            "justify_items": null,
            "grid_row": null,
            "max_height": null,
            "align_content": null,
            "visibility": null,
            "align_self": null,
            "height": null,
            "min_height": null,
            "padding": null,
            "grid_auto_rows": null,
            "grid_gap": null,
            "max_width": null,
            "order": null,
            "_view_module_version": "1.2.0",
            "grid_template_areas": null,
            "object_position": null,
            "object_fit": null,
            "grid_auto_columns": null,
            "margin": null,
            "display": null,
            "left": null
          }
        },
        "b8e1da40a19045a1a83df9ed0898c85b": {
          "model_module": "@jupyter-widgets/controls",
          "model_name": "DescriptionStyleModel",
          "state": {
            "_view_name": "StyleView",
            "_model_name": "DescriptionStyleModel",
            "description_width": "",
            "_view_module": "@jupyter-widgets/base",
            "_model_module_version": "1.5.0",
            "_view_count": null,
            "_view_module_version": "1.2.0",
            "_model_module": "@jupyter-widgets/controls"
          }
        },
        "7cc952cbc3704910b7cf3d604e1bc632": {
          "model_module": "@jupyter-widgets/base",
          "model_name": "LayoutModel",
          "state": {
            "_view_name": "LayoutView",
            "grid_template_rows": null,
            "right": null,
            "justify_content": null,
            "_view_module": "@jupyter-widgets/base",
            "overflow": null,
            "_model_module_version": "1.2.0",
            "_view_count": null,
            "flex_flow": null,
            "width": null,
            "min_width": null,
            "border": null,
            "align_items": null,
            "bottom": null,
            "_model_module": "@jupyter-widgets/base",
            "top": null,
            "grid_column": null,
            "overflow_y": null,
            "overflow_x": null,
            "grid_auto_flow": null,
            "grid_area": null,
            "grid_template_columns": null,
            "flex": null,
            "_model_name": "LayoutModel",
            "justify_items": null,
            "grid_row": null,
            "max_height": null,
            "align_content": null,
            "visibility": null,
            "align_self": null,
            "height": null,
            "min_height": null,
            "padding": null,
            "grid_auto_rows": null,
            "grid_gap": null,
            "max_width": null,
            "order": null,
            "_view_module_version": "1.2.0",
            "grid_template_areas": null,
            "object_position": null,
            "object_fit": null,
            "grid_auto_columns": null,
            "margin": null,
            "display": null,
            "left": null
          }
        },
        "50eda39959354e8391acd01677e2ee79": {
          "model_module": "@jupyter-widgets/controls",
          "model_name": "HBoxModel",
          "state": {
            "_view_name": "HBoxView",
            "_dom_classes": [],
            "_model_name": "HBoxModel",
            "_view_module": "@jupyter-widgets/controls",
            "_model_module_version": "1.5.0",
            "_view_count": null,
            "_view_module_version": "1.5.0",
            "box_style": "",
            "layout": "IPY_MODEL_e70568f4ffe54a55a55fed3699bf10f0",
            "_model_module": "@jupyter-widgets/controls",
            "children": [
              "IPY_MODEL_024286efabd94491a65e30a8599e0d1c",
              "IPY_MODEL_262ede68e54b46a1907cbd2423438146"
            ]
          }
        },
        "e70568f4ffe54a55a55fed3699bf10f0": {
          "model_module": "@jupyter-widgets/base",
          "model_name": "LayoutModel",
          "state": {
            "_view_name": "LayoutView",
            "grid_template_rows": null,
            "right": null,
            "justify_content": null,
            "_view_module": "@jupyter-widgets/base",
            "overflow": null,
            "_model_module_version": "1.2.0",
            "_view_count": null,
            "flex_flow": null,
            "width": null,
            "min_width": null,
            "border": null,
            "align_items": null,
            "bottom": null,
            "_model_module": "@jupyter-widgets/base",
            "top": null,
            "grid_column": null,
            "overflow_y": null,
            "overflow_x": null,
            "grid_auto_flow": null,
            "grid_area": null,
            "grid_template_columns": null,
            "flex": null,
            "_model_name": "LayoutModel",
            "justify_items": null,
            "grid_row": null,
            "max_height": null,
            "align_content": null,
            "visibility": null,
            "align_self": null,
            "height": null,
            "min_height": null,
            "padding": null,
            "grid_auto_rows": null,
            "grid_gap": null,
            "max_width": null,
            "order": null,
            "_view_module_version": "1.2.0",
            "grid_template_areas": null,
            "object_position": null,
            "object_fit": null,
            "grid_auto_columns": null,
            "margin": null,
            "display": null,
            "left": null
          }
        },
        "024286efabd94491a65e30a8599e0d1c": {
          "model_module": "@jupyter-widgets/controls",
          "model_name": "FloatProgressModel",
          "state": {
            "_view_name": "ProgressView",
            "style": "IPY_MODEL_5651010305ee4990933d291dd58a75c0",
            "_dom_classes": [],
            "description": "Downloading: 100%",
            "_model_name": "FloatProgressModel",
            "bar_style": "success",
            "max": 210,
            "_view_module": "@jupyter-widgets/controls",
            "_model_module_version": "1.5.0",
            "value": 210,
            "_view_count": null,
            "_view_module_version": "1.5.0",
            "orientation": "horizontal",
            "min": 0,
            "description_tooltip": null,
            "_model_module": "@jupyter-widgets/controls",
            "layout": "IPY_MODEL_381b6972028f4a6b8e70c5f5e1b35465"
          }
        },
        "262ede68e54b46a1907cbd2423438146": {
          "model_module": "@jupyter-widgets/controls",
          "model_name": "HTMLModel",
          "state": {
            "_view_name": "HTMLView",
            "style": "IPY_MODEL_672d03b3169c42a69c7feb004192811d",
            "_dom_classes": [],
            "description": "",
            "_model_name": "HTMLModel",
            "placeholder": "​",
            "_view_module": "@jupyter-widgets/controls",
            "_model_module_version": "1.5.0",
            "value": " 210/210 [00:00&lt;00:00, 1.48kB/s]",
            "_view_count": null,
            "_view_module_version": "1.5.0",
            "description_tooltip": null,
            "_model_module": "@jupyter-widgets/controls",
            "layout": "IPY_MODEL_92025bc9a12f473e8d37a23de77e3c9a"
          }
        },
        "5651010305ee4990933d291dd58a75c0": {
          "model_module": "@jupyter-widgets/controls",
          "model_name": "ProgressStyleModel",
          "state": {
            "_view_name": "StyleView",
            "_model_name": "ProgressStyleModel",
            "description_width": "initial",
            "_view_module": "@jupyter-widgets/base",
            "_model_module_version": "1.5.0",
            "_view_count": null,
            "_view_module_version": "1.2.0",
            "bar_color": null,
            "_model_module": "@jupyter-widgets/controls"
          }
        },
        "381b6972028f4a6b8e70c5f5e1b35465": {
          "model_module": "@jupyter-widgets/base",
          "model_name": "LayoutModel",
          "state": {
            "_view_name": "LayoutView",
            "grid_template_rows": null,
            "right": null,
            "justify_content": null,
            "_view_module": "@jupyter-widgets/base",
            "overflow": null,
            "_model_module_version": "1.2.0",
            "_view_count": null,
            "flex_flow": null,
            "width": null,
            "min_width": null,
            "border": null,
            "align_items": null,
            "bottom": null,
            "_model_module": "@jupyter-widgets/base",
            "top": null,
            "grid_column": null,
            "overflow_y": null,
            "overflow_x": null,
            "grid_auto_flow": null,
            "grid_area": null,
            "grid_template_columns": null,
            "flex": null,
            "_model_name": "LayoutModel",
            "justify_items": null,
            "grid_row": null,
            "max_height": null,
            "align_content": null,
            "visibility": null,
            "align_self": null,
            "height": null,
            "min_height": null,
            "padding": null,
            "grid_auto_rows": null,
            "grid_gap": null,
            "max_width": null,
            "order": null,
            "_view_module_version": "1.2.0",
            "grid_template_areas": null,
            "object_position": null,
            "object_fit": null,
            "grid_auto_columns": null,
            "margin": null,
            "display": null,
            "left": null
          }
        },
        "672d03b3169c42a69c7feb004192811d": {
          "model_module": "@jupyter-widgets/controls",
          "model_name": "DescriptionStyleModel",
          "state": {
            "_view_name": "StyleView",
            "_model_name": "DescriptionStyleModel",
            "description_width": "",
            "_view_module": "@jupyter-widgets/base",
            "_model_module_version": "1.5.0",
            "_view_count": null,
            "_view_module_version": "1.2.0",
            "_model_module": "@jupyter-widgets/controls"
          }
        },
        "92025bc9a12f473e8d37a23de77e3c9a": {
          "model_module": "@jupyter-widgets/base",
          "model_name": "LayoutModel",
          "state": {
            "_view_name": "LayoutView",
            "grid_template_rows": null,
            "right": null,
            "justify_content": null,
            "_view_module": "@jupyter-widgets/base",
            "overflow": null,
            "_model_module_version": "1.2.0",
            "_view_count": null,
            "flex_flow": null,
            "width": null,
            "min_width": null,
            "border": null,
            "align_items": null,
            "bottom": null,
            "_model_module": "@jupyter-widgets/base",
            "top": null,
            "grid_column": null,
            "overflow_y": null,
            "overflow_x": null,
            "grid_auto_flow": null,
            "grid_area": null,
            "grid_template_columns": null,
            "flex": null,
            "_model_name": "LayoutModel",
            "justify_items": null,
            "grid_row": null,
            "max_height": null,
            "align_content": null,
            "visibility": null,
            "align_self": null,
            "height": null,
            "min_height": null,
            "padding": null,
            "grid_auto_rows": null,
            "grid_gap": null,
            "max_width": null,
            "order": null,
            "_view_module_version": "1.2.0",
            "grid_template_areas": null,
            "object_position": null,
            "object_fit": null,
            "grid_auto_columns": null,
            "margin": null,
            "display": null,
            "left": null
          }
        }
      }
    }
  },
  "cells": [
    {
      "cell_type": "markdown",
      "metadata": {
        "id": "otIQhfjzONFU"
      },
      "source": [
        "## Installation on Google Colab\n",
        "\n",
        "Skip if you're not on Google Colab"
      ],
      "id": "otIQhfjzONFU"
    },
    {
      "cell_type": "code",
      "metadata": {
        "colab": {
          "base_uri": "https://localhost:8080/"
        },
        "id": "n8Dtn_CaNDTH",
        "outputId": "5f6273f5-4b0e-4984-83ec-e3d89a2b6c9b"
      },
      "source": [
        "!pip install transformers[sentencepiece]"
      ],
      "id": "n8Dtn_CaNDTH",
      "execution_count": 2,
      "outputs": [
        {
          "output_type": "stream",
          "text": [
            "Collecting transformers[sentencepiece]\n",
            "\u001b[?25l  Downloading https://files.pythonhosted.org/packages/b5/d5/c6c23ad75491467a9a84e526ef2364e523d45e2b0fae28a7cbe8689e7e84/transformers-4.8.1-py3-none-any.whl (2.5MB)\n",
            "\r\u001b[K     |▏                               | 10kB 24.8MB/s eta 0:00:01\r\u001b[K     |▎                               | 20kB 30.8MB/s eta 0:00:01\r\u001b[K     |▍                               | 30kB 35.2MB/s eta 0:00:01\r\u001b[K     |▌                               | 40kB 34.8MB/s eta 0:00:01\r\u001b[K     |▋                               | 51kB 31.4MB/s eta 0:00:01\r\u001b[K     |▉                               | 61kB 30.9MB/s eta 0:00:01\r\u001b[K     |█                               | 71kB 28.4MB/s eta 0:00:01\r\u001b[K     |█                               | 81kB 27.5MB/s eta 0:00:01\r\u001b[K     |█▏                              | 92kB 27.6MB/s eta 0:00:01\r\u001b[K     |█▎                              | 102kB 29.0MB/s eta 0:00:01\r\u001b[K     |█▌                              | 112kB 29.0MB/s eta 0:00:01\r\u001b[K     |█▋                              | 122kB 29.0MB/s eta 0:00:01\r\u001b[K     |█▊                              | 133kB 29.0MB/s eta 0:00:01\r\u001b[K     |█▉                              | 143kB 29.0MB/s eta 0:00:01\r\u001b[K     |██                              | 153kB 29.0MB/s eta 0:00:01\r\u001b[K     |██                              | 163kB 29.0MB/s eta 0:00:01\r\u001b[K     |██▎                             | 174kB 29.0MB/s eta 0:00:01\r\u001b[K     |██▍                             | 184kB 29.0MB/s eta 0:00:01\r\u001b[K     |██▌                             | 194kB 29.0MB/s eta 0:00:01\r\u001b[K     |██▋                             | 204kB 29.0MB/s eta 0:00:01\r\u001b[K     |██▊                             | 215kB 29.0MB/s eta 0:00:01\r\u001b[K     |███                             | 225kB 29.0MB/s eta 0:00:01\r\u001b[K     |███                             | 235kB 29.0MB/s eta 0:00:01\r\u001b[K     |███▏                            | 245kB 29.0MB/s eta 0:00:01\r\u001b[K     |███▎                            | 256kB 29.0MB/s eta 0:00:01\r\u001b[K     |███▍                            | 266kB 29.0MB/s eta 0:00:01\r\u001b[K     |███▌                            | 276kB 29.0MB/s eta 0:00:01\r\u001b[K     |███▊                            | 286kB 29.0MB/s eta 0:00:01\r\u001b[K     |███▉                            | 296kB 29.0MB/s eta 0:00:01\r\u001b[K     |████                            | 307kB 29.0MB/s eta 0:00:01\r\u001b[K     |████                            | 317kB 29.0MB/s eta 0:00:01\r\u001b[K     |████▏                           | 327kB 29.0MB/s eta 0:00:01\r\u001b[K     |████▍                           | 337kB 29.0MB/s eta 0:00:01\r\u001b[K     |████▌                           | 348kB 29.0MB/s eta 0:00:01\r\u001b[K     |████▋                           | 358kB 29.0MB/s eta 0:00:01\r\u001b[K     |████▊                           | 368kB 29.0MB/s eta 0:00:01\r\u001b[K     |████▉                           | 378kB 29.0MB/s eta 0:00:01\r\u001b[K     |█████                           | 389kB 29.0MB/s eta 0:00:01\r\u001b[K     |█████▏                          | 399kB 29.0MB/s eta 0:00:01\r\u001b[K     |█████▎                          | 409kB 29.0MB/s eta 0:00:01\r\u001b[K     |█████▍                          | 419kB 29.0MB/s eta 0:00:01\r\u001b[K     |█████▌                          | 430kB 29.0MB/s eta 0:00:01\r\u001b[K     |█████▋                          | 440kB 29.0MB/s eta 0:00:01\r\u001b[K     |█████▉                          | 450kB 29.0MB/s eta 0:00:01\r\u001b[K     |██████                          | 460kB 29.0MB/s eta 0:00:01\r\u001b[K     |██████                          | 471kB 29.0MB/s eta 0:00:01\r\u001b[K     |██████▏                         | 481kB 29.0MB/s eta 0:00:01\r\u001b[K     |██████▎                         | 491kB 29.0MB/s eta 0:00:01\r\u001b[K     |██████▍                         | 501kB 29.0MB/s eta 0:00:01\r\u001b[K     |██████▋                         | 512kB 29.0MB/s eta 0:00:01\r\u001b[K     |██████▊                         | 522kB 29.0MB/s eta 0:00:01\r\u001b[K     |██████▉                         | 532kB 29.0MB/s eta 0:00:01\r\u001b[K     |███████                         | 542kB 29.0MB/s eta 0:00:01\r\u001b[K     |███████                         | 552kB 29.0MB/s eta 0:00:01\r\u001b[K     |███████▎                        | 563kB 29.0MB/s eta 0:00:01\r\u001b[K     |███████▍                        | 573kB 29.0MB/s eta 0:00:01\r\u001b[K     |███████▌                        | 583kB 29.0MB/s eta 0:00:01\r\u001b[K     |███████▋                        | 593kB 29.0MB/s eta 0:00:01\r\u001b[K     |███████▊                        | 604kB 29.0MB/s eta 0:00:01\r\u001b[K     |███████▉                        | 614kB 29.0MB/s eta 0:00:01\r\u001b[K     |████████                        | 624kB 29.0MB/s eta 0:00:01\r\u001b[K     |████████▏                       | 634kB 29.0MB/s eta 0:00:01\r\u001b[K     |████████▎                       | 645kB 29.0MB/s eta 0:00:01\r\u001b[K     |████████▍                       | 655kB 29.0MB/s eta 0:00:01\r\u001b[K     |████████▌                       | 665kB 29.0MB/s eta 0:00:01\r\u001b[K     |████████▊                       | 675kB 29.0MB/s eta 0:00:01\r\u001b[K     |████████▉                       | 686kB 29.0MB/s eta 0:00:01\r\u001b[K     |█████████                       | 696kB 29.0MB/s eta 0:00:01\r\u001b[K     |█████████                       | 706kB 29.0MB/s eta 0:00:01\r\u001b[K     |█████████▏                      | 716kB 29.0MB/s eta 0:00:01\r\u001b[K     |█████████▎                      | 727kB 29.0MB/s eta 0:00:01\r\u001b[K     |█████████▌                      | 737kB 29.0MB/s eta 0:00:01\r\u001b[K     |█████████▋                      | 747kB 29.0MB/s eta 0:00:01\r\u001b[K     |█████████▊                      | 757kB 29.0MB/s eta 0:00:01\r\u001b[K     |█████████▉                      | 768kB 29.0MB/s eta 0:00:01\r\u001b[K     |██████████                      | 778kB 29.0MB/s eta 0:00:01\r\u001b[K     |██████████▏                     | 788kB 29.0MB/s eta 0:00:01\r\u001b[K     |██████████▎                     | 798kB 29.0MB/s eta 0:00:01\r\u001b[K     |██████████▍                     | 808kB 29.0MB/s eta 0:00:01\r\u001b[K     |██████████▌                     | 819kB 29.0MB/s eta 0:00:01\r\u001b[K     |██████████▋                     | 829kB 29.0MB/s eta 0:00:01\r\u001b[K     |██████████▊                     | 839kB 29.0MB/s eta 0:00:01\r\u001b[K     |███████████                     | 849kB 29.0MB/s eta 0:00:01\r\u001b[K     |███████████                     | 860kB 29.0MB/s eta 0:00:01\r\u001b[K     |███████████▏                    | 870kB 29.0MB/s eta 0:00:01\r\u001b[K     |███████████▎                    | 880kB 29.0MB/s eta 0:00:01\r\u001b[K     |███████████▍                    | 890kB 29.0MB/s eta 0:00:01\r\u001b[K     |███████████▋                    | 901kB 29.0MB/s eta 0:00:01\r\u001b[K     |███████████▊                    | 911kB 29.0MB/s eta 0:00:01\r\u001b[K     |███████████▉                    | 921kB 29.0MB/s eta 0:00:01\r\u001b[K     |████████████                    | 931kB 29.0MB/s eta 0:00:01\r\u001b[K     |████████████                    | 942kB 29.0MB/s eta 0:00:01\r\u001b[K     |████████████▏                   | 952kB 29.0MB/s eta 0:00:01\r\u001b[K     |████████████▍                   | 962kB 29.0MB/s eta 0:00:01\r\u001b[K     |████████████▌                   | 972kB 29.0MB/s eta 0:00:01\r\u001b[K     |████████████▋                   | 983kB 29.0MB/s eta 0:00:01\r\u001b[K     |████████████▊                   | 993kB 29.0MB/s eta 0:00:01\r\u001b[K     |████████████▉                   | 1.0MB 29.0MB/s eta 0:00:01\r\u001b[K     |█████████████                   | 1.0MB 29.0MB/s eta 0:00:01\r\u001b[K     |█████████████▏                  | 1.0MB 29.0MB/s eta 0:00:01\r\u001b[K     |█████████████▎                  | 1.0MB 29.0MB/s eta 0:00:01\r\u001b[K     |█████████████▍                  | 1.0MB 29.0MB/s eta 0:00:01\r\u001b[K     |█████████████▌                  | 1.1MB 29.0MB/s eta 0:00:01\r\u001b[K     |█████████████▋                  | 1.1MB 29.0MB/s eta 0:00:01\r\u001b[K     |█████████████▉                  | 1.1MB 29.0MB/s eta 0:00:01\r\u001b[K     |██████████████                  | 1.1MB 29.0MB/s eta 0:00:01\r\u001b[K     |██████████████                  | 1.1MB 29.0MB/s eta 0:00:01\r\u001b[K     |██████████████▏                 | 1.1MB 29.0MB/s eta 0:00:01\r\u001b[K     |██████████████▎                 | 1.1MB 29.0MB/s eta 0:00:01\r\u001b[K     |██████████████▌                 | 1.1MB 29.0MB/s eta 0:00:01\r\u001b[K     |██████████████▋                 | 1.1MB 29.0MB/s eta 0:00:01\r\u001b[K     |██████████████▊                 | 1.1MB 29.0MB/s eta 0:00:01\r\u001b[K     |██████████████▉                 | 1.2MB 29.0MB/s eta 0:00:01\r\u001b[K     |███████████████                 | 1.2MB 29.0MB/s eta 0:00:01\r\u001b[K     |███████████████                 | 1.2MB 29.0MB/s eta 0:00:01\r\u001b[K     |███████████████▎                | 1.2MB 29.0MB/s eta 0:00:01\r\u001b[K     |███████████████▍                | 1.2MB 29.0MB/s eta 0:00:01\r\u001b[K     |███████████████▌                | 1.2MB 29.0MB/s eta 0:00:01\r\u001b[K     |███████████████▋                | 1.2MB 29.0MB/s eta 0:00:01\r\u001b[K     |███████████████▊                | 1.2MB 29.0MB/s eta 0:00:01\r\u001b[K     |████████████████                | 1.2MB 29.0MB/s eta 0:00:01\r\u001b[K     |████████████████                | 1.2MB 29.0MB/s eta 0:00:01\r\u001b[K     |████████████████▏               | 1.3MB 29.0MB/s eta 0:00:01\r\u001b[K     |████████████████▎               | 1.3MB 29.0MB/s eta 0:00:01\r\u001b[K     |████████████████▍               | 1.3MB 29.0MB/s eta 0:00:01\r\u001b[K     |████████████████▌               | 1.3MB 29.0MB/s eta 0:00:01\r\u001b[K     |████████████████▊               | 1.3MB 29.0MB/s eta 0:00:01\r\u001b[K     |████████████████▉               | 1.3MB 29.0MB/s eta 0:00:01\r\u001b[K     |█████████████████               | 1.3MB 29.0MB/s eta 0:00:01\r\u001b[K     |█████████████████               | 1.3MB 29.0MB/s eta 0:00:01\r\u001b[K     |█████████████████▏              | 1.3MB 29.0MB/s eta 0:00:01\r\u001b[K     |█████████████████▍              | 1.4MB 29.0MB/s eta 0:00:01\r\u001b[K     |█████████████████▌              | 1.4MB 29.0MB/s eta 0:00:01\r\u001b[K     |█████████████████▋              | 1.4MB 29.0MB/s eta 0:00:01\r\u001b[K     |█████████████████▊              | 1.4MB 29.0MB/s eta 0:00:01\r\u001b[K     |█████████████████▉              | 1.4MB 29.0MB/s eta 0:00:01\r\u001b[K     |██████████████████              | 1.4MB 29.0MB/s eta 0:00:01\r\u001b[K     |██████████████████▏             | 1.4MB 29.0MB/s eta 0:00:01\r\u001b[K     |██████████████████▎             | 1.4MB 29.0MB/s eta 0:00:01\r\u001b[K     |██████████████████▍             | 1.4MB 29.0MB/s eta 0:00:01\r\u001b[K     |██████████████████▌             | 1.4MB 29.0MB/s eta 0:00:01\r\u001b[K     |██████████████████▋             | 1.5MB 29.0MB/s eta 0:00:01\r\u001b[K     |██████████████████▉             | 1.5MB 29.0MB/s eta 0:00:01\r\u001b[K     |███████████████████             | 1.5MB 29.0MB/s eta 0:00:01\r\u001b[K     |███████████████████             | 1.5MB 29.0MB/s eta 0:00:01\r\u001b[K     |███████████████████▏            | 1.5MB 29.0MB/s eta 0:00:01\r\u001b[K     |███████████████████▎            | 1.5MB 29.0MB/s eta 0:00:01\r\u001b[K     |███████████████████▍            | 1.5MB 29.0MB/s eta 0:00:01\r\u001b[K     |███████████████████▋            | 1.5MB 29.0MB/s eta 0:00:01\r\u001b[K     |███████████████████▊            | 1.5MB 29.0MB/s eta 0:00:01\r\u001b[K     |███████████████████▉            | 1.5MB 29.0MB/s eta 0:00:01\r\u001b[K     |████████████████████            | 1.6MB 29.0MB/s eta 0:00:01\r\u001b[K     |████████████████████            | 1.6MB 29.0MB/s eta 0:00:01\r\u001b[K     |████████████████████▎           | 1.6MB 29.0MB/s eta 0:00:01\r\u001b[K     |████████████████████▍           | 1.6MB 29.0MB/s eta 0:00:01\r\u001b[K     |████████████████████▌           | 1.6MB 29.0MB/s eta 0:00:01\r\u001b[K     |████████████████████▋           | 1.6MB 29.0MB/s eta 0:00:01\r\u001b[K     |████████████████████▊           | 1.6MB 29.0MB/s eta 0:00:01\r\u001b[K     |████████████████████▉           | 1.6MB 29.0MB/s eta 0:00:01\r\u001b[K     |█████████████████████           | 1.6MB 29.0MB/s eta 0:00:01\r\u001b[K     |█████████████████████▏          | 1.6MB 29.0MB/s eta 0:00:01\r\u001b[K     |█████████████████████▎          | 1.7MB 29.0MB/s eta 0:00:01\r\u001b[K     |█████████████████████▍          | 1.7MB 29.0MB/s eta 0:00:01\r\u001b[K     |█████████████████████▌          | 1.7MB 29.0MB/s eta 0:00:01\r\u001b[K     |█████████████████████▊          | 1.7MB 29.0MB/s eta 0:00:01\r\u001b[K     |█████████████████████▉          | 1.7MB 29.0MB/s eta 0:00:01\r\u001b[K     |██████████████████████          | 1.7MB 29.0MB/s eta 0:00:01\r\u001b[K     |██████████████████████          | 1.7MB 29.0MB/s eta 0:00:01\r\u001b[K     |██████████████████████▏         | 1.7MB 29.0MB/s eta 0:00:01\r\u001b[K     |██████████████████████▎         | 1.7MB 29.0MB/s eta 0:00:01\r\u001b[K     |██████████████████████▌         | 1.8MB 29.0MB/s eta 0:00:01\r\u001b[K     |██████████████████████▋         | 1.8MB 29.0MB/s eta 0:00:01\r\u001b[K     |██████████████████████▊         | 1.8MB 29.0MB/s eta 0:00:01\r\u001b[K     |██████████████████████▉         | 1.8MB 29.0MB/s eta 0:00:01\r\u001b[K     |███████████████████████         | 1.8MB 29.0MB/s eta 0:00:01\r\u001b[K     |███████████████████████▏        | 1.8MB 29.0MB/s eta 0:00:01\r\u001b[K     |███████████████████████▎        | 1.8MB 29.0MB/s eta 0:00:01\r\u001b[K     |███████████████████████▍        | 1.8MB 29.0MB/s eta 0:00:01\r\u001b[K     |███████████████████████▌        | 1.8MB 29.0MB/s eta 0:00:01\r\u001b[K     |███████████████████████▋        | 1.8MB 29.0MB/s eta 0:00:01\r\u001b[K     |███████████████████████▊        | 1.9MB 29.0MB/s eta 0:00:01\r\u001b[K     |████████████████████████        | 1.9MB 29.0MB/s eta 0:00:01\r\u001b[K     |████████████████████████        | 1.9MB 29.0MB/s eta 0:00:01\r\u001b[K     |████████████████████████▏       | 1.9MB 29.0MB/s eta 0:00:01\r\u001b[K     |████████████████████████▎       | 1.9MB 29.0MB/s eta 0:00:01\r\u001b[K     |████████████████████████▍       | 1.9MB 29.0MB/s eta 0:00:01\r\u001b[K     |████████████████████████▋       | 1.9MB 29.0MB/s eta 0:00:01\r\u001b[K     |████████████████████████▊       | 1.9MB 29.0MB/s eta 0:00:01\r\u001b[K     |████████████████████████▉       | 1.9MB 29.0MB/s eta 0:00:01\r\u001b[K     |█████████████████████████       | 1.9MB 29.0MB/s eta 0:00:01\r\u001b[K     |█████████████████████████       | 2.0MB 29.0MB/s eta 0:00:01\r\u001b[K     |█████████████████████████▏      | 2.0MB 29.0MB/s eta 0:00:01\r\u001b[K     |█████████████████████████▍      | 2.0MB 29.0MB/s eta 0:00:01\r\u001b[K     |█████████████████████████▌      | 2.0MB 29.0MB/s eta 0:00:01\r\u001b[K     |█████████████████████████▋      | 2.0MB 29.0MB/s eta 0:00:01\r\u001b[K     |█████████████████████████▊      | 2.0MB 29.0MB/s eta 0:00:01\r\u001b[K     |█████████████████████████▉      | 2.0MB 29.0MB/s eta 0:00:01\r\u001b[K     |██████████████████████████      | 2.0MB 29.0MB/s eta 0:00:01\r\u001b[K     |██████████████████████████▏     | 2.0MB 29.0MB/s eta 0:00:01\r\u001b[K     |██████████████████████████▎     | 2.0MB 29.0MB/s eta 0:00:01\r\u001b[K     |██████████████████████████▍     | 2.1MB 29.0MB/s eta 0:00:01\r\u001b[K     |██████████████████████████▌     | 2.1MB 29.0MB/s eta 0:00:01\r\u001b[K     |██████████████████████████▋     | 2.1MB 29.0MB/s eta 0:00:01\r\u001b[K     |██████████████████████████▉     | 2.1MB 29.0MB/s eta 0:00:01\r\u001b[K     |███████████████████████████     | 2.1MB 29.0MB/s eta 0:00:01\r\u001b[K     |███████████████████████████     | 2.1MB 29.0MB/s eta 0:00:01\r\u001b[K     |███████████████████████████▏    | 2.1MB 29.0MB/s eta 0:00:01\r\u001b[K     |███████████████████████████▎    | 2.1MB 29.0MB/s eta 0:00:01\r\u001b[K     |███████████████████████████▌    | 2.1MB 29.0MB/s eta 0:00:01\r\u001b[K     |███████████████████████████▋    | 2.2MB 29.0MB/s eta 0:00:01\r\u001b[K     |███████████████████████████▊    | 2.2MB 29.0MB/s eta 0:00:01\r\u001b[K     |███████████████████████████▉    | 2.2MB 29.0MB/s eta 0:00:01\r\u001b[K     |████████████████████████████    | 2.2MB 29.0MB/s eta 0:00:01\r\u001b[K     |████████████████████████████    | 2.2MB 29.0MB/s eta 0:00:01\r\u001b[K     |████████████████████████████▎   | 2.2MB 29.0MB/s eta 0:00:01\r\u001b[K     |████████████████████████████▍   | 2.2MB 29.0MB/s eta 0:00:01\r\u001b[K     |████████████████████████████▌   | 2.2MB 29.0MB/s eta 0:00:01\r\u001b[K     |████████████████████████████▋   | 2.2MB 29.0MB/s eta 0:00:01\r\u001b[K     |████████████████████████████▊   | 2.2MB 29.0MB/s eta 0:00:01\r\u001b[K     |█████████████████████████████   | 2.3MB 29.0MB/s eta 0:00:01\r\u001b[K     |█████████████████████████████   | 2.3MB 29.0MB/s eta 0:00:01\r\u001b[K     |█████████████████████████████▏  | 2.3MB 29.0MB/s eta 0:00:01\r\u001b[K     |█████████████████████████████▎  | 2.3MB 29.0MB/s eta 0:00:01\r\u001b[K     |█████████████████████████████▍  | 2.3MB 29.0MB/s eta 0:00:01\r\u001b[K     |█████████████████████████████▌  | 2.3MB 29.0MB/s eta 0:00:01\r\u001b[K     |█████████████████████████████▊  | 2.3MB 29.0MB/s eta 0:00:01\r\u001b[K     |█████████████████████████████▉  | 2.3MB 29.0MB/s eta 0:00:01\r\u001b[K     |██████████████████████████████  | 2.3MB 29.0MB/s eta 0:00:01\r\u001b[K     |██████████████████████████████  | 2.3MB 29.0MB/s eta 0:00:01\r\u001b[K     |██████████████████████████████▏ | 2.4MB 29.0MB/s eta 0:00:01\r\u001b[K     |██████████████████████████████▍ | 2.4MB 29.0MB/s eta 0:00:01\r\u001b[K     |██████████████████████████████▌ | 2.4MB 29.0MB/s eta 0:00:01\r\u001b[K     |██████████████████████████████▋ | 2.4MB 29.0MB/s eta 0:00:01\r\u001b[K     |██████████████████████████████▊ | 2.4MB 29.0MB/s eta 0:00:01\r\u001b[K     |██████████████████████████████▉ | 2.4MB 29.0MB/s eta 0:00:01\r\u001b[K     |███████████████████████████████ | 2.4MB 29.0MB/s eta 0:00:01\r\u001b[K     |███████████████████████████████▏| 2.4MB 29.0MB/s eta 0:00:01\r\u001b[K     |███████████████████████████████▎| 2.4MB 29.0MB/s eta 0:00:01\r\u001b[K     |███████████████████████████████▍| 2.4MB 29.0MB/s eta 0:00:01\r\u001b[K     |███████████████████████████████▌| 2.5MB 29.0MB/s eta 0:00:01\r\u001b[K     |███████████████████████████████▋| 2.5MB 29.0MB/s eta 0:00:01\r\u001b[K     |███████████████████████████████▉| 2.5MB 29.0MB/s eta 0:00:01\r\u001b[K     |████████████████████████████████| 2.5MB 29.0MB/s eta 0:00:01\r\u001b[K     |████████████████████████████████| 2.5MB 29.0MB/s \n",
            "\u001b[?25hRequirement already satisfied: filelock in /usr/local/lib/python3.7/dist-packages (from transformers[sentencepiece]) (3.0.12)\n",
            "Requirement already satisfied: packaging in /usr/local/lib/python3.7/dist-packages (from transformers[sentencepiece]) (20.9)\n",
            "Collecting tokenizers<0.11,>=0.10.1\n",
            "\u001b[?25l  Downloading https://files.pythonhosted.org/packages/d4/e2/df3543e8ffdab68f5acc73f613de9c2b155ac47f162e725dcac87c521c11/tokenizers-0.10.3-cp37-cp37m-manylinux_2_5_x86_64.manylinux1_x86_64.manylinux_2_12_x86_64.manylinux2010_x86_64.whl (3.3MB)\n",
            "\u001b[K     |████████████████████████████████| 3.3MB 41.0MB/s \n",
            "\u001b[?25hCollecting sacremoses\n",
            "\u001b[?25l  Downloading https://files.pythonhosted.org/packages/75/ee/67241dc87f266093c533a2d4d3d69438e57d7a90abb216fa076e7d475d4a/sacremoses-0.0.45-py3-none-any.whl (895kB)\n",
            "\u001b[K     |████████████████████████████████| 901kB 48.1MB/s \n",
            "\u001b[?25hRequirement already satisfied: regex!=2019.12.17 in /usr/local/lib/python3.7/dist-packages (from transformers[sentencepiece]) (2019.12.20)\n",
            "Requirement already satisfied: pyyaml in /usr/local/lib/python3.7/dist-packages (from transformers[sentencepiece]) (3.13)\n",
            "Requirement already satisfied: tqdm>=4.27 in /usr/local/lib/python3.7/dist-packages (from transformers[sentencepiece]) (4.41.1)\n",
            "Requirement already satisfied: importlib-metadata; python_version < \"3.8\" in /usr/local/lib/python3.7/dist-packages (from transformers[sentencepiece]) (4.5.0)\n",
            "Collecting huggingface-hub==0.0.12\n",
            "  Downloading https://files.pythonhosted.org/packages/2f/ee/97e253668fda9b17e968b3f97b2f8e53aa0127e8807d24a547687423fe0b/huggingface_hub-0.0.12-py3-none-any.whl\n",
            "Requirement already satisfied: requests in /usr/local/lib/python3.7/dist-packages (from transformers[sentencepiece]) (2.23.0)\n",
            "Requirement already satisfied: numpy>=1.17 in /usr/local/lib/python3.7/dist-packages (from transformers[sentencepiece]) (1.19.5)\n",
            "Collecting sentencepiece==0.1.91; extra == \"sentencepiece\"\n",
            "\u001b[?25l  Downloading https://files.pythonhosted.org/packages/f2/e2/813dff3d72df2f49554204e7e5f73a3dc0f0eb1e3958a4cad3ef3fb278b7/sentencepiece-0.1.91-cp37-cp37m-manylinux1_x86_64.whl (1.1MB)\n",
            "\u001b[K     |████████████████████████████████| 1.1MB 43.4MB/s \n",
            "\u001b[?25hRequirement already satisfied: protobuf; extra == \"sentencepiece\" in /usr/local/lib/python3.7/dist-packages (from transformers[sentencepiece]) (3.12.4)\n",
            "Requirement already satisfied: pyparsing>=2.0.2 in /usr/local/lib/python3.7/dist-packages (from packaging->transformers[sentencepiece]) (2.4.7)\n",
            "Requirement already satisfied: joblib in /usr/local/lib/python3.7/dist-packages (from sacremoses->transformers[sentencepiece]) (1.0.1)\n",
            "Requirement already satisfied: click in /usr/local/lib/python3.7/dist-packages (from sacremoses->transformers[sentencepiece]) (7.1.2)\n",
            "Requirement already satisfied: six in /usr/local/lib/python3.7/dist-packages (from sacremoses->transformers[sentencepiece]) (1.15.0)\n",
            "Requirement already satisfied: zipp>=0.5 in /usr/local/lib/python3.7/dist-packages (from importlib-metadata; python_version < \"3.8\"->transformers[sentencepiece]) (3.4.1)\n",
            "Requirement already satisfied: typing-extensions>=3.6.4; python_version < \"3.8\" in /usr/local/lib/python3.7/dist-packages (from importlib-metadata; python_version < \"3.8\"->transformers[sentencepiece]) (3.7.4.3)\n",
            "Requirement already satisfied: chardet<4,>=3.0.2 in /usr/local/lib/python3.7/dist-packages (from requests->transformers[sentencepiece]) (3.0.4)\n",
            "Requirement already satisfied: idna<3,>=2.5 in /usr/local/lib/python3.7/dist-packages (from requests->transformers[sentencepiece]) (2.10)\n",
            "Requirement already satisfied: certifi>=2017.4.17 in /usr/local/lib/python3.7/dist-packages (from requests->transformers[sentencepiece]) (2021.5.30)\n",
            "Requirement already satisfied: urllib3!=1.25.0,!=1.25.1,<1.26,>=1.21.1 in /usr/local/lib/python3.7/dist-packages (from requests->transformers[sentencepiece]) (1.24.3)\n",
            "Requirement already satisfied: setuptools in /usr/local/lib/python3.7/dist-packages (from protobuf; extra == \"sentencepiece\"->transformers[sentencepiece]) (57.0.0)\n",
            "Installing collected packages: tokenizers, sacremoses, huggingface-hub, sentencepiece, transformers\n",
            "Successfully installed huggingface-hub-0.0.12 sacremoses-0.0.45 sentencepiece-0.1.91 tokenizers-0.10.3 transformers-4.8.1\n"
          ],
          "name": "stdout"
        }
      ]
    },
    {
      "cell_type": "markdown",
      "metadata": {
        "id": "m25EQtJ5OZde"
      },
      "source": [
        "## Super easy NLP with the pipeline interface"
      ],
      "id": "m25EQtJ5OZde"
    },
    {
      "cell_type": "markdown",
      "metadata": {
        "id": "LHxNtFiROfp7"
      },
      "source": [
        "### Sentiment analysis in english"
      ],
      "id": "LHxNtFiROfp7"
    },
    {
      "cell_type": "code",
      "metadata": {
        "id": "e661b705"
      },
      "source": [
        "from transformers import pipeline"
      ],
      "id": "e661b705",
      "execution_count": 3,
      "outputs": []
    },
    {
      "cell_type": "code",
      "metadata": {
        "id": "e9aeebf9"
      },
      "source": [
        "classifier = pipeline(\"sentiment-analysis\")"
      ],
      "id": "e9aeebf9",
      "execution_count": 15,
      "outputs": []
    },
    {
      "cell_type": "code",
      "metadata": {
        "colab": {
          "base_uri": "https://localhost:8080/"
        },
        "id": "8f7a4b84",
        "outputId": "a849ad1f-96af-4ded-d028-f7344610569b"
      },
      "source": [
        "classifier([\"this is a great tutorial, thank you\", \n",
        "            \"your content just sucks\"])"
      ],
      "id": "8f7a4b84",
      "execution_count": 16,
      "outputs": [
        {
          "output_type": "execute_result",
          "data": {
            "text/plain": [
              "[{'label': 'POSITIVE', 'score': 0.9998582601547241},\n",
              " {'label': 'NEGATIVE', 'score': 0.9971919059753418}]"
            ]
          },
          "metadata": {
            "tags": []
          },
          "execution_count": 16
        }
      ]
    },
    {
      "cell_type": "code",
      "metadata": {
        "colab": {
          "base_uri": "https://localhost:8080/"
        },
        "id": "OSDcCBRJPemh",
        "outputId": "248709c6-1868-4e2e-e7e9-e7320cc41a68"
      },
      "source": [
        "classifier([\"Ton tuto est vraiment bien\", \n",
        "            \"il est complètement nul\"])"
      ],
      "id": "OSDcCBRJPemh",
      "execution_count": 21,
      "outputs": [
        {
          "output_type": "execute_result",
          "data": {
            "text/plain": [
              "[{'label': 'POSITIVE', 'score': 0.7650704979896545},\n",
              " {'label': 'POSITIVE', 'score': 0.8282670974731445}]"
            ]
          },
          "metadata": {
            "tags": []
          },
          "execution_count": 21
        }
      ]
    },
    {
      "cell_type": "markdown",
      "metadata": {
        "id": "PYcOi1RKOE-U"
      },
      "source": [
        "### Sentiment analysis in Dutch, German, French, Spanish and Italian\n",
        "\n",
        "Search the Hub for a french classification model: https://huggingface.co/models?filter=fr&pipeline_tag=text-classification&sort=downloads"
      ],
      "id": "PYcOi1RKOE-U"
    },
    {
      "cell_type": "code",
      "metadata": {
        "id": "YWk7fR2xOoqC"
      },
      "source": [
        "multilang_classifier = pipeline(\"sentiment-analysis\", \n",
        "                                model=\"nlptown/bert-base-multilingual-uncased-sentiment\")"
      ],
      "id": "YWk7fR2xOoqC",
      "execution_count": 18,
      "outputs": []
    },
    {
      "cell_type": "code",
      "metadata": {
        "colab": {
          "base_uri": "https://localhost:8080/"
        },
        "id": "h7-0_hM9N8_J",
        "outputId": "d8df0d08-af04-4894-e0f5-6180d48fa42d"
      },
      "source": [
        "multilang_classifier([\"Ton tuto est vraiment bien\", \n",
        "                      \"il est complètement nul\"])"
      ],
      "id": "h7-0_hM9N8_J",
      "execution_count": 20,
      "outputs": [
        {
          "output_type": "execute_result",
          "data": {
            "text/plain": [
              "[{'label': '5 stars', 'score': 0.5787978172302246},\n",
              " {'label': '1 star', 'score': 0.9223358035087585}]"
            ]
          },
          "metadata": {
            "tags": []
          },
          "execution_count": 20
        }
      ]
    },
    {
      "cell_type": "markdown",
      "metadata": {
        "id": "z2s3z9JMQTxU"
      },
      "source": [
        "### Translation "
      ],
      "id": "z2s3z9JMQTxU"
    },
    {
      "cell_type": "code",
      "metadata": {
        "id": "s8dFINPogXVG"
      },
      "source": [
        "en_to_fr = pipeline(\"translation_en_to_fr\", \n",
        "                    model=\"Helsinki-NLP/opus-mt-en-fr\")"
      ],
      "id": "s8dFINPogXVG",
      "execution_count": 133,
      "outputs": []
    },
    {
      "cell_type": "code",
      "metadata": {
        "id": "cw4RXdLxgobO",
        "outputId": "50670e88-6936-4c57-c77a-24a3673dd4ef",
        "colab": {
          "base_uri": "https://localhost:8080/"
        }
      },
      "source": [
        "en_to_fr(\"your tutorial is really good\")"
      ],
      "id": "cw4RXdLxgobO",
      "execution_count": 134,
      "outputs": [
        {
          "output_type": "execute_result",
          "data": {
            "text/plain": [
              "[{'translation_text': 'votre tutoriel est vraiment bon'}]"
            ]
          },
          "metadata": {
            "tags": []
          },
          "execution_count": 134
        }
      ]
    },
    {
      "cell_type": "code",
      "metadata": {
        "id": "ts9ESQkHgtL_"
      },
      "source": [
        "fr_to_en = pipeline(\"translation_fr_to_en\", \n",
        "                    model=\"Helsinki-NLP/opus-mt-fr-en\")"
      ],
      "id": "ts9ESQkHgtL_",
      "execution_count": 137,
      "outputs": []
    },
    {
      "cell_type": "code",
      "metadata": {
        "id": "g9A7BqYlg6Sw",
        "outputId": "c36cba1c-ab04-44d8-a55f-eefe2ce19308",
        "colab": {
          "base_uri": "https://localhost:8080/"
        }
      },
      "source": [
        "fr_to_en(\"ton tutoriel est super\")"
      ],
      "id": "g9A7BqYlg6Sw",
      "execution_count": 138,
      "outputs": [
        {
          "output_type": "execute_result",
          "data": {
            "text/plain": [
              "[{'translation_text': 'Your tutorial is great.'}]"
            ]
          },
          "metadata": {
            "tags": []
          },
          "execution_count": 138
        }
      ]
    },
    {
      "cell_type": "markdown",
      "metadata": {
        "id": "JqlFz7ZNhZ1I"
      },
      "source": [
        "### Zero-shot classification in french"
      ],
      "id": "JqlFz7ZNhZ1I"
    },
    {
      "cell_type": "code",
      "metadata": {
        "id": "5-k5T-KUhYmb",
        "outputId": "715a9e9e-55e2-4676-95a5-edadbfe342dc",
        "colab": {
          "base_uri": "https://localhost:8080/",
          "height": 262,
          "referenced_widgets": [
            "879a1ac9384d47bbab953fa8da973598",
            "002f85a627a84305b52b1d769991d6fe",
            "80af1a7f05bc4cafbd2c8481ac164f1c",
            "d0aeeb2445b843ac952557499f9b6e2b",
            "c6fa4863ac3844efb043c0e097a1c2a4",
            "6c9cd77c6a4d4bb685df5b6454510a64",
            "a89a7f24ce774617a4344695325da19d",
            "6e3cb7de6ca2427dac6c92d0ea6437b0",
            "404e20ab10504e4b8079201a35410677",
            "d1f4ddee183a41ada6d577958851cc16",
            "27750d48ff2048adac1b03139367bffd",
            "202c6c8692bf4562a27d20bd56eff02b",
            "14f60ae3f8bb471f92e7dd935f568689",
            "6fa70b4e9fb042448abd1611c8fdb7a3",
            "bd008a71fa224b4fb8021830e0a8a563",
            "b6bb5f8a3f7a4d428ee775a80540181d",
            "84b38c4cdede497ba0543962be83fd9d",
            "680fb222cd104dd49e974549d5fa4e46",
            "791faaa16aa345d2a483d163141b33b6",
            "8cd4a9c0311c4a659826a4b679eb1af6",
            "ff4498bb356e4610a1c7bb945c656d0c",
            "c707c498ef514154910c6adf8b4005ab",
            "9e62cc3e44bc4ab2835d9edfcb9c8f61",
            "ff72c4b9eab04538b797681d8d22f943",
            "120d13b2d89a4b7eb93f31f1afa48b69",
            "f7e397300b2f4da3add2cedbb92333cc",
            "7caf1f28dc2d4bdcbec6860cf7b98484",
            "1924893a35824ee89f9d17ec9623b490",
            "30dbe37be2934a1b9e089a103e9492fb",
            "969952a598ed4bd4883e6abb50a8ce52",
            "24b990c95d6f4dbe9e34ac881c8e34a9",
            "8faddd3927fa4f768591efdac11e45f1",
            "a3e70adcd64d45c9b06722d0fd7c9b61",
            "1d1081c00ac446eaa6c7bdf00a9ced00",
            "cce89b52511b454482a4bda39a47df4d",
            "4090a0d902054b0e94d1e315a95eb515",
            "bfb48a23f7bc42a3ab60d19a1e00a959",
            "a8dca550db3e4f4a89102578fda7063f",
            "9ecd733e0ac34a3f95e1a5f94b4344fc",
            "293dbb0a26a949898c94f80c7e26afd9"
          ]
        }
      },
      "source": [
        "classifier = pipeline(\"zero-shot-classification\", \n",
        "                      model=\"BaptisteDoyen/camembert-base-xlni\")"
      ],
      "id": "5-k5T-KUhYmb",
      "execution_count": 140,
      "outputs": [
        {
          "output_type": "display_data",
          "data": {
            "application/vnd.jupyter.widget-view+json": {
              "model_id": "879a1ac9384d47bbab953fa8da973598",
              "version_minor": 0,
              "version_major": 2
            },
            "text/plain": [
              "HBox(children=(FloatProgress(value=0.0, description='Downloading', max=882.0, style=ProgressStyle(description_…"
            ]
          },
          "metadata": {
            "tags": []
          }
        },
        {
          "output_type": "stream",
          "text": [
            "\n"
          ],
          "name": "stdout"
        },
        {
          "output_type": "display_data",
          "data": {
            "application/vnd.jupyter.widget-view+json": {
              "model_id": "404e20ab10504e4b8079201a35410677",
              "version_minor": 0,
              "version_major": 2
            },
            "text/plain": [
              "HBox(children=(FloatProgress(value=0.0, description='Downloading', max=442587593.0, style=ProgressStyle(descri…"
            ]
          },
          "metadata": {
            "tags": []
          }
        },
        {
          "output_type": "stream",
          "text": [
            "\n"
          ],
          "name": "stdout"
        },
        {
          "output_type": "display_data",
          "data": {
            "application/vnd.jupyter.widget-view+json": {
              "model_id": "84b38c4cdede497ba0543962be83fd9d",
              "version_minor": 0,
              "version_major": 2
            },
            "text/plain": [
              "HBox(children=(FloatProgress(value=0.0, description='Downloading', max=433.0, style=ProgressStyle(description_…"
            ]
          },
          "metadata": {
            "tags": []
          }
        },
        {
          "output_type": "stream",
          "text": [
            "\n"
          ],
          "name": "stdout"
        },
        {
          "output_type": "display_data",
          "data": {
            "application/vnd.jupyter.widget-view+json": {
              "model_id": "120d13b2d89a4b7eb93f31f1afa48b69",
              "version_minor": 0,
              "version_major": 2
            },
            "text/plain": [
              "HBox(children=(FloatProgress(value=0.0, description='Downloading', max=810912.0, style=ProgressStyle(descripti…"
            ]
          },
          "metadata": {
            "tags": []
          }
        },
        {
          "output_type": "stream",
          "text": [
            "\n"
          ],
          "name": "stdout"
        },
        {
          "output_type": "display_data",
          "data": {
            "application/vnd.jupyter.widget-view+json": {
              "model_id": "a3e70adcd64d45c9b06722d0fd7c9b61",
              "version_minor": 0,
              "version_major": 2
            },
            "text/plain": [
              "HBox(children=(FloatProgress(value=0.0, description='Downloading', max=299.0, style=ProgressStyle(description_…"
            ]
          },
          "metadata": {
            "tags": []
          }
        },
        {
          "output_type": "stream",
          "text": [
            "\n"
          ],
          "name": "stdout"
        }
      ]
    },
    {
      "cell_type": "code",
      "metadata": {
        "id": "0Qg6iAoShhHY",
        "outputId": "f6747efd-403c-4f04-918a-318a2ca7f5f9",
        "colab": {
          "base_uri": "https://localhost:8080/"
        }
      },
      "source": [
        "sequence = \"Colin est en train d'écrire un article au sujet du traitement du langage naturel\"\n",
        "candidate_labels = [\"science\",\"politique\",\"education\", \"news\"]\n",
        "classifier(sequence, candidate_labels)     "
      ],
      "id": "0Qg6iAoShhHY",
      "execution_count": 147,
      "outputs": [
        {
          "output_type": "execute_result",
          "data": {
            "text/plain": [
              "{'labels': ['science', 'news', 'education', 'politique'],\n",
              " 'scores': [0.4613836407661438,\n",
              "  0.20861364901065826,\n",
              "  0.20573210716247559,\n",
              "  0.12427058815956116],\n",
              " 'sequence': \"Colin est en train d'écrire un article au sujet du traitement du langage naturel\"}"
            ]
          },
          "metadata": {
            "tags": []
          },
          "execution_count": 147
        }
      ]
    },
    {
      "cell_type": "markdown",
      "metadata": {
        "id": "HSgHXhFfj6MC"
      },
      "source": [
        "### Writing summaries in French"
      ],
      "id": "HSgHXhFfj6MC"
    },
    {
      "cell_type": "code",
      "metadata": {
        "id": "271WObZ2hzUy",
        "outputId": "dbddc135-3c1a-4139-d5be-563b470602f5",
        "colab": {
          "base_uri": "https://localhost:8080/",
          "height": 213,
          "referenced_widgets": [
            "d4b16337e927462e83745af7de9e4782",
            "1f59727e973b481bac6cb75a7f2dd4f2",
            "4fffb7053e064029a5d4402fe92dc3df",
            "3868715ebdd34f2bbc32f190631dfbb6",
            "4a284f6274f14190b57699c87d68bff3",
            "6583018022654f66927bc1445cded675",
            "9fd47735c2b149578ee99eaf40dde659",
            "af2ff367e7a84614a6fed341b9f173a3",
            "089fa4f3a0714df4ad6dbe6ec3d0b66c",
            "0db24cf2a1714aeba79d6253afed5819",
            "5965b90f995c4b2297e626fbeb6f504c",
            "d16af874bd4544ecbedb4d116a646f74",
            "202a99d3db2f480cbfc8f726d600bc48",
            "e55407f2fa4441e082ba387260598409",
            "69b163cd535242aa92f651993324a22e",
            "da0b84cc8ae545d1b9f1354fa3ef8ddf",
            "049914e13b024294a5b3030ecd14db6e",
            "43ad968787c847b6b1ed4f23c1b2dcaa",
            "ae27ab059a264d2c87be07cee2936d8c",
            "21adb7d8778b4630b63150e2be4854bb",
            "40dbea4b39024f78a927225a249e764f",
            "f48d6c4321584a92887e20be885dc882",
            "ecb1bf5538e146648b78fbfc7c5ba786",
            "a0235a0ffa38405890bdd33953b05827",
            "426c9331fc814c62a238e0c4ae53b618",
            "c6a444d9c2d54dfa9303eeba604cc82a",
            "2be0cd5491e446e1bd6d17c364470cea",
            "3f2428df555043b7942999ddb38a34b8",
            "6cafe898814042fdb73d669f038d70f6",
            "07597ff7d64a41798cecc963913724f6",
            "9583df3cdd11423f9c54eb41b798ff71",
            "037665145a7f4697a9a7ddac541764ef"
          ]
        }
      },
      "source": [
        "summarizer = pipeline(\"summarization\", \n",
        "                       model=\"moussaKam/barthez-orangesum-title\")"
      ],
      "id": "271WObZ2hzUy",
      "execution_count": 149,
      "outputs": [
        {
          "output_type": "display_data",
          "data": {
            "application/vnd.jupyter.widget-view+json": {
              "model_id": "d4b16337e927462e83745af7de9e4782",
              "version_minor": 0,
              "version_major": 2
            },
            "text/plain": [
              "HBox(children=(FloatProgress(value=0.0, description='Downloading', max=1465.0, style=ProgressStyle(description…"
            ]
          },
          "metadata": {
            "tags": []
          }
        },
        {
          "output_type": "stream",
          "text": [
            "\n"
          ],
          "name": "stdout"
        },
        {
          "output_type": "display_data",
          "data": {
            "application/vnd.jupyter.widget-view+json": {
              "model_id": "089fa4f3a0714df4ad6dbe6ec3d0b66c",
              "version_minor": 0,
              "version_major": 2
            },
            "text/plain": [
              "HBox(children=(FloatProgress(value=0.0, description='Downloading', max=864357306.0, style=ProgressStyle(descri…"
            ]
          },
          "metadata": {
            "tags": []
          }
        },
        {
          "output_type": "stream",
          "text": [
            "\n"
          ],
          "name": "stdout"
        },
        {
          "output_type": "display_data",
          "data": {
            "application/vnd.jupyter.widget-view+json": {
              "model_id": "049914e13b024294a5b3030ecd14db6e",
              "version_minor": 0,
              "version_major": 2
            },
            "text/plain": [
              "HBox(children=(FloatProgress(value=0.0, description='Downloading', max=1115393.0, style=ProgressStyle(descript…"
            ]
          },
          "metadata": {
            "tags": []
          }
        },
        {
          "output_type": "stream",
          "text": [
            "\n"
          ],
          "name": "stdout"
        },
        {
          "output_type": "display_data",
          "data": {
            "application/vnd.jupyter.widget-view+json": {
              "model_id": "426c9331fc814c62a238e0c4ae53b618",
              "version_minor": 0,
              "version_major": 2
            },
            "text/plain": [
              "HBox(children=(FloatProgress(value=0.0, description='Downloading', max=2630980.0, style=ProgressStyle(descript…"
            ]
          },
          "metadata": {
            "tags": []
          }
        },
        {
          "output_type": "stream",
          "text": [
            "\n"
          ],
          "name": "stdout"
        }
      ]
    },
    {
      "cell_type": "code",
      "metadata": {
        "id": "JynCA1B0kINz",
        "outputId": "0a92ef9b-3ef5-45ec-e4eb-9ea2ac768e75",
        "colab": {
          "base_uri": "https://localhost:8080/"
        }
      },
      "source": [
        "import pprint\n",
        "sentence = \"Le premier tour des élections régionales, dimanche 20 juin, a été marqué par un niveau d’abstention inédit (66,7 %). Une première clé est de savoir si ce second tour mobilisera davantage les électeurs que le premier. Il a également fait apparaître un paysage politique fragmenté. Ce morcellement se retrouvera lors du second tour, dimanche 27 juin, lui aussi inédit à bien des égards.\"\n",
        "pprint.pprint(sentence)"
      ],
      "id": "JynCA1B0kINz",
      "execution_count": 152,
      "outputs": [
        {
          "output_type": "stream",
          "text": [
            "('Le premier tour des élections régionales, dimanche 20 juin, a été marqué par '\n",
            " 'un niveau d’abstention inédit (66,7 %). Une première clé est de savoir si ce '\n",
            " 'second tour mobilisera davantage les électeurs que le premier. Il a '\n",
            " 'également fait apparaître un paysage politique fragmenté. Ce morcellement se '\n",
            " 'retrouvera lors du second tour, dimanche 27 juin, lui aussi inédit à bien '\n",
            " 'des égards.')\n"
          ],
          "name": "stdout"
        }
      ]
    },
    {
      "cell_type": "code",
      "metadata": {
        "id": "acAebixFkTGB",
        "outputId": "9caaa90a-bc46-463d-abb3-cdf503ed8e72",
        "colab": {
          "base_uri": "https://localhost:8080/"
        }
      },
      "source": [
        "summarizer(sentence, max_length=50)"
      ],
      "id": "acAebixFkTGB",
      "execution_count": 154,
      "outputs": [
        {
          "output_type": "execute_result",
          "data": {
            "text/plain": [
              "[{'summary_text': \"Régionales : le niveau d'abstention inédit au second tour\"}]"
            ]
          },
          "metadata": {
            "tags": []
          },
          "execution_count": 154
        }
      ]
    },
    {
      "cell_type": "markdown",
      "metadata": {
        "id": "T0Oo-N_SkpHd"
      },
      "source": [
        "### Named entity recognition"
      ],
      "id": "T0Oo-N_SkpHd"
    },
    {
      "cell_type": "code",
      "metadata": {
        "id": "nZqoCACnkoTG",
        "outputId": "44e44a06-6a1d-43d0-9d5c-cbb597d7ad2c",
        "colab": {
          "base_uri": "https://localhost:8080/",
          "height": 262,
          "referenced_widgets": [
            "189c9fa476194bc2a9a605eb9cc5c744",
            "dfdb634acaa74e2abe3cb18a5cb5d94c",
            "393ba60f7d634aa287140c0cec81dc27",
            "bc10a460a42e4843bafa4851540ad112",
            "42b3c45beb8e434e902fe71c59fd8b19",
            "f3b225a5f0dc40708debee6c17594bd9",
            "c45641bc4907486ca4905492b42176d8",
            "fcf8c4fec531421f94344bf1836df374",
            "991af72bb08949ea85be2c01f16c6bd4",
            "0a636670fb4e4ddf91797a32904da073",
            "e3363325eb1341b68dff5e76d2610a9a",
            "f8e1968510184bb399e6f1f241002149",
            "eb0ebc9acd9f443ca31ed1ca83194688",
            "40969f693ce24971be58506846162a9c",
            "a3704119ab9d41878c645d83d0fb661b",
            "c6207f97d7444fb2bd049e4d41c26ed4",
            "43913c4ad3224f808c3886f8bdff3709",
            "f26fa9ee08f14305bc3d5d64a96bef36",
            "9509418cfe2346b48cf607eee166501d",
            "3f54e989619048ed87cfe3373492cb92",
            "7dcb3c6605d74f67bedf7185fc8819b9",
            "24bb4ae46ddf4f90ba57d6d70c668242",
            "c5253e457b864b3387418bdd9bdf5188",
            "6ee2fa77627249cfb2febf8d2310521b",
            "886b082e884046d8b890192e2d1b1025",
            "155ba653e79c4236af5edf20f8da905a",
            "62ecb76713824815bcfc0b0a47aac472",
            "577bde3bfb6f446494e1ca1e3670be52",
            "947d3e4e8cd94e9096f0d02ad1cfcb20",
            "31f2aeb4f04d486198bf8423d013f9bd",
            "b8e1da40a19045a1a83df9ed0898c85b",
            "7cc952cbc3704910b7cf3d604e1bc632",
            "50eda39959354e8391acd01677e2ee79",
            "e70568f4ffe54a55a55fed3699bf10f0",
            "024286efabd94491a65e30a8599e0d1c",
            "262ede68e54b46a1907cbd2423438146",
            "5651010305ee4990933d291dd58a75c0",
            "381b6972028f4a6b8e70c5f5e1b35465",
            "672d03b3169c42a69c7feb004192811d",
            "92025bc9a12f473e8d37a23de77e3c9a"
          ]
        }
      },
      "source": [
        "ner = pipeline(\"token-classification\", model=\"Jean-Baptiste/camembert-ner\")"
      ],
      "id": "nZqoCACnkoTG",
      "execution_count": 155,
      "outputs": [
        {
          "output_type": "display_data",
          "data": {
            "application/vnd.jupyter.widget-view+json": {
              "model_id": "189c9fa476194bc2a9a605eb9cc5c744",
              "version_minor": 0,
              "version_major": 2
            },
            "text/plain": [
              "HBox(children=(FloatProgress(value=0.0, description='Downloading', max=876.0, style=ProgressStyle(description_…"
            ]
          },
          "metadata": {
            "tags": []
          }
        },
        {
          "output_type": "stream",
          "text": [
            "\n"
          ],
          "name": "stdout"
        },
        {
          "output_type": "display_data",
          "data": {
            "application/vnd.jupyter.widget-view+json": {
              "model_id": "991af72bb08949ea85be2c01f16c6bd4",
              "version_minor": 0,
              "version_major": 2
            },
            "text/plain": [
              "HBox(children=(FloatProgress(value=0.0, description='Downloading', max=440227047.0, style=ProgressStyle(descri…"
            ]
          },
          "metadata": {
            "tags": []
          }
        },
        {
          "output_type": "stream",
          "text": [
            "\n"
          ],
          "name": "stdout"
        },
        {
          "output_type": "display_data",
          "data": {
            "application/vnd.jupyter.widget-view+json": {
              "model_id": "43913c4ad3224f808c3886f8bdff3709",
              "version_minor": 0,
              "version_major": 2
            },
            "text/plain": [
              "HBox(children=(FloatProgress(value=0.0, description='Downloading', max=269.0, style=ProgressStyle(description_…"
            ]
          },
          "metadata": {
            "tags": []
          }
        },
        {
          "output_type": "stream",
          "text": [
            "\n"
          ],
          "name": "stdout"
        },
        {
          "output_type": "display_data",
          "data": {
            "application/vnd.jupyter.widget-view+json": {
              "model_id": "886b082e884046d8b890192e2d1b1025",
              "version_minor": 0,
              "version_major": 2
            },
            "text/plain": [
              "HBox(children=(FloatProgress(value=0.0, description='Downloading', max=810912.0, style=ProgressStyle(descripti…"
            ]
          },
          "metadata": {
            "tags": []
          }
        },
        {
          "output_type": "stream",
          "text": [
            "\n"
          ],
          "name": "stdout"
        },
        {
          "output_type": "display_data",
          "data": {
            "application/vnd.jupyter.widget-view+json": {
              "model_id": "50eda39959354e8391acd01677e2ee79",
              "version_minor": 0,
              "version_major": 2
            },
            "text/plain": [
              "HBox(children=(FloatProgress(value=0.0, description='Downloading', max=210.0, style=ProgressStyle(description_…"
            ]
          },
          "metadata": {
            "tags": []
          }
        },
        {
          "output_type": "stream",
          "text": [
            "\n"
          ],
          "name": "stdout"
        }
      ]
    },
    {
      "cell_type": "code",
      "metadata": {
        "id": "46CJFCMQkdFy",
        "outputId": "96367ee0-bf9b-44d2-e1fe-a84e7a49bc1d",
        "colab": {
          "base_uri": "https://localhost:8080/"
        }
      },
      "source": [
        "nes = ner(\"Colin est parti à Saint-André acheter de la mozzarella\")\n",
        "pprint.pprint(nes)"
      ],
      "id": "46CJFCMQkdFy",
      "execution_count": 160,
      "outputs": [
        {
          "output_type": "stream",
          "text": [
            "[{'end': 5,\n",
            "  'entity': 'PER',\n",
            "  'index': 1,\n",
            "  'score': 0.94243556,\n",
            "  'start': 0,\n",
            "  'word': '▁Colin'},\n",
            " {'end': 23,\n",
            "  'entity': 'LOC',\n",
            "  'index': 5,\n",
            "  'score': 0.99605554,\n",
            "  'start': 17,\n",
            "  'word': '▁Saint'},\n",
            " {'end': 24,\n",
            "  'entity': 'LOC',\n",
            "  'index': 6,\n",
            "  'score': 0.9967083,\n",
            "  'start': 23,\n",
            "  'word': '-'},\n",
            " {'end': 29,\n",
            "  'entity': 'LOC',\n",
            "  'index': 7,\n",
            "  'score': 0.99609375,\n",
            "  'start': 24,\n",
            "  'word': 'André'}]\n"
          ],
          "name": "stdout"
        }
      ]
    },
    {
      "cell_type": "code",
      "metadata": {
        "id": "ZBerEaOOlB7I",
        "outputId": "c1873322-96ec-4ce0-b54a-a1d363b8313d",
        "colab": {
          "base_uri": "https://localhost:8080/"
        }
      },
      "source": [
        "cur = None\n",
        "agg = []\n",
        "for ne in nes: \n",
        "  entity=ne['entity']\n",
        "  if entity != cur: \n",
        "    if not cur: \n",
        "      cur=entity\n",
        "    if agg: \n",
        "      print(cur, ner.tokenizer.convert_tokens_to_string(agg))\n",
        "      agg = []\n",
        "      cur = entity\n",
        "  agg.append(ne['word'])\n",
        "print(cur, ner.tokenizer.convert_tokens_to_string(agg))\n"
      ],
      "id": "ZBerEaOOlB7I",
      "execution_count": 178,
      "outputs": [
        {
          "output_type": "stream",
          "text": [
            "PER Colin\n",
            "LOC Saint-André\n"
          ],
          "name": "stdout"
        }
      ]
    },
    {
      "cell_type": "code",
      "metadata": {
        "id": "I_udlVhTnXNw"
      },
      "source": [
        ""
      ],
      "id": "I_udlVhTnXNw",
      "execution_count": null,
      "outputs": []
    }
  ]
}