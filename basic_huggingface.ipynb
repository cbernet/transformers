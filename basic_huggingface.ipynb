{
  "nbformat": 4,
  "nbformat_minor": 5,
  "metadata": {
    "kernelspec": {
      "display_name": "Python 3",
      "language": "python",
      "name": "python3"
    },
    "language_info": {
      "codemirror_mode": {
        "name": "ipython",
        "version": 3
      },
      "file_extension": ".py",
      "mimetype": "text/x-python",
      "name": "python",
      "nbconvert_exporter": "python",
      "pygments_lexer": "ipython3",
      "version": "3.8.10"
    },
    "colab": {
      "name": "basic_huggingface.ipynb",
      "provenance": []
    },
    "accelerator": "GPU",
    "widgets": {
      "application/vnd.jupyter.widget-state+json": {
        "f072932bff8f451fa4195c4b03f47a30": {
          "model_module": "@jupyter-widgets/controls",
          "model_name": "HBoxModel",
          "state": {
            "_view_name": "HBoxView",
            "_dom_classes": [],
            "_model_name": "HBoxModel",
            "_view_module": "@jupyter-widgets/controls",
            "_model_module_version": "1.5.0",
            "_view_count": null,
            "_view_module_version": "1.5.0",
            "box_style": "",
            "layout": "IPY_MODEL_d7cfb1313bf04012be7feb4dc3d8e589",
            "_model_module": "@jupyter-widgets/controls",
            "children": [
              "IPY_MODEL_05c9ad0a15d3468499e4cffade48feff",
              "IPY_MODEL_9a281e3494ad4579834d02399ee28aea"
            ]
          }
        },
        "d7cfb1313bf04012be7feb4dc3d8e589": {
          "model_module": "@jupyter-widgets/base",
          "model_name": "LayoutModel",
          "state": {
            "_view_name": "LayoutView",
            "grid_template_rows": null,
            "right": null,
            "justify_content": null,
            "_view_module": "@jupyter-widgets/base",
            "overflow": null,
            "_model_module_version": "1.2.0",
            "_view_count": null,
            "flex_flow": null,
            "width": null,
            "min_width": null,
            "border": null,
            "align_items": null,
            "bottom": null,
            "_model_module": "@jupyter-widgets/base",
            "top": null,
            "grid_column": null,
            "overflow_y": null,
            "overflow_x": null,
            "grid_auto_flow": null,
            "grid_area": null,
            "grid_template_columns": null,
            "flex": null,
            "_model_name": "LayoutModel",
            "justify_items": null,
            "grid_row": null,
            "max_height": null,
            "align_content": null,
            "visibility": null,
            "align_self": null,
            "height": null,
            "min_height": null,
            "padding": null,
            "grid_auto_rows": null,
            "grid_gap": null,
            "max_width": null,
            "order": null,
            "_view_module_version": "1.2.0",
            "grid_template_areas": null,
            "object_position": null,
            "object_fit": null,
            "grid_auto_columns": null,
            "margin": null,
            "display": null,
            "left": null
          }
        },
        "05c9ad0a15d3468499e4cffade48feff": {
          "model_module": "@jupyter-widgets/controls",
          "model_name": "FloatProgressModel",
          "state": {
            "_view_name": "ProgressView",
            "style": "IPY_MODEL_fcf859ebb9424abd8b116b2665464372",
            "_dom_classes": [],
            "description": "Downloading: 100%",
            "_model_name": "FloatProgressModel",
            "bar_style": "success",
            "max": 300827685,
            "_view_module": "@jupyter-widgets/controls",
            "_model_module_version": "1.5.0",
            "value": 300827685,
            "_view_count": null,
            "_view_module_version": "1.5.0",
            "orientation": "horizontal",
            "min": 0,
            "description_tooltip": null,
            "_model_module": "@jupyter-widgets/controls",
            "layout": "IPY_MODEL_ed295f8f32564305a870f72d11bb7882"
          }
        },
        "9a281e3494ad4579834d02399ee28aea": {
          "model_module": "@jupyter-widgets/controls",
          "model_name": "HTMLModel",
          "state": {
            "_view_name": "HTMLView",
            "style": "IPY_MODEL_b171b66b0df04293a8afbcb554fc0fc6",
            "_dom_classes": [],
            "description": "",
            "_model_name": "HTMLModel",
            "placeholder": "​",
            "_view_module": "@jupyter-widgets/controls",
            "_model_module_version": "1.5.0",
            "value": " 301M/301M [00:07&lt;00:00, 41.9MB/s]",
            "_view_count": null,
            "_view_module_version": "1.5.0",
            "description_tooltip": null,
            "_model_module": "@jupyter-widgets/controls",
            "layout": "IPY_MODEL_abf4182b499343d181e08761a775bb14"
          }
        },
        "fcf859ebb9424abd8b116b2665464372": {
          "model_module": "@jupyter-widgets/controls",
          "model_name": "ProgressStyleModel",
          "state": {
            "_view_name": "StyleView",
            "_model_name": "ProgressStyleModel",
            "description_width": "initial",
            "_view_module": "@jupyter-widgets/base",
            "_model_module_version": "1.5.0",
            "_view_count": null,
            "_view_module_version": "1.2.0",
            "bar_color": null,
            "_model_module": "@jupyter-widgets/controls"
          }
        },
        "ed295f8f32564305a870f72d11bb7882": {
          "model_module": "@jupyter-widgets/base",
          "model_name": "LayoutModel",
          "state": {
            "_view_name": "LayoutView",
            "grid_template_rows": null,
            "right": null,
            "justify_content": null,
            "_view_module": "@jupyter-widgets/base",
            "overflow": null,
            "_model_module_version": "1.2.0",
            "_view_count": null,
            "flex_flow": null,
            "width": null,
            "min_width": null,
            "border": null,
            "align_items": null,
            "bottom": null,
            "_model_module": "@jupyter-widgets/base",
            "top": null,
            "grid_column": null,
            "overflow_y": null,
            "overflow_x": null,
            "grid_auto_flow": null,
            "grid_area": null,
            "grid_template_columns": null,
            "flex": null,
            "_model_name": "LayoutModel",
            "justify_items": null,
            "grid_row": null,
            "max_height": null,
            "align_content": null,
            "visibility": null,
            "align_self": null,
            "height": null,
            "min_height": null,
            "padding": null,
            "grid_auto_rows": null,
            "grid_gap": null,
            "max_width": null,
            "order": null,
            "_view_module_version": "1.2.0",
            "grid_template_areas": null,
            "object_position": null,
            "object_fit": null,
            "grid_auto_columns": null,
            "margin": null,
            "display": null,
            "left": null
          }
        },
        "b171b66b0df04293a8afbcb554fc0fc6": {
          "model_module": "@jupyter-widgets/controls",
          "model_name": "DescriptionStyleModel",
          "state": {
            "_view_name": "StyleView",
            "_model_name": "DescriptionStyleModel",
            "description_width": "",
            "_view_module": "@jupyter-widgets/base",
            "_model_module_version": "1.5.0",
            "_view_count": null,
            "_view_module_version": "1.2.0",
            "_model_module": "@jupyter-widgets/controls"
          }
        },
        "abf4182b499343d181e08761a775bb14": {
          "model_module": "@jupyter-widgets/base",
          "model_name": "LayoutModel",
          "state": {
            "_view_name": "LayoutView",
            "grid_template_rows": null,
            "right": null,
            "justify_content": null,
            "_view_module": "@jupyter-widgets/base",
            "overflow": null,
            "_model_module_version": "1.2.0",
            "_view_count": null,
            "flex_flow": null,
            "width": null,
            "min_width": null,
            "border": null,
            "align_items": null,
            "bottom": null,
            "_model_module": "@jupyter-widgets/base",
            "top": null,
            "grid_column": null,
            "overflow_y": null,
            "overflow_x": null,
            "grid_auto_flow": null,
            "grid_area": null,
            "grid_template_columns": null,
            "flex": null,
            "_model_name": "LayoutModel",
            "justify_items": null,
            "grid_row": null,
            "max_height": null,
            "align_content": null,
            "visibility": null,
            "align_self": null,
            "height": null,
            "min_height": null,
            "padding": null,
            "grid_auto_rows": null,
            "grid_gap": null,
            "max_width": null,
            "order": null,
            "_view_module_version": "1.2.0",
            "grid_template_areas": null,
            "object_position": null,
            "object_fit": null,
            "grid_auto_columns": null,
            "margin": null,
            "display": null,
            "left": null
          }
        }
      }
    }
  },
  "cells": [
    {
      "cell_type": "markdown",
      "metadata": {
        "id": "otIQhfjzONFU"
      },
      "source": [
        "## Installation on Google Colab\n",
        "\n",
        "Skip if you're not on Google Colab"
      ],
      "id": "otIQhfjzONFU"
    },
    {
      "cell_type": "code",
      "metadata": {
        "colab": {
          "base_uri": "https://localhost:8080/"
        },
        "id": "n8Dtn_CaNDTH",
        "outputId": "5f6273f5-4b0e-4984-83ec-e3d89a2b6c9b"
      },
      "source": [
        "!pip install transformers[sentencepiece]"
      ],
      "id": "n8Dtn_CaNDTH",
      "execution_count": 2,
      "outputs": [
        {
          "output_type": "stream",
          "text": [
            "Collecting transformers[sentencepiece]\n",
            "\u001b[?25l  Downloading https://files.pythonhosted.org/packages/b5/d5/c6c23ad75491467a9a84e526ef2364e523d45e2b0fae28a7cbe8689e7e84/transformers-4.8.1-py3-none-any.whl (2.5MB)\n",
            "\r\u001b[K     |▏                               | 10kB 24.8MB/s eta 0:00:01\r\u001b[K     |▎                               | 20kB 30.8MB/s eta 0:00:01\r\u001b[K     |▍                               | 30kB 35.2MB/s eta 0:00:01\r\u001b[K     |▌                               | 40kB 34.8MB/s eta 0:00:01\r\u001b[K     |▋                               | 51kB 31.4MB/s eta 0:00:01\r\u001b[K     |▉                               | 61kB 30.9MB/s eta 0:00:01\r\u001b[K     |█                               | 71kB 28.4MB/s eta 0:00:01\r\u001b[K     |█                               | 81kB 27.5MB/s eta 0:00:01\r\u001b[K     |█▏                              | 92kB 27.6MB/s eta 0:00:01\r\u001b[K     |█▎                              | 102kB 29.0MB/s eta 0:00:01\r\u001b[K     |█▌                              | 112kB 29.0MB/s eta 0:00:01\r\u001b[K     |█▋                              | 122kB 29.0MB/s eta 0:00:01\r\u001b[K     |█▊                              | 133kB 29.0MB/s eta 0:00:01\r\u001b[K     |█▉                              | 143kB 29.0MB/s eta 0:00:01\r\u001b[K     |██                              | 153kB 29.0MB/s eta 0:00:01\r\u001b[K     |██                              | 163kB 29.0MB/s eta 0:00:01\r\u001b[K     |██▎                             | 174kB 29.0MB/s eta 0:00:01\r\u001b[K     |██▍                             | 184kB 29.0MB/s eta 0:00:01\r\u001b[K     |██▌                             | 194kB 29.0MB/s eta 0:00:01\r\u001b[K     |██▋                             | 204kB 29.0MB/s eta 0:00:01\r\u001b[K     |██▊                             | 215kB 29.0MB/s eta 0:00:01\r\u001b[K     |███                             | 225kB 29.0MB/s eta 0:00:01\r\u001b[K     |███                             | 235kB 29.0MB/s eta 0:00:01\r\u001b[K     |███▏                            | 245kB 29.0MB/s eta 0:00:01\r\u001b[K     |███▎                            | 256kB 29.0MB/s eta 0:00:01\r\u001b[K     |███▍                            | 266kB 29.0MB/s eta 0:00:01\r\u001b[K     |███▌                            | 276kB 29.0MB/s eta 0:00:01\r\u001b[K     |███▊                            | 286kB 29.0MB/s eta 0:00:01\r\u001b[K     |███▉                            | 296kB 29.0MB/s eta 0:00:01\r\u001b[K     |████                            | 307kB 29.0MB/s eta 0:00:01\r\u001b[K     |████                            | 317kB 29.0MB/s eta 0:00:01\r\u001b[K     |████▏                           | 327kB 29.0MB/s eta 0:00:01\r\u001b[K     |████▍                           | 337kB 29.0MB/s eta 0:00:01\r\u001b[K     |████▌                           | 348kB 29.0MB/s eta 0:00:01\r\u001b[K     |████▋                           | 358kB 29.0MB/s eta 0:00:01\r\u001b[K     |████▊                           | 368kB 29.0MB/s eta 0:00:01\r\u001b[K     |████▉                           | 378kB 29.0MB/s eta 0:00:01\r\u001b[K     |█████                           | 389kB 29.0MB/s eta 0:00:01\r\u001b[K     |█████▏                          | 399kB 29.0MB/s eta 0:00:01\r\u001b[K     |█████▎                          | 409kB 29.0MB/s eta 0:00:01\r\u001b[K     |█████▍                          | 419kB 29.0MB/s eta 0:00:01\r\u001b[K     |█████▌                          | 430kB 29.0MB/s eta 0:00:01\r\u001b[K     |█████▋                          | 440kB 29.0MB/s eta 0:00:01\r\u001b[K     |█████▉                          | 450kB 29.0MB/s eta 0:00:01\r\u001b[K     |██████                          | 460kB 29.0MB/s eta 0:00:01\r\u001b[K     |██████                          | 471kB 29.0MB/s eta 0:00:01\r\u001b[K     |██████▏                         | 481kB 29.0MB/s eta 0:00:01\r\u001b[K     |██████▎                         | 491kB 29.0MB/s eta 0:00:01\r\u001b[K     |██████▍                         | 501kB 29.0MB/s eta 0:00:01\r\u001b[K     |██████▋                         | 512kB 29.0MB/s eta 0:00:01\r\u001b[K     |██████▊                         | 522kB 29.0MB/s eta 0:00:01\r\u001b[K     |██████▉                         | 532kB 29.0MB/s eta 0:00:01\r\u001b[K     |███████                         | 542kB 29.0MB/s eta 0:00:01\r\u001b[K     |███████                         | 552kB 29.0MB/s eta 0:00:01\r\u001b[K     |███████▎                        | 563kB 29.0MB/s eta 0:00:01\r\u001b[K     |███████▍                        | 573kB 29.0MB/s eta 0:00:01\r\u001b[K     |███████▌                        | 583kB 29.0MB/s eta 0:00:01\r\u001b[K     |███████▋                        | 593kB 29.0MB/s eta 0:00:01\r\u001b[K     |███████▊                        | 604kB 29.0MB/s eta 0:00:01\r\u001b[K     |███████▉                        | 614kB 29.0MB/s eta 0:00:01\r\u001b[K     |████████                        | 624kB 29.0MB/s eta 0:00:01\r\u001b[K     |████████▏                       | 634kB 29.0MB/s eta 0:00:01\r\u001b[K     |████████▎                       | 645kB 29.0MB/s eta 0:00:01\r\u001b[K     |████████▍                       | 655kB 29.0MB/s eta 0:00:01\r\u001b[K     |████████▌                       | 665kB 29.0MB/s eta 0:00:01\r\u001b[K     |████████▊                       | 675kB 29.0MB/s eta 0:00:01\r\u001b[K     |████████▉                       | 686kB 29.0MB/s eta 0:00:01\r\u001b[K     |█████████                       | 696kB 29.0MB/s eta 0:00:01\r\u001b[K     |█████████                       | 706kB 29.0MB/s eta 0:00:01\r\u001b[K     |█████████▏                      | 716kB 29.0MB/s eta 0:00:01\r\u001b[K     |█████████▎                      | 727kB 29.0MB/s eta 0:00:01\r\u001b[K     |█████████▌                      | 737kB 29.0MB/s eta 0:00:01\r\u001b[K     |█████████▋                      | 747kB 29.0MB/s eta 0:00:01\r\u001b[K     |█████████▊                      | 757kB 29.0MB/s eta 0:00:01\r\u001b[K     |█████████▉                      | 768kB 29.0MB/s eta 0:00:01\r\u001b[K     |██████████                      | 778kB 29.0MB/s eta 0:00:01\r\u001b[K     |██████████▏                     | 788kB 29.0MB/s eta 0:00:01\r\u001b[K     |██████████▎                     | 798kB 29.0MB/s eta 0:00:01\r\u001b[K     |██████████▍                     | 808kB 29.0MB/s eta 0:00:01\r\u001b[K     |██████████▌                     | 819kB 29.0MB/s eta 0:00:01\r\u001b[K     |██████████▋                     | 829kB 29.0MB/s eta 0:00:01\r\u001b[K     |██████████▊                     | 839kB 29.0MB/s eta 0:00:01\r\u001b[K     |███████████                     | 849kB 29.0MB/s eta 0:00:01\r\u001b[K     |███████████                     | 860kB 29.0MB/s eta 0:00:01\r\u001b[K     |███████████▏                    | 870kB 29.0MB/s eta 0:00:01\r\u001b[K     |███████████▎                    | 880kB 29.0MB/s eta 0:00:01\r\u001b[K     |███████████▍                    | 890kB 29.0MB/s eta 0:00:01\r\u001b[K     |███████████▋                    | 901kB 29.0MB/s eta 0:00:01\r\u001b[K     |███████████▊                    | 911kB 29.0MB/s eta 0:00:01\r\u001b[K     |███████████▉                    | 921kB 29.0MB/s eta 0:00:01\r\u001b[K     |████████████                    | 931kB 29.0MB/s eta 0:00:01\r\u001b[K     |████████████                    | 942kB 29.0MB/s eta 0:00:01\r\u001b[K     |████████████▏                   | 952kB 29.0MB/s eta 0:00:01\r\u001b[K     |████████████▍                   | 962kB 29.0MB/s eta 0:00:01\r\u001b[K     |████████████▌                   | 972kB 29.0MB/s eta 0:00:01\r\u001b[K     |████████████▋                   | 983kB 29.0MB/s eta 0:00:01\r\u001b[K     |████████████▊                   | 993kB 29.0MB/s eta 0:00:01\r\u001b[K     |████████████▉                   | 1.0MB 29.0MB/s eta 0:00:01\r\u001b[K     |█████████████                   | 1.0MB 29.0MB/s eta 0:00:01\r\u001b[K     |█████████████▏                  | 1.0MB 29.0MB/s eta 0:00:01\r\u001b[K     |█████████████▎                  | 1.0MB 29.0MB/s eta 0:00:01\r\u001b[K     |█████████████▍                  | 1.0MB 29.0MB/s eta 0:00:01\r\u001b[K     |█████████████▌                  | 1.1MB 29.0MB/s eta 0:00:01\r\u001b[K     |█████████████▋                  | 1.1MB 29.0MB/s eta 0:00:01\r\u001b[K     |█████████████▉                  | 1.1MB 29.0MB/s eta 0:00:01\r\u001b[K     |██████████████                  | 1.1MB 29.0MB/s eta 0:00:01\r\u001b[K     |██████████████                  | 1.1MB 29.0MB/s eta 0:00:01\r\u001b[K     |██████████████▏                 | 1.1MB 29.0MB/s eta 0:00:01\r\u001b[K     |██████████████▎                 | 1.1MB 29.0MB/s eta 0:00:01\r\u001b[K     |██████████████▌                 | 1.1MB 29.0MB/s eta 0:00:01\r\u001b[K     |██████████████▋                 | 1.1MB 29.0MB/s eta 0:00:01\r\u001b[K     |██████████████▊                 | 1.1MB 29.0MB/s eta 0:00:01\r\u001b[K     |██████████████▉                 | 1.2MB 29.0MB/s eta 0:00:01\r\u001b[K     |███████████████                 | 1.2MB 29.0MB/s eta 0:00:01\r\u001b[K     |███████████████                 | 1.2MB 29.0MB/s eta 0:00:01\r\u001b[K     |███████████████▎                | 1.2MB 29.0MB/s eta 0:00:01\r\u001b[K     |███████████████▍                | 1.2MB 29.0MB/s eta 0:00:01\r\u001b[K     |███████████████▌                | 1.2MB 29.0MB/s eta 0:00:01\r\u001b[K     |███████████████▋                | 1.2MB 29.0MB/s eta 0:00:01\r\u001b[K     |███████████████▊                | 1.2MB 29.0MB/s eta 0:00:01\r\u001b[K     |████████████████                | 1.2MB 29.0MB/s eta 0:00:01\r\u001b[K     |████████████████                | 1.2MB 29.0MB/s eta 0:00:01\r\u001b[K     |████████████████▏               | 1.3MB 29.0MB/s eta 0:00:01\r\u001b[K     |████████████████▎               | 1.3MB 29.0MB/s eta 0:00:01\r\u001b[K     |████████████████▍               | 1.3MB 29.0MB/s eta 0:00:01\r\u001b[K     |████████████████▌               | 1.3MB 29.0MB/s eta 0:00:01\r\u001b[K     |████████████████▊               | 1.3MB 29.0MB/s eta 0:00:01\r\u001b[K     |████████████████▉               | 1.3MB 29.0MB/s eta 0:00:01\r\u001b[K     |█████████████████               | 1.3MB 29.0MB/s eta 0:00:01\r\u001b[K     |█████████████████               | 1.3MB 29.0MB/s eta 0:00:01\r\u001b[K     |█████████████████▏              | 1.3MB 29.0MB/s eta 0:00:01\r\u001b[K     |█████████████████▍              | 1.4MB 29.0MB/s eta 0:00:01\r\u001b[K     |█████████████████▌              | 1.4MB 29.0MB/s eta 0:00:01\r\u001b[K     |█████████████████▋              | 1.4MB 29.0MB/s eta 0:00:01\r\u001b[K     |█████████████████▊              | 1.4MB 29.0MB/s eta 0:00:01\r\u001b[K     |█████████████████▉              | 1.4MB 29.0MB/s eta 0:00:01\r\u001b[K     |██████████████████              | 1.4MB 29.0MB/s eta 0:00:01\r\u001b[K     |██████████████████▏             | 1.4MB 29.0MB/s eta 0:00:01\r\u001b[K     |██████████████████▎             | 1.4MB 29.0MB/s eta 0:00:01\r\u001b[K     |██████████████████▍             | 1.4MB 29.0MB/s eta 0:00:01\r\u001b[K     |██████████████████▌             | 1.4MB 29.0MB/s eta 0:00:01\r\u001b[K     |██████████████████▋             | 1.5MB 29.0MB/s eta 0:00:01\r\u001b[K     |██████████████████▉             | 1.5MB 29.0MB/s eta 0:00:01\r\u001b[K     |███████████████████             | 1.5MB 29.0MB/s eta 0:00:01\r\u001b[K     |███████████████████             | 1.5MB 29.0MB/s eta 0:00:01\r\u001b[K     |███████████████████▏            | 1.5MB 29.0MB/s eta 0:00:01\r\u001b[K     |███████████████████▎            | 1.5MB 29.0MB/s eta 0:00:01\r\u001b[K     |███████████████████▍            | 1.5MB 29.0MB/s eta 0:00:01\r\u001b[K     |███████████████████▋            | 1.5MB 29.0MB/s eta 0:00:01\r\u001b[K     |███████████████████▊            | 1.5MB 29.0MB/s eta 0:00:01\r\u001b[K     |███████████████████▉            | 1.5MB 29.0MB/s eta 0:00:01\r\u001b[K     |████████████████████            | 1.6MB 29.0MB/s eta 0:00:01\r\u001b[K     |████████████████████            | 1.6MB 29.0MB/s eta 0:00:01\r\u001b[K     |████████████████████▎           | 1.6MB 29.0MB/s eta 0:00:01\r\u001b[K     |████████████████████▍           | 1.6MB 29.0MB/s eta 0:00:01\r\u001b[K     |████████████████████▌           | 1.6MB 29.0MB/s eta 0:00:01\r\u001b[K     |████████████████████▋           | 1.6MB 29.0MB/s eta 0:00:01\r\u001b[K     |████████████████████▊           | 1.6MB 29.0MB/s eta 0:00:01\r\u001b[K     |████████████████████▉           | 1.6MB 29.0MB/s eta 0:00:01\r\u001b[K     |█████████████████████           | 1.6MB 29.0MB/s eta 0:00:01\r\u001b[K     |█████████████████████▏          | 1.6MB 29.0MB/s eta 0:00:01\r\u001b[K     |█████████████████████▎          | 1.7MB 29.0MB/s eta 0:00:01\r\u001b[K     |█████████████████████▍          | 1.7MB 29.0MB/s eta 0:00:01\r\u001b[K     |█████████████████████▌          | 1.7MB 29.0MB/s eta 0:00:01\r\u001b[K     |█████████████████████▊          | 1.7MB 29.0MB/s eta 0:00:01\r\u001b[K     |█████████████████████▉          | 1.7MB 29.0MB/s eta 0:00:01\r\u001b[K     |██████████████████████          | 1.7MB 29.0MB/s eta 0:00:01\r\u001b[K     |██████████████████████          | 1.7MB 29.0MB/s eta 0:00:01\r\u001b[K     |██████████████████████▏         | 1.7MB 29.0MB/s eta 0:00:01\r\u001b[K     |██████████████████████▎         | 1.7MB 29.0MB/s eta 0:00:01\r\u001b[K     |██████████████████████▌         | 1.8MB 29.0MB/s eta 0:00:01\r\u001b[K     |██████████████████████▋         | 1.8MB 29.0MB/s eta 0:00:01\r\u001b[K     |██████████████████████▊         | 1.8MB 29.0MB/s eta 0:00:01\r\u001b[K     |██████████████████████▉         | 1.8MB 29.0MB/s eta 0:00:01\r\u001b[K     |███████████████████████         | 1.8MB 29.0MB/s eta 0:00:01\r\u001b[K     |███████████████████████▏        | 1.8MB 29.0MB/s eta 0:00:01\r\u001b[K     |███████████████████████▎        | 1.8MB 29.0MB/s eta 0:00:01\r\u001b[K     |███████████████████████▍        | 1.8MB 29.0MB/s eta 0:00:01\r\u001b[K     |███████████████████████▌        | 1.8MB 29.0MB/s eta 0:00:01\r\u001b[K     |███████████████████████▋        | 1.8MB 29.0MB/s eta 0:00:01\r\u001b[K     |███████████████████████▊        | 1.9MB 29.0MB/s eta 0:00:01\r\u001b[K     |████████████████████████        | 1.9MB 29.0MB/s eta 0:00:01\r\u001b[K     |████████████████████████        | 1.9MB 29.0MB/s eta 0:00:01\r\u001b[K     |████████████████████████▏       | 1.9MB 29.0MB/s eta 0:00:01\r\u001b[K     |████████████████████████▎       | 1.9MB 29.0MB/s eta 0:00:01\r\u001b[K     |████████████████████████▍       | 1.9MB 29.0MB/s eta 0:00:01\r\u001b[K     |████████████████████████▋       | 1.9MB 29.0MB/s eta 0:00:01\r\u001b[K     |████████████████████████▊       | 1.9MB 29.0MB/s eta 0:00:01\r\u001b[K     |████████████████████████▉       | 1.9MB 29.0MB/s eta 0:00:01\r\u001b[K     |█████████████████████████       | 1.9MB 29.0MB/s eta 0:00:01\r\u001b[K     |█████████████████████████       | 2.0MB 29.0MB/s eta 0:00:01\r\u001b[K     |█████████████████████████▏      | 2.0MB 29.0MB/s eta 0:00:01\r\u001b[K     |█████████████████████████▍      | 2.0MB 29.0MB/s eta 0:00:01\r\u001b[K     |█████████████████████████▌      | 2.0MB 29.0MB/s eta 0:00:01\r\u001b[K     |█████████████████████████▋      | 2.0MB 29.0MB/s eta 0:00:01\r\u001b[K     |█████████████████████████▊      | 2.0MB 29.0MB/s eta 0:00:01\r\u001b[K     |█████████████████████████▉      | 2.0MB 29.0MB/s eta 0:00:01\r\u001b[K     |██████████████████████████      | 2.0MB 29.0MB/s eta 0:00:01\r\u001b[K     |██████████████████████████▏     | 2.0MB 29.0MB/s eta 0:00:01\r\u001b[K     |██████████████████████████▎     | 2.0MB 29.0MB/s eta 0:00:01\r\u001b[K     |██████████████████████████▍     | 2.1MB 29.0MB/s eta 0:00:01\r\u001b[K     |██████████████████████████▌     | 2.1MB 29.0MB/s eta 0:00:01\r\u001b[K     |██████████████████████████▋     | 2.1MB 29.0MB/s eta 0:00:01\r\u001b[K     |██████████████████████████▉     | 2.1MB 29.0MB/s eta 0:00:01\r\u001b[K     |███████████████████████████     | 2.1MB 29.0MB/s eta 0:00:01\r\u001b[K     |███████████████████████████     | 2.1MB 29.0MB/s eta 0:00:01\r\u001b[K     |███████████████████████████▏    | 2.1MB 29.0MB/s eta 0:00:01\r\u001b[K     |███████████████████████████▎    | 2.1MB 29.0MB/s eta 0:00:01\r\u001b[K     |███████████████████████████▌    | 2.1MB 29.0MB/s eta 0:00:01\r\u001b[K     |███████████████████████████▋    | 2.2MB 29.0MB/s eta 0:00:01\r\u001b[K     |███████████████████████████▊    | 2.2MB 29.0MB/s eta 0:00:01\r\u001b[K     |███████████████████████████▉    | 2.2MB 29.0MB/s eta 0:00:01\r\u001b[K     |████████████████████████████    | 2.2MB 29.0MB/s eta 0:00:01\r\u001b[K     |████████████████████████████    | 2.2MB 29.0MB/s eta 0:00:01\r\u001b[K     |████████████████████████████▎   | 2.2MB 29.0MB/s eta 0:00:01\r\u001b[K     |████████████████████████████▍   | 2.2MB 29.0MB/s eta 0:00:01\r\u001b[K     |████████████████████████████▌   | 2.2MB 29.0MB/s eta 0:00:01\r\u001b[K     |████████████████████████████▋   | 2.2MB 29.0MB/s eta 0:00:01\r\u001b[K     |████████████████████████████▊   | 2.2MB 29.0MB/s eta 0:00:01\r\u001b[K     |█████████████████████████████   | 2.3MB 29.0MB/s eta 0:00:01\r\u001b[K     |█████████████████████████████   | 2.3MB 29.0MB/s eta 0:00:01\r\u001b[K     |█████████████████████████████▏  | 2.3MB 29.0MB/s eta 0:00:01\r\u001b[K     |█████████████████████████████▎  | 2.3MB 29.0MB/s eta 0:00:01\r\u001b[K     |█████████████████████████████▍  | 2.3MB 29.0MB/s eta 0:00:01\r\u001b[K     |█████████████████████████████▌  | 2.3MB 29.0MB/s eta 0:00:01\r\u001b[K     |█████████████████████████████▊  | 2.3MB 29.0MB/s eta 0:00:01\r\u001b[K     |█████████████████████████████▉  | 2.3MB 29.0MB/s eta 0:00:01\r\u001b[K     |██████████████████████████████  | 2.3MB 29.0MB/s eta 0:00:01\r\u001b[K     |██████████████████████████████  | 2.3MB 29.0MB/s eta 0:00:01\r\u001b[K     |██████████████████████████████▏ | 2.4MB 29.0MB/s eta 0:00:01\r\u001b[K     |██████████████████████████████▍ | 2.4MB 29.0MB/s eta 0:00:01\r\u001b[K     |██████████████████████████████▌ | 2.4MB 29.0MB/s eta 0:00:01\r\u001b[K     |██████████████████████████████▋ | 2.4MB 29.0MB/s eta 0:00:01\r\u001b[K     |██████████████████████████████▊ | 2.4MB 29.0MB/s eta 0:00:01\r\u001b[K     |██████████████████████████████▉ | 2.4MB 29.0MB/s eta 0:00:01\r\u001b[K     |███████████████████████████████ | 2.4MB 29.0MB/s eta 0:00:01\r\u001b[K     |███████████████████████████████▏| 2.4MB 29.0MB/s eta 0:00:01\r\u001b[K     |███████████████████████████████▎| 2.4MB 29.0MB/s eta 0:00:01\r\u001b[K     |███████████████████████████████▍| 2.4MB 29.0MB/s eta 0:00:01\r\u001b[K     |███████████████████████████████▌| 2.5MB 29.0MB/s eta 0:00:01\r\u001b[K     |███████████████████████████████▋| 2.5MB 29.0MB/s eta 0:00:01\r\u001b[K     |███████████████████████████████▉| 2.5MB 29.0MB/s eta 0:00:01\r\u001b[K     |████████████████████████████████| 2.5MB 29.0MB/s eta 0:00:01\r\u001b[K     |████████████████████████████████| 2.5MB 29.0MB/s \n",
            "\u001b[?25hRequirement already satisfied: filelock in /usr/local/lib/python3.7/dist-packages (from transformers[sentencepiece]) (3.0.12)\n",
            "Requirement already satisfied: packaging in /usr/local/lib/python3.7/dist-packages (from transformers[sentencepiece]) (20.9)\n",
            "Collecting tokenizers<0.11,>=0.10.1\n",
            "\u001b[?25l  Downloading https://files.pythonhosted.org/packages/d4/e2/df3543e8ffdab68f5acc73f613de9c2b155ac47f162e725dcac87c521c11/tokenizers-0.10.3-cp37-cp37m-manylinux_2_5_x86_64.manylinux1_x86_64.manylinux_2_12_x86_64.manylinux2010_x86_64.whl (3.3MB)\n",
            "\u001b[K     |████████████████████████████████| 3.3MB 41.0MB/s \n",
            "\u001b[?25hCollecting sacremoses\n",
            "\u001b[?25l  Downloading https://files.pythonhosted.org/packages/75/ee/67241dc87f266093c533a2d4d3d69438e57d7a90abb216fa076e7d475d4a/sacremoses-0.0.45-py3-none-any.whl (895kB)\n",
            "\u001b[K     |████████████████████████████████| 901kB 48.1MB/s \n",
            "\u001b[?25hRequirement already satisfied: regex!=2019.12.17 in /usr/local/lib/python3.7/dist-packages (from transformers[sentencepiece]) (2019.12.20)\n",
            "Requirement already satisfied: pyyaml in /usr/local/lib/python3.7/dist-packages (from transformers[sentencepiece]) (3.13)\n",
            "Requirement already satisfied: tqdm>=4.27 in /usr/local/lib/python3.7/dist-packages (from transformers[sentencepiece]) (4.41.1)\n",
            "Requirement already satisfied: importlib-metadata; python_version < \"3.8\" in /usr/local/lib/python3.7/dist-packages (from transformers[sentencepiece]) (4.5.0)\n",
            "Collecting huggingface-hub==0.0.12\n",
            "  Downloading https://files.pythonhosted.org/packages/2f/ee/97e253668fda9b17e968b3f97b2f8e53aa0127e8807d24a547687423fe0b/huggingface_hub-0.0.12-py3-none-any.whl\n",
            "Requirement already satisfied: requests in /usr/local/lib/python3.7/dist-packages (from transformers[sentencepiece]) (2.23.0)\n",
            "Requirement already satisfied: numpy>=1.17 in /usr/local/lib/python3.7/dist-packages (from transformers[sentencepiece]) (1.19.5)\n",
            "Collecting sentencepiece==0.1.91; extra == \"sentencepiece\"\n",
            "\u001b[?25l  Downloading https://files.pythonhosted.org/packages/f2/e2/813dff3d72df2f49554204e7e5f73a3dc0f0eb1e3958a4cad3ef3fb278b7/sentencepiece-0.1.91-cp37-cp37m-manylinux1_x86_64.whl (1.1MB)\n",
            "\u001b[K     |████████████████████████████████| 1.1MB 43.4MB/s \n",
            "\u001b[?25hRequirement already satisfied: protobuf; extra == \"sentencepiece\" in /usr/local/lib/python3.7/dist-packages (from transformers[sentencepiece]) (3.12.4)\n",
            "Requirement already satisfied: pyparsing>=2.0.2 in /usr/local/lib/python3.7/dist-packages (from packaging->transformers[sentencepiece]) (2.4.7)\n",
            "Requirement already satisfied: joblib in /usr/local/lib/python3.7/dist-packages (from sacremoses->transformers[sentencepiece]) (1.0.1)\n",
            "Requirement already satisfied: click in /usr/local/lib/python3.7/dist-packages (from sacremoses->transformers[sentencepiece]) (7.1.2)\n",
            "Requirement already satisfied: six in /usr/local/lib/python3.7/dist-packages (from sacremoses->transformers[sentencepiece]) (1.15.0)\n",
            "Requirement already satisfied: zipp>=0.5 in /usr/local/lib/python3.7/dist-packages (from importlib-metadata; python_version < \"3.8\"->transformers[sentencepiece]) (3.4.1)\n",
            "Requirement already satisfied: typing-extensions>=3.6.4; python_version < \"3.8\" in /usr/local/lib/python3.7/dist-packages (from importlib-metadata; python_version < \"3.8\"->transformers[sentencepiece]) (3.7.4.3)\n",
            "Requirement already satisfied: chardet<4,>=3.0.2 in /usr/local/lib/python3.7/dist-packages (from requests->transformers[sentencepiece]) (3.0.4)\n",
            "Requirement already satisfied: idna<3,>=2.5 in /usr/local/lib/python3.7/dist-packages (from requests->transformers[sentencepiece]) (2.10)\n",
            "Requirement already satisfied: certifi>=2017.4.17 in /usr/local/lib/python3.7/dist-packages (from requests->transformers[sentencepiece]) (2021.5.30)\n",
            "Requirement already satisfied: urllib3!=1.25.0,!=1.25.1,<1.26,>=1.21.1 in /usr/local/lib/python3.7/dist-packages (from requests->transformers[sentencepiece]) (1.24.3)\n",
            "Requirement already satisfied: setuptools in /usr/local/lib/python3.7/dist-packages (from protobuf; extra == \"sentencepiece\"->transformers[sentencepiece]) (57.0.0)\n",
            "Installing collected packages: tokenizers, sacremoses, huggingface-hub, sentencepiece, transformers\n",
            "Successfully installed huggingface-hub-0.0.12 sacremoses-0.0.45 sentencepiece-0.1.91 tokenizers-0.10.3 transformers-4.8.1\n"
          ],
          "name": "stdout"
        }
      ]
    },
    {
      "cell_type": "markdown",
      "metadata": {
        "id": "m25EQtJ5OZde"
      },
      "source": [
        "## Super easy NLP with the pipeline interface"
      ],
      "id": "m25EQtJ5OZde"
    },
    {
      "cell_type": "markdown",
      "metadata": {
        "id": "LHxNtFiROfp7"
      },
      "source": [
        "### Sentiment analysis in english"
      ],
      "id": "LHxNtFiROfp7"
    },
    {
      "cell_type": "code",
      "metadata": {
        "id": "e661b705"
      },
      "source": [
        "from transformers import pipeline"
      ],
      "id": "e661b705",
      "execution_count": 3,
      "outputs": []
    },
    {
      "cell_type": "code",
      "metadata": {
        "id": "e9aeebf9"
      },
      "source": [
        "classifier = pipeline(\"sentiment-analysis\")"
      ],
      "id": "e9aeebf9",
      "execution_count": 15,
      "outputs": []
    },
    {
      "cell_type": "code",
      "metadata": {
        "colab": {
          "base_uri": "https://localhost:8080/"
        },
        "id": "8f7a4b84",
        "outputId": "a849ad1f-96af-4ded-d028-f7344610569b"
      },
      "source": [
        "classifier([\"this is a great tutorial, thank you\", \n",
        "            \"your content just sucks\"])"
      ],
      "id": "8f7a4b84",
      "execution_count": 16,
      "outputs": [
        {
          "output_type": "execute_result",
          "data": {
            "text/plain": [
              "[{'label': 'POSITIVE', 'score': 0.9998582601547241},\n",
              " {'label': 'NEGATIVE', 'score': 0.9971919059753418}]"
            ]
          },
          "metadata": {
            "tags": []
          },
          "execution_count": 16
        }
      ]
    },
    {
      "cell_type": "code",
      "metadata": {
        "colab": {
          "base_uri": "https://localhost:8080/"
        },
        "id": "OSDcCBRJPemh",
        "outputId": "248709c6-1868-4e2e-e7e9-e7320cc41a68"
      },
      "source": [
        "classifier([\"Ton tuto est vraiment bien\", \n",
        "            \"il est complètement nul\"])"
      ],
      "id": "OSDcCBRJPemh",
      "execution_count": 21,
      "outputs": [
        {
          "output_type": "execute_result",
          "data": {
            "text/plain": [
              "[{'label': 'POSITIVE', 'score': 0.7650704979896545},\n",
              " {'label': 'POSITIVE', 'score': 0.8282670974731445}]"
            ]
          },
          "metadata": {
            "tags": []
          },
          "execution_count": 21
        }
      ]
    },
    {
      "cell_type": "markdown",
      "metadata": {
        "id": "PYcOi1RKOE-U"
      },
      "source": [
        "### Sentiment analysis in Dutch, German, French, Spanish and Italian\n",
        "\n",
        "Search the Hub for a french classification model: https://huggingface.co/models?filter=fr&pipeline_tag=text-classification&sort=downloads"
      ],
      "id": "PYcOi1RKOE-U"
    },
    {
      "cell_type": "code",
      "metadata": {
        "id": "YWk7fR2xOoqC"
      },
      "source": [
        "multilang_classifier = pipeline(\"sentiment-analysis\", \n",
        "                                model=\"nlptown/bert-base-multilingual-uncased-sentiment\")"
      ],
      "id": "YWk7fR2xOoqC",
      "execution_count": 18,
      "outputs": []
    },
    {
      "cell_type": "code",
      "metadata": {
        "colab": {
          "base_uri": "https://localhost:8080/"
        },
        "id": "h7-0_hM9N8_J",
        "outputId": "d8df0d08-af04-4894-e0f5-6180d48fa42d"
      },
      "source": [
        "multilang_classifier([\"Ton tuto est vraiment bien\", \n",
        "                      \"il est complètement nul\"])"
      ],
      "id": "h7-0_hM9N8_J",
      "execution_count": 20,
      "outputs": [
        {
          "output_type": "execute_result",
          "data": {
            "text/plain": [
              "[{'label': '5 stars', 'score': 0.5787978172302246},\n",
              " {'label': '1 star', 'score': 0.9223358035087585}]"
            ]
          },
          "metadata": {
            "tags": []
          },
          "execution_count": 20
        }
      ]
    },
    {
      "cell_type": "markdown",
      "metadata": {
        "id": "z2s3z9JMQTxU"
      },
      "source": [
        "### Translation "
      ],
      "id": "z2s3z9JMQTxU"
    },
    {
      "cell_type": "code",
      "metadata": {
        "colab": {
          "base_uri": "https://localhost:8080/",
          "height": 66,
          "referenced_widgets": [
            "f072932bff8f451fa4195c4b03f47a30",
            "d7cfb1313bf04012be7feb4dc3d8e589",
            "05c9ad0a15d3468499e4cffade48feff",
            "9a281e3494ad4579834d02399ee28aea",
            "fcf859ebb9424abd8b116b2665464372",
            "ed295f8f32564305a870f72d11bb7882",
            "b171b66b0df04293a8afbcb554fc0fc6",
            "abf4182b499343d181e08761a775bb14"
          ]
        },
        "id": "xCoOPS87Qomi",
        "outputId": "6938cde6-472f-4acf-a854-2edad3a7fefb"
      },
      "source": [
        "from transformers import AutoTokenizer, AutoModelForSeq2SeqLM\n",
        "  \n",
        "tokenizer = AutoTokenizer.from_pretrained(\"Helsinki-NLP/opus-mt-fr-en\")\n",
        "\n",
        "model = AutoModelForSeq2SeqLM.from_pretrained(\"Helsinki-NLP/opus-mt-fr-en\")"
      ],
      "id": "xCoOPS87Qomi",
      "execution_count": 112,
      "outputs": [
        {
          "output_type": "display_data",
          "data": {
            "application/vnd.jupyter.widget-view+json": {
              "model_id": "f072932bff8f451fa4195c4b03f47a30",
              "version_minor": 0,
              "version_major": 2
            },
            "text/plain": [
              "HBox(children=(FloatProgress(value=0.0, description='Downloading', max=300827685.0, style=ProgressStyle(descri…"
            ]
          },
          "metadata": {
            "tags": []
          }
        },
        {
          "output_type": "stream",
          "text": [
            "\n"
          ],
          "name": "stdout"
        }
      ]
    },
    {
      "cell_type": "code",
      "metadata": {
        "id": "-Ga15yJiRsYB"
      },
      "source": [
        "french = \"Ton tutoriel est vraiment bien\""
      ],
      "id": "-Ga15yJiRsYB",
      "execution_count": 127,
      "outputs": []
    },
    {
      "cell_type": "code",
      "metadata": {
        "colab": {
          "base_uri": "https://localhost:8080/"
        },
        "id": "9MmN9VIQT34R",
        "outputId": "6fc6c46d-b134-466c-c4e6-c90e86c50dc9"
      },
      "source": [
        "tokens = tokenizer.tokenize(french)\n",
        "tokens"
      ],
      "id": "9MmN9VIQT34R",
      "execution_count": 128,
      "outputs": [
        {
          "output_type": "execute_result",
          "data": {
            "text/plain": [
              "['▁Ton', '▁tutoriel', '▁est', '▁vraiment', '▁bien']"
            ]
          },
          "metadata": {
            "tags": []
          },
          "execution_count": 128
        }
      ]
    },
    {
      "cell_type": "code",
      "metadata": {
        "colab": {
          "base_uri": "https://localhost:8080/"
        },
        "id": "ah_vKPThTdhg",
        "outputId": "5912114b-ee80-4a47-b958-135daf4673c7"
      },
      "source": [
        "model_inputs = tokenizer(french, \n",
        "                         return_tensors=\"pt\", padding=True, truncation=True)\n",
        "model_inputs"
      ],
      "id": "ah_vKPThTdhg",
      "execution_count": 129,
      "outputs": [
        {
          "output_type": "execute_result",
          "data": {
            "text/plain": [
              "{'input_ids': tensor([[ 9923, 43821,    43,  1836,   229,     0]]), 'attention_mask': tensor([[1, 1, 1, 1, 1, 1]])}"
            ]
          },
          "metadata": {
            "tags": []
          },
          "execution_count": 129
        }
      ]
    },
    {
      "cell_type": "markdown",
      "metadata": {
        "id": "De_pnTB1ZhIF"
      },
      "source": [
        ""
      ],
      "id": "De_pnTB1ZhIF"
    },
    {
      "cell_type": "code",
      "metadata": {
        "colab": {
          "base_uri": "https://localhost:8080/"
        },
        "id": "1caqye2ZSCVs",
        "outputId": "0cd8bb82-af70-4026-afcd-321bf543ac44"
      },
      "source": [
        "outputs = model.generate(**model_inputs)\n",
        "decoded = tokenizer.decode(outputs[0], skip_special_tokens=True)\n",
        "print(decoded)"
      ],
      "id": "1caqye2ZSCVs",
      "execution_count": 130,
      "outputs": [
        {
          "output_type": "stream",
          "text": [
            "Your tutorial is really good.\n"
          ],
          "name": "stdout"
        }
      ]
    },
    {
      "cell_type": "code",
      "metadata": {
        "id": "zOzRY9GTSvuh"
      },
      "source": [
        ""
      ],
      "id": "zOzRY9GTSvuh",
      "execution_count": null,
      "outputs": []
    }
  ]
}